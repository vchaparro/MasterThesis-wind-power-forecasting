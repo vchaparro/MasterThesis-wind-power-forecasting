{
 "cells": [
  {
   "cell_type": "code",
   "execution_count": 1,
   "metadata": {},
   "outputs": [
    {
     "name": "stderr",
     "output_type": "stream",
     "text": [
      "c:\\users\\quark\\.conda\\envs\\tfm-env\\lib\\site-packages\\ipykernel\\ipkernel.py:287: DeprecationWarning: `should_run_async` will not call `transform_cell` automatically in the future. Please pass the result to `transformed_cell` argument and any exception that happen during thetransform in `preprocessing_exc_tuple` in IPython 7.17 and above.\n",
      "  and should_run_async(code)\n"
     ]
    }
   ],
   "source": [
    "%load_ext autoreload\n",
    "%autoreload 2\n",
    "import pandas as pd\n",
    "from functools import wraps\n",
    "from typing import Callable\n",
    "import time\n",
    "import logging\n",
    "import numpy as np\n",
    "from pathlib import Path\n",
    "import datetime as dt\n",
    "import os\n",
    "import re\n",
    "from metpy import calc\n",
    "from metpy.units import units\n",
    "import matplotlib.pyplot as plt\n",
    "from operational_analysis.toolkits import filters\n",
    "from operational_analysis.toolkits import power_curve"
   ]
  },
  {
   "cell_type": "code",
   "execution_count": 2,
   "metadata": {},
   "outputs": [],
   "source": [
    "X_train_raw = pd.read_csv('../data/01_raw/X_train_raw.csv', sep=',')\n",
    "X_train_raw['Time'] = pd.to_datetime(X_train_raw['Time'], format='%d/%m/%Y %H:%M')\n",
    "y_train_raw = pd.read_csv('../data/01_raw/y_train_raw.csv', sep=',')"
   ]
  },
  {
   "cell_type": "code",
   "execution_count": 3,
   "metadata": {},
   "outputs": [],
   "source": [
    "def _get_data_by_WF(wf: str):\n",
    "    # Load context\n",
    "    ctx = context\n",
    "\n",
    "    # Load data and feature names for the selected WF\n",
    "    if wf == \"WF1\":\n",
    "        X_train = ctx.catalog.load(\"X_train_pped_WF1\")\n",
    "        y_train = ctx.catalog.load(\"y_train_WF1\")\n",
    "        y_train = y_train[0]\n",
    "        X_test = ctx.catalog.load(\"X_test_pped_WF1\")\n",
    "        y_test = ctx.catalog.load(\"y_test_WF1\")\n",
    "        y_test = y_test[0]\n",
    "        feature_names = ctx.catalog.load(\"feature_names_WF1\")\n",
    "    elif wf == \"WF2\":\n",
    "        X_train = ctx.catalog.load(\"X_train_pped_WF2\")\n",
    "        y_train = ctx.catalog.load(\"y_train_WF2\")\n",
    "        y_train = y_train[0]\n",
    "        X_test = ctx.catalog.load(\"X_test_pped_WF2\")\n",
    "        y_test = ctx.catalog.load(\"y_test_WF2\")\n",
    "        y_test = y_test[0]\n",
    "        feature_names = ctx.catalog.load(\"feature_names_WF2\")\n",
    "    elif wf == \"WF3\":\n",
    "        X_train = ctx.catalog.load(\"X_train_pped_WF3\")\n",
    "        y_train = ctx.catalog.load(\"y_train_WF3\")\n",
    "        y_train = y_train[0]\n",
    "        X_test = ctx.catalog.load(\"X_test_pped_WF3\")\n",
    "        y_test = ctx.catalog.load(\"y_test_WF3\")\n",
    "        y_test = y_test[0]\n",
    "        feature_names = ctx.catalog.load(\"feature_names_WF3\")\n",
    "    elif wf == \"WF4\":\n",
    "        X_train = ctx.catalog.load(\"X_train_pped_WF4\")\n",
    "        y_train = ctx.catalog.load(\"y_train_WF4\")\n",
    "        y_train = y_train[0]\n",
    "        X_test = ctx.catalog.load(\"X_test_pped_WF4\")\n",
    "        y_test = ctx.catalog.load(\"y_test_WF4\")\n",
    "        y_test = y_test[0]\n",
    "        feature_names = ctx.catalog.load(\"feature_names_WF4\")\n",
    "    elif wf == \"WF5\":\n",
    "        X_train = ctx.catalog.load(\"X_train_pped_WF5\")\n",
    "        y_train = ctx.catalog.load(\"y_train_WF5\")\n",
    "        y_train = y_train[0]\n",
    "        X_test = ctx.catalog.load(\"X_test_pped_WF5\")\n",
    "        y_test = ctx.catalog.load(\"y_test_WF5\")\n",
    "        y_test = y_test[0]\n",
    "        feature_names = ctx.catalog.load(\"feature_names_WF5\")\n",
    "    elif wf == \"WF6\":\n",
    "        X_train = ctx.catalog.load(\"X_train_pped_WF6\")\n",
    "        y_train = ctx.catalog.load(\"y_train_WF6\")\n",
    "        y_train = y_train[0]\n",
    "        X_test = ctx.catalog.load(\"X_test_pped_WF6\")\n",
    "        y_test = ctx.catalog.load(\"y_test_WF6\")\n",
    "        y_test = y_test[0]\n",
    "        feature_names = ctx.catalog.load(\"feature_names_WF6\")\n",
    "\n",
    "    return X_train, y_train, X_test, y_test, feature_names"
   ]
  },
  {
   "cell_type": "code",
   "execution_count": 16,
   "metadata": {},
   "outputs": [
    {
     "name": "stdout",
     "output_type": "stream",
     "text": [
      "2020-09-16 23:45:20,054 - kedro.io.data_catalog - INFO - Loading data from `X_train_pped_WF1` (PickleDataSet)...\n",
      "2020-09-16 23:45:20,093 - kedro.io.data_catalog - INFO - Loading data from `y_train_WF1` (CSVDataSet)...\n",
      "2020-09-16 23:45:20,134 - kedro.io.data_catalog - INFO - Loading data from `X_test_pped_WF1` (PickleDataSet)...\n",
      "2020-09-16 23:45:20,275 - kedro.io.data_catalog - INFO - Loading data from `y_test_WF1` (CSVDataSet)...\n",
      "2020-09-16 23:45:20,314 - kedro.io.data_catalog - INFO - Loading data from `feature_names_WF1` (PickleDataSet)...\n"
     ]
    }
   ],
   "source": [
    "X_train = _get_data_by_WF('WF1')[0]"
   ]
  },
  {
   "cell_type": "code",
   "execution_count": 17,
   "metadata": {},
   "outputs": [
    {
     "data": {
      "text/plain": [
       "array([[ 1.00433633, -0.42048801,  0.34334213, ..., -1.29564491,\n",
       "        -0.43750059, -1.35650908],\n",
       "       [ 1.11204507, -0.85179573,  0.68601326, ..., -1.19869616,\n",
       "        -0.86292535, -1.27059732],\n",
       "       [ 1.10278425, -0.2270251 ,  0.98156884, ...,  0.30008652,\n",
       "        -0.23513156,  0.36102844],\n",
       "       ...,\n",
       "       [ 1.1120969 ,  1.48840504, -1.22914505, ...,  0.43647331,\n",
       "         1.54970412,  0.48933874],\n",
       "       [ 1.1120969 ,  1.39102572, -1.00919283, ...,  0.38728646,\n",
       "         1.45866532,  0.43751869],\n",
       "       [ 1.1120969 ,  1.32817052, -0.72163929, ...,  0.35237426,\n",
       "         1.39834232,  0.4004267 ]])"
      ]
     },
     "execution_count": 17,
     "metadata": {},
     "output_type": "execute_result"
    }
   ],
   "source": [
    "X_train"
   ]
  },
  {
   "cell_type": "markdown",
   "metadata": {},
   "source": [
    "## Pipeline "
   ]
  },
  {
   "cell_type": "code",
   "execution_count": 1,
   "metadata": {},
   "outputs": [
    {
     "name": "stderr",
     "output_type": "stream",
     "text": [
      "c:\\users\\quark\\.conda\\envs\\tfm-env\\lib\\site-packages\\ipykernel\\ipkernel.py:287: DeprecationWarning: `should_run_async` will not call `transform_cell` automatically in the future. Please pass the result to `transformed_cell` argument and any exception that happen during thetransform in `preprocessing_exc_tuple` in IPython 7.17 and above.\n",
      "  and should_run_async(code)\n"
     ]
    }
   ],
   "source": [
    "from kedro.pipeline import Pipeline, node\n",
    "from wind_power_forecasting.pipeline import fe\n",
    "\n"
   ]
  },
  {
   "cell_type": "code",
   "execution_count": 2,
   "metadata": {},
   "outputs": [
    {
     "data": {
      "text/plain": [
       "<function property.getter>"
      ]
     },
     "execution_count": 2,
     "metadata": {},
     "output_type": "execute_result"
    }
   ],
   "source": [
    "fe.Pipeline.nodes.getter"
   ]
  },
  {
   "cell_type": "code",
   "execution_count": 22,
   "metadata": {},
   "outputs": [],
   "source": [
    "test_node = de.nodes[0]"
   ]
  },
  {
   "cell_type": "code",
   "execution_count": null,
   "metadata": {
    "scrolled": false
   },
   "outputs": [],
   "source": [
    "test_node.run(dict(X_train_raw = X_train_raw, y_train_raw = y_train_raw, wf = 'WF1'))"
   ]
  },
  {
   "cell_type": "code",
   "execution_count": null,
   "metadata": {},
   "outputs": [],
   "source": [
    "def some_action():\n",
    "    print(\"This function came from `notebooks/my_notebook.ipynb`\")"
   ]
  },
  {
   "cell_type": "code",
   "execution_count": 1,
   "metadata": {},
   "outputs": [
    {
     "name": "stderr",
     "output_type": "stream",
     "text": [
      "c:\\users\\quark\\.conda\\envs\\tfm-env\\lib\\site-packages\\ipykernel\\ipkernel.py:287: DeprecationWarning: `should_run_async` will not call `transform_cell` automatically in the future. Please pass the result to `transformed_cell` argument and any exception that happen during thetransform in `preprocessing_exc_tuple` in IPython 7.17 and above.\n",
      "  and should_run_async(code)\n"
     ]
    },
    {
     "data": {
      "text/plain": [
       "<wind_power_forecasting.run.ProjectContext at 0x2060ef7a4e0>"
      ]
     },
     "execution_count": 1,
     "metadata": {},
     "output_type": "execute_result"
    }
   ],
   "source": [
    "context"
   ]
  },
  {
   "cell_type": "code",
   "execution_count": 2,
   "metadata": {
    "scrolled": false
   },
   "outputs": [
    {
     "name": "stdout",
     "output_type": "stream",
     "text": [
      "2020-09-13 11:29:10,059 - root - INFO - ** Kedro project Wind Power Forecasting\n",
      "2020-09-13 11:29:10,060 - root - INFO - Defined global variable `context` and `catalog`\n",
      "2020-09-13 11:29:10,065 - root - INFO - Registered line magic `run_viz`\n"
     ]
    }
   ],
   "source": [
    "%reload_kedro"
   ]
  },
  {
   "cell_type": "code",
   "execution_count": 14,
   "metadata": {},
   "outputs": [
    {
     "data": {
      "text/plain": [
       "{'folder': {'raw': './data/01_raw/',\n",
       "  'int': './data/02_intermediate/',\n",
       "  'pri': './data/03_primary/',\n",
       "  'fea': './data/04_feature/',\n",
       "  'minp': './data/05_model_input/',\n",
       "  'mdl': './data/06_models/',\n",
       "  'mout': './data/07_model_output/',\n",
       "  'rep': './data/08_reporting/'},\n",
       " 'wf': 'WF1',\n",
       " 'new_cols': ['NWP1_U',\n",
       "  'NWP1_V',\n",
       "  'NWP1_T',\n",
       "  'NWP2_U',\n",
       "  'NWP2_V',\n",
       "  'NWP3_U',\n",
       "  'NWP3_V',\n",
       "  'NWP3_T',\n",
       "  'NWP4_U',\n",
       "  'NWP4_V',\n",
       "  'NWP4_CLCT'],\n",
       " 'cols_to_interpol': ['NWP2_U',\n",
       "  'NWP2_V',\n",
       "  'NWP3_U',\n",
       "  'NWP3_V',\n",
       "  'NWP3_T',\n",
       "  'NWP4_CLCT'],\n",
       " 'fig_id': 'outliers',\n",
       " 'split_date': '2018-11-13 00:00:00',\n",
       " 'WF1': {'top_frac_max': 0.97,\n",
       "  'sparse_bin_width': 0.25,\n",
       "  'frac_std': 0.85,\n",
       "  'threshold_type': 'scalar',\n",
       "  'bottom_max': 6.0},\n",
       " 'WF2': {'top_frac_max': 0.97,\n",
       "  'sparse_bin_width': 0.15,\n",
       "  'frac_std': 0.8,\n",
       "  'threshold_type': 'scalar',\n",
       "  'bottom_max': 5.5},\n",
       " 'WF3': {'top_frac_max': 0.97,\n",
       "  'sparse_bin_width': 0.1,\n",
       "  'frac_std': 0.8,\n",
       "  'threshold_type': 'scalar',\n",
       "  'bottom_max': 5.5},\n",
       " 'WF4': {'top_frac_max': 0.97,\n",
       "  'sparse_bin_width': 0.1,\n",
       "  'frac_std': 0.95,\n",
       "  'threshold_type': 'scalar',\n",
       "  'bottom_max': 5.3},\n",
       " 'WF5': {'top_frac_max': 0.97,\n",
       "  'sparse_bin_width': 0.1,\n",
       "  'frac_std': 0.55,\n",
       "  'threshold_type': 'scalar',\n",
       "  'bottom_max': 5.0},\n",
       " 'WF6': {'top_frac_max': 0.97,\n",
       "  'sparse_bin_width': 0.05,\n",
       "  'frac_std': 1.0,\n",
       "  'threshold_type': 'std',\n",
       "  'bottom_max': 5.0},\n",
       " 'k_best': 'all',\n",
       " 'add_time_feat': True,\n",
       " 'add_cycl_feat': True,\n",
       " 'add_inv_T': True,\n",
       " 'add_interactions': True,\n",
       " 'algorithm': '',\n",
       " 'k_bests': 'list(range(1, 13))',\n",
       " 'n_splits': 7,\n",
       " 'hyperparameters': {'MARS': {'max_degree': [3, 4, 5],\n",
       "   'allow_linear': [False, True],\n",
       "   'penalty': [0.0, 1.0, 2.0, 3.0, 4.0, 5.0, 6.0]}}}"
      ]
     },
     "execution_count": 14,
     "metadata": {},
     "output_type": "execute_result"
    }
   ],
   "source": [
    "context.params"
   ]
  },
  {
   "cell_type": "code",
   "execution_count": 13,
   "metadata": {},
   "outputs": [
    {
     "data": {
      "text/plain": [
       "'MARS'"
      ]
     },
     "execution_count": 13,
     "metadata": {},
     "output_type": "execute_result"
    }
   ],
   "source": [
    "list(context.params.get(\"algorithm\").items())[0][0]"
   ]
  },
  {
   "cell_type": "code",
   "execution_count": 19,
   "metadata": {},
   "outputs": [
    {
     "data": {
      "text/plain": [
       "{'max_degree': [3, 4, 5],\n",
       " 'allow_linear': [False, True],\n",
       " 'penalty': [0.0, 1.0, 2.0, 3.0, 4.0, 5.0, 6.0]}"
      ]
     },
     "execution_count": 19,
     "metadata": {},
     "output_type": "execute_result"
    }
   ],
   "source": [
    "context.params.get(\"hyperparams\").get(\"mars\")"
   ]
  },
  {
   "cell_type": "code",
   "execution_count": 21,
   "metadata": {},
   "outputs": [
    {
     "name": "stdout",
     "output_type": "stream",
     "text": [
      "2020-09-13 21:46:05,842 - kedro.io.data_catalog - INFO - Loading data from `y_train_WF1` (CSVDataSet)...\n"
     ]
    },
    {
     "name": "stderr",
     "output_type": "stream",
     "text": [
      "c:\\users\\quark\\.conda\\envs\\tfm-env\\lib\\site-packages\\ipykernel\\ipkernel.py:287: DeprecationWarning: `should_run_async` will not call `transform_cell` automatically in the future. Please pass the result to `transformed_cell` argument and any exception that happen during thetransform in `preprocessing_exc_tuple` in IPython 7.17 and above.\n",
      "  and should_run_async(code)\n"
     ]
    }
   ],
   "source": [
    "y_train = context.catalog.load(\"y_train_WF1\")"
   ]
  },
  {
   "cell_type": "code",
   "execution_count": 33,
   "metadata": {},
   "outputs": [
    {
     "data": {
      "text/plain": [
       "pandas.core.series.Series"
      ]
     },
     "execution_count": 33,
     "metadata": {},
     "output_type": "execute_result"
    }
   ],
   "source": [
    "type(y_train[0])"
   ]
  },
  {
   "cell_type": "code",
   "execution_count": 25,
   "metadata": {},
   "outputs": [
    {
     "data": {
      "text/plain": [
       "array([0.02, 0.07, 0.22, ..., 8.35, 7.91, 4.67])"
      ]
     },
     "execution_count": 25,
     "metadata": {},
     "output_type": "execute_result"
    }
   ],
   "source": [
    "y_train.to_numpy().ravel()"
   ]
  },
  {
   "cell_type": "code",
   "execution_count": null,
   "metadata": {},
   "outputs": [],
   "source": []
  }
 ],
 "metadata": {
  "kernelspec": {
   "display_name": "WindPowerForecasting",
   "language": "python",
   "name": "python3"
  },
  "language_info": {
   "codemirror_mode": {
    "name": "ipython",
    "version": 3
   },
   "file_extension": ".py",
   "mimetype": "text/x-python",
   "name": "python",
   "nbconvert_exporter": "python",
   "pygments_lexer": "ipython3",
   "version": "3.7.1"
  }
 },
 "nbformat": 4,
 "nbformat_minor": 4
}
