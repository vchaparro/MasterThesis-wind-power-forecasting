{
 "cells": [
  {
   "cell_type": "markdown",
   "metadata": {},
   "source": [
    "# Wind Power forecasting for the day-ahead energy market\n",
    "### by Compagnie Nationale du Rhône (CNR)"
   ]
  },
  {
   "cell_type": "markdown",
   "metadata": {},
   "source": [
    "#  Table of Contents\n",
    "* [Framing the Problem](#frame_problem)\n",
    "    - [Context](#context)\n",
    "    - [Goal](#goal)\n",
    "    - [Data description](#data_des)\n",
    "        - [Complementary data](#comp_data)\n",
    "        - [Metric](#metric)\n",
    "* [Getting the Data](#getting_data)\n",
    "    - [Converting the data](#convertion)\n",
    "    - [Data split in traning and test sets](#train_test)"
   ]
  },
  {
   "cell_type": "markdown",
   "metadata": {},
   "source": [
    "# Framing the Problem\n",
    "<a id=\"frame_problem\"></a>\n",
    "\n",
    "## Context\n",
    "<a id=\"context\"></a>\n",
    "CNR is the French leading producer of exclusively renewable energy (water, wind, sun) and the concessionary of the Rhone river for hydroelectricity production, river navigation and irrigation for agricultural use. This challenge focuses on wind energy production forecast. CNR currently owns around 50 Wind Farms (WF) for a total installed capacity of more than 600 MW. Every day, CNR sells on the energy market its wind energy production for the day ahead. In order to sell the right amount of energy, as well as for legal requirements towards the French Transmission System Operator (TSO) in charge of the electric network stability, CNR needs to know beforehand how much energy the wind farms will produce the day ahead.\n",
    "\n",
    "## Goal\n",
    "<a id=\"goal\"></a>\n",
    "The goal of this challenge is to predict the energy production of six wind farms (WF) owned by CNR. Each WF production will be individually predicted, using meteorological forecasts as input. Predictions will focus on the day-ahead energy production (hourly production forecasts from day D+1 00h to day D+2 00h).\n",
    "\n",
    "## Data Description\n",
    "<a id=\"data_desc\"></a>\n",
    "\n",
    "The competitors will have access to the six WF hourly production data from May the 1st of 2018 to January the 15th of 2019 (8 months and 15 days). This defines the training dataset, since day-ahead WF hourly production is the prediction target (predictand). Provided hourly WF power production consists in the raw recordings of the DSO (Distribution System Operator), and should therefore be considered as a reference, even if it could contain erroneous or suspect data. The choice is left to competitors to criticize or not this data, using complementary data provided apart.\n",
    "\n",
    "For both training and test periods, predicting variables (predictors) will be given. It consists in hourly forecasted meteorological variables, provided by various Numerical Weather Prediction (NWP) models. NWP models are meteorological models run by several national weather prediction services. For confidentiality reasons, the name of the NWP models will not appear. They will be named with generic names NWP1, ... , NWPn.\n",
    "\n",
    "Here is a description of all data provided in the input csv files:\n",
    "\n",
    "- *ID*: This is the unique ID of each row in the csv files. One ID correspond to a couple Time / WF. The ID of the test set are consecutive to the ID of the training set.\n",
    "\n",
    "- *WF*: The considered Wind Farm. WF ranges from WF1 to WF6. It is crucial for the competitors to be aware that this prediction problem is totally dependent to the WF considered. In other words, the statistical link between input variables and wind power production is completely different from one WF to another. Consequently, **it could be judicious to train specific prediction algorithms for each WF, instead of training a unique algorithm which could be unable to model the behavior of each WF**.\n",
    "\n",
    "- *Time* (UTC): date and hour of the target timestep, i.e. corresponding to the observed Power production. Time zone is Coordinated Universal Time (UTC).\n",
    "\n",
    "- *Meteorological variables*: Numerical Weather Predictions are provided by meteorological centers several times a day (updates), typically at 00h UTC, 06h UTC, 12h UTC and 18h UTC. We call these sets of forecasts \"Runs\". Consequently, if the input file contains forecasts arising from several runs, this implies that a single NWP is associated with several forecasts for the same forecasting time. Therefore, the information on the hour of run is provided.\n",
    "\n",
    "The format of the header of the csv files for the meteorological variables is the following: *NWPi_HourOfTheRun_DayOfTheRun_Variable*, with:\n",
    "\n",
    "- *NWPi*: the considered Numerical Weather Prediction model (meteorological model);\n",
    "\n",
    "- *HourOfTheRun*: the hour (UTC) of the considered run. According to the NWP, it could be 00h, 06h, 12h and 18h (case of NWP with 4 runs per day) or only 00h and 12h (case of NWP with 2 runs per day);\n",
    "\n",
    "- *DayOfTheRun*: the day of the considered run. We provide in the csv files predictions from the D-2 day runs (the day before yesterday), D-1 day runs (yesterday) and D day runs;\n",
    "\n",
    "- *Variable*: the different meteorological variables forecasted by the NWP:\n",
    "\n",
    "    - *U* and *V* components of the wind at 100m (or 10m) height (m/s). These are the zonal and meridional velocities of the wind, respectively. Both are given at a height of 100m above ground for NWP1, NWP2 and NWP3. U and V are given at a height of 10m for NWP4. Even if these variables are given at hourly timestep, **we draw competitors attention on the fact that the temporal representativity of the given values is for a 10-minutes window ranging from H-10 min to H**.\n",
    "\n",
    "    - *T*: Temperature of air (°C). This is the averaged temperature over the entire hour (from H-1 to H). Wind power production is sensitive to air temperature since it affects the air density. This variable is provided only for NWP1 and NWP3.\n",
    "\n",
    "    - *CLCT*: Total cloud cover (%).This is the total cloud cover of the sky, ranging from 0% (clear sky, no cloud) to 100% (fully clouded sky). The value is an instant value at hour H. This variable is provided only for NWP4.\n",
    "\n",
    "    - *Observed Power Production (MW or MW.h)*: this is the observed total amount of energy injected by the WF to the electric network over the entire hour H-1 to H (MW.h). Equivalently, we can consider that this is the mean power output of the WF observed between H-1 and H (MW).\n",
    "\n",
    "### Complementary data\n",
    "<a id=\"comp_data\"></a>\n",
    "\n",
    "We provide complementary data in the `.zip` supplementary files. These data may be used by the competitors to prepare or criticize WF hourly production data, but they are not predictors. The file `WindFarms_complementary_data.csv` contains the following hourly variables:\n",
    "\n",
    "* Average power output for each wind turbine of the WF (MW)\n",
    "\n",
    "* Cumulated energy produced by each wind turbine (MWh). This value could differ from the hourly average power output when the considered turbine has not been operational during the entire hour.\n",
    "\n",
    "* Observed average wind direction at hub (nacelle) height for each wind turbine (°, from 0 to 359)\n",
    "\n",
    "* Observed average wind speed at hub (nacelle) height for each wind turbine (m/s)\n",
    "\n",
    "* Observed average nacelle direction for each wind turbine (°, from 0 to 359)\n",
    "\n",
    "* Observed average rotational speed of each wind turbine (s$^{-1}$)\n",
    "\n",
    "### Metric\n",
    "<a id=\"metric\"></a>\n",
    "\n",
    "The metric used to rank the predicting performance is a relative form of the absolute error. We call it the CAPE (Cumulated Absolute Percentage Error). The formulation of CAPE for one WF would be the following:\n",
    "\n",
    "$\\text{CAPE}_{k}\\left( {\\widehat{Y}}_{k},Y_{k} \\right) = 100 \\times \\frac{\\sum_{i = 1}^{N_{k}}\\left| Y_{i,k} - {\\widehat{Y}}_{i,k} \\right|}{\\sum_{i = 1}^{N_{k}}Y_{i,k}}$\n",
    "\n",
    "With $\\text{CAPE}_{k}$ the metric for the WF $k$ (%),\n",
    "$N_{k}$ the length of the test sample for WF $k$ only,\n",
    "$Y_{i,k}$ the observed production for WF $k$ and hour $i$ (MW or MW.h),\n",
    "and $\\widehat{Y}_{i,k}$ the predicted production for WF $k$ and hour $i$ (MW or MW.h).\n",
    "\n",
    "For convenience reasons, data relative to the 6 WF have been regrouped in the same train and test input files. Therefore, the metric used in the challenge is the overall average CAPE for the 6 WF, calculated as:\n",
    "\n",
    "$\\text{CAPE}\\left( \\widehat{Y},Y \\right) = 100 \\times \\frac{\\sum_{i = 1}^{M}\\left| Y_{i} - {\\widehat{Y}}_{i} \\right|}{\\sum_{i = 1}^{M}Y_{i}}$\n",
    "\n",
    "With $M$ the length of the test sample for all the 6 WF ($M$ is the sum of $N_{k}$ for all $k$).\n",
    "\n",
    "This formulation results in a non-homogeneous contribution of all the WF to the final value of CAPE: CAPE will be more sensitive to WF with the highest energy production values."
   ]
  },
  {
   "cell_type": "code",
   "execution_count": null,
   "metadata": {},
   "outputs": [],
   "source": [
    "# Libraries\n",
    "%load_ext autoreload\n",
    "%autoreload 2\n",
    "\n",
    "# Common libraries\n",
    "import numpy as np\n",
    "import pandas as pd\n",
    "import os\n",
    "import datetime as dt\n",
    "\n",
    "# Graphics\n",
    "%matplotlib inline\n",
    "import matplotlib as mpl\n",
    "import matplotlib.pyplot as plt\n",
    "import matplotlib.cm as cm\n",
    "import seaborn as sns\n",
    "import plotly as pty\n",
    "import plotly.graph_objs as go\n",
    "from plotly.subplots import make_subplots\n",
    "from plotly.offline import download_plotlyjs, init_notebook_mode, plot, iplot\n",
    "import cufflinks as cf\n",
    "cf.set_config_file(offline=True)\n",
    "\n",
    "import re\n",
    "from collections import OrderedDict\n",
    "\n",
    "# Save images \n",
    "DIR = \"../../TFM/reports/figures/\"\n",
    "WF = \"WF1\"\n",
    "IMAGES_PATH = os.path.join(DIR, WF)\n",
    "os.makedirs(IMAGES_PATH, exist_ok=True)\n",
    "\n",
    "def save_fig(fig_id, tight_layout=True, fig_extension=\"png\", resolution=300):\n",
    "    path = os.path.join(IMAGES_PATH, fig_id + \".\" + fig_extension)\n",
    "    print(\"Saving figure\", fig_id)\n",
    "    if tight_layout:\n",
    "        plt.tight_layout()\n",
    "    plt.savefig(path, format=fig_extension, dpi=resolution)\n",
    "\n",
    "# Ignore warnings (SciPy issue #5998)\n",
    "import warnings\n",
    "warnings.filterwarnings(action=\"ignore\", message=\"^internal gelsd\")\n"
   ]
  },
  {
   "cell_type": "code",
   "execution_count": null,
   "metadata": {},
   "outputs": [],
   "source": [
    "# Import data\n",
    "X_train = context.catalog.load(\"X_train_raw\")\n",
    "Y_train = context.catalog.load(\"y_train_raw\")\n",
    "X_test = context.catalog.load(\"X_test_raw\")\n",
    "# extra_data = pd.read_csv('../data/external/WindFarms_complementary_data.csv', sep=';', parse_dates=['Time (UTC)'])\n",
    "\n",
    "# Parse dates\n",
    "dateparse = lambda x: pd.datetime.strptime(x, '%d/%m/%Y %H:%M')\n",
    "X_train['Time'] = pd.to_datetime(X_train['Time'], format='%d/%m/%Y %H:%M')\n",
    "X_test['Time'] = pd.to_datetime(X_test['Time'], format='%d/%m/%Y %H:%M')"
   ]
  },
  {
   "cell_type": "code",
   "execution_count": null,
   "metadata": {},
   "outputs": [],
   "source": [
    "%store X_train\n",
    "%store Y_train"
   ]
  },
  {
   "cell_type": "markdown",
   "metadata": {},
   "source": [
    "### Data split into training and test sets\n",
    "<a id=\"train_test\" />"
   ]
  },
  {
   "cell_type": "markdown",
   "metadata": {},
   "source": [
    "In order to test the models localy, before making submissions to the challenge, we're splitting `train` dataframe created above, into traning and test dataframes. We'll get for testing the last two days of `Time` column for all the WF's; the rest of the `training` dataframe will be for traning."
   ]
  },
  {
   "cell_type": "code",
   "execution_count": null,
   "metadata": {},
   "outputs": [],
   "source": [
    "def split_data_by_date(date, X, y):\n",
    "    \"\"\"\n",
    "    It splits X and y sets by a 'Time' value \n",
    "    into sets for training and testing. \n",
    "        - Return: a dictionary with the four sets\n",
    "                  (X_train, y_train, X_test, y_test)\n",
    "    \"\"\"\n",
    "    sets = {}\n",
    "    date_cut = dt.datetime.strptime(date, '%Y-%m-%d %H:%M:%S')\n",
    "    \n",
    "    X_test = X[X['Time'] > date_cut]\n",
    "    X_train = X[X['Time'] <= date_cut]\n",
    "    y_train = y[y.ID.isin(X_train.ID)]\n",
    "    y_test = y[y.ID.isin(X_test.ID)]\n",
    "    \n",
    "    sets['X_train'] = X_train\n",
    "    sets['X_test'] = X_test\n",
    "    sets['y_train'] = y_train\n",
    "    sets['y_test'] = y_test\n",
    "    \n",
    "    return sets"
   ]
  },
  {
   "cell_type": "code",
   "execution_count": null,
   "metadata": {},
   "outputs": [],
   "source": [
    "train_test_dfs = split_data_by_date('2018-11-13 23:00:00', X_train, Y_train)\n",
    "X_train_2 = train_test_dfs.get('X_train')\n",
    "X_test_2 = train_test_dfs.get('X_test')\n",
    "Y_train_2 = train_test_dfs.get('y_train')\n",
    "Y_test_2 = train_test_dfs.get('y_test')"
   ]
  },
  {
   "cell_type": "code",
   "execution_count": null,
   "metadata": {
    "scrolled": false
   },
   "outputs": [],
   "source": [
    "X_train_2.tail()"
   ]
  },
  {
   "cell_type": "code",
   "execution_count": null,
   "metadata": {},
   "outputs": [],
   "source": [
    "X_test_2.head()"
   ]
  },
  {
   "cell_type": "code",
   "execution_count": null,
   "metadata": {},
   "outputs": [],
   "source": [
    "X_test_2.tail()"
   ]
  },
  {
   "cell_type": "code",
   "execution_count": null,
   "metadata": {},
   "outputs": [],
   "source": [
    "Y_train_2"
   ]
  },
  {
   "cell_type": "code",
   "execution_count": null,
   "metadata": {},
   "outputs": [],
   "source": [
    "Y_train_2['Production'].describe()"
   ]
  },
  {
   "cell_type": "code",
   "execution_count": null,
   "metadata": {},
   "outputs": [],
   "source": [
    "Y_test_2.head()"
   ]
  },
  {
   "cell_type": "code",
   "execution_count": null,
   "metadata": {},
   "outputs": [],
   "source": [
    "%store X_train_2\n",
    "%store Y_train_2\n",
    "%store X_test_2\n",
    "%store Y_test_2"
   ]
  }
 ],
 "metadata": {
  "kernelspec": {
   "display_name": "WindPowerForecasting",
   "language": "python",
   "name": "python3"
  },
  "language_info": {
   "codemirror_mode": {
    "name": "ipython",
    "version": 3
   },
   "file_extension": ".py",
   "mimetype": "text/x-python",
   "name": "python",
   "nbconvert_exporter": "python",
   "pygments_lexer": "ipython3",
   "version": "3.7.8"
  }
 },
 "nbformat": 4,
 "nbformat_minor": 4
}
