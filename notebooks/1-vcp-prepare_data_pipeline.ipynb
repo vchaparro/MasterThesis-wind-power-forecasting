{
 "cells": [
  {
   "cell_type": "code",
   "execution_count": 1,
   "metadata": {},
   "outputs": [
    {
     "name": "stderr",
     "output_type": "stream",
     "text": [
      "c:\\users\\quark\\.conda\\envs\\tfm-env\\lib\\site-packages\\ipykernel\\ipkernel.py:287: DeprecationWarning: `should_run_async` will not call `transform_cell` automatically in the future. Please pass the result to `transformed_cell` argument and any exception that happen during thetransform in `preprocessing_exc_tuple` in IPython 7.17 and above.\n",
      "  and should_run_async(code)\n"
     ]
    }
   ],
   "source": [
    "%load_ext autoreload\n",
    "%autoreload 2\n",
    "import pandas as pd\n",
    "from functools import wraps\n",
    "from typing import Callable\n",
    "import time\n",
    "import logging\n",
    "import numpy as np\n",
    "from pathlib import Path\n",
    "import datetime as dt\n",
    "import os\n",
    "import re\n",
    "from metpy import calc\n",
    "from metpy.units import units\n",
    "import matplotlib.pyplot as plt\n",
    "from operational_analysis.toolkits import filters\n",
    "from operational_analysis.toolkits import power_curve"
   ]
  },
  {
   "cell_type": "code",
   "execution_count": 2,
   "metadata": {},
   "outputs": [],
   "source": [
    "X_train_raw = pd.read_csv('../data/01_raw/X_train_raw.csv', sep=',')\n",
    "X_train_raw['Time'] = pd.to_datetime(X_train_raw['Time'], format='%d/%m/%Y %H:%M')\n",
    "y_train_raw = pd.read_csv('../data/01_raw/y_train_raw.csv', sep=',')"
   ]
  },
  {
   "cell_type": "markdown",
   "metadata": {},
   "source": [
    "## Pipeline "
   ]
  },
  {
   "cell_type": "code",
   "execution_count": 28,
   "metadata": {},
   "outputs": [
    {
     "name": "stderr",
     "output_type": "stream",
     "text": [
      "c:\\users\\quark\\.conda\\envs\\tfm-env\\lib\\site-packages\\ipykernel\\ipkernel.py:287: DeprecationWarning: `should_run_async` will not call `transform_cell` automatically in the future. Please pass the result to `transformed_cell` argument and any exception that happen during thetransform in `preprocessing_exc_tuple` in IPython 7.17 and above.\n",
      "  and should_run_async(code)\n"
     ]
    }
   ],
   "source": [
    "from kedro.pipeline import Pipeline, node\n",
    "from wind_power_forecasting.pipeline import fe\n",
    "\n"
   ]
  },
  {
   "cell_type": "code",
   "execution_count": 36,
   "metadata": {},
   "outputs": [
    {
     "name": "stderr",
     "output_type": "stream",
     "text": [
      "c:\\users\\quark\\.conda\\envs\\tfm-env\\lib\\site-packages\\ipykernel\\ipkernel.py:287: DeprecationWarning: `should_run_async` will not call `transform_cell` automatically in the future. Please pass the result to `transformed_cell` argument and any exception that happen during thetransform in `preprocessing_exc_tuple` in IPython 7.17 and above.\n",
      "  and should_run_async(code)\n"
     ]
    },
    {
     "data": {
      "text/plain": [
       "<function property.getter>"
      ]
     },
     "execution_count": 36,
     "metadata": {},
     "output_type": "execute_result"
    }
   ],
   "source": [
    "fe.Pipeline.nodes.getter"
   ]
  },
  {
   "cell_type": "code",
   "execution_count": 22,
   "metadata": {},
   "outputs": [],
   "source": [
    "test_node = de.nodes[0]"
   ]
  },
  {
   "cell_type": "code",
   "execution_count": null,
   "metadata": {
    "scrolled": false
   },
   "outputs": [],
   "source": [
    "test_node.run(dict(X_train_raw = X_train_raw, y_train_raw = y_train_raw, wf = 'WF1'))"
   ]
  },
  {
   "cell_type": "code",
   "execution_count": null,
   "metadata": {},
   "outputs": [],
   "source": [
    "def some_action():\n",
    "    print(\"This function came from `notebooks/my_notebook.ipynb`\")"
   ]
  }
 ],
 "metadata": {
  "kernelspec": {
   "display_name": "WindPowerForecasting",
   "language": "python",
   "name": "python3"
  },
  "language_info": {
   "codemirror_mode": {
    "name": "ipython",
    "version": 3
   },
   "file_extension": ".py",
   "mimetype": "text/x-python",
   "name": "python",
   "nbconvert_exporter": "python",
   "pygments_lexer": "ipython3",
   "version": "3.7.1"
  }
 },
 "nbformat": 4,
 "nbformat_minor": 4
}
