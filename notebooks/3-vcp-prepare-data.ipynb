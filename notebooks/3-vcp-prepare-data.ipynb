{
 "cells": [
  {
   "cell_type": "markdown",
   "metadata": {},
   "source": [
    "# Index\n",
    "\n",
    "* [Data Preparation](#data_prepare)\n",
    "    - [Missing Values](#missing_values)\n",
    "    - [Feature Engineering](#feat_engineering)\n",
    "        - [Wind Velocity related features](#wind_feat)\n",
    "        - [Time related features](#time_feat)\n",
    "        - [EDA of new features](#new_feat_eda)\n",
    "        - [Feature Importance](#feat_importance)\n",
    "        - [Feature transformations](#feat_transformation)\n",
    "    - [Target transformation](#target_transfomation)\n",
    "    - [Outliers and abnormal data](#outliers)\n",
    "    - [Best Numerical Weather Predictor](#bestnwp)"
   ]
  },
  {
   "cell_type": "code",
   "execution_count": 1,
   "metadata": {},
   "outputs": [
    {
     "name": "stderr",
     "output_type": "stream",
     "text": [
      "C:\\Users\\Quark\\.conda\\envs\\TFM-env\\lib\\site-packages\\ipykernel\\ipkernel.py:287: DeprecationWarning:\n",
      "\n",
      "`should_run_async` will not call `transform_cell` automatically in the future. Please pass the result to `transformed_cell` argument and any exception that happen during thetransform in `preprocessing_exc_tuple` in IPython 7.17 and above.\n",
      "\n"
     ]
    },
    {
     "data": {
      "text/html": [
       "        <script type=\"text/javascript\">\n",
       "        window.PlotlyConfig = {MathJaxConfig: 'local'};\n",
       "        if (window.MathJax) {MathJax.Hub.Config({SVG: {font: \"STIX-Web\"}});}\n",
       "        if (typeof require !== 'undefined') {\n",
       "        require.undef(\"plotly\");\n",
       "        requirejs.config({\n",
       "            paths: {\n",
       "                'plotly': ['https://cdn.plot.ly/plotly-latest.min']\n",
       "            }\n",
       "        });\n",
       "        require(['plotly'], function(Plotly) {\n",
       "            window._Plotly = Plotly;\n",
       "        });\n",
       "        }\n",
       "        </script>\n",
       "        "
      ]
     },
     "metadata": {},
     "output_type": "display_data"
    }
   ],
   "source": [
    "# Libraries\n",
    "\n",
    "%load_ext autoreload\n",
    "%autoreload 2\n",
    "%matplotlib inline\n",
    "\n",
    "import os\n",
    "import pandas as pd\n",
    "import numpy as np\n",
    "import datetime as dt\n",
    "import gc\n",
    "import missingno as msno\n",
    "import pandas_profiling\n",
    "import statsmodels as sm\n",
    "from statsmodels.tsa.seasonal import seasonal_decompose\n",
    "import random\n",
    "\n",
    "#visualization\n",
    "import matplotlib.pyplot as plt\n",
    "import seaborn as sns\n",
    "import plotly as pty\n",
    "import re\n",
    "\n",
    "import plotly.graph_objs as go\n",
    "from plotly.subplots import make_subplots\n",
    "from plotly.offline import download_plotlyjs, init_notebook_mode, plot, iplot\n",
    "import cufflinks as cf\n",
    "cf.set_config_file(offline=True)"
   ]
  },
  {
   "cell_type": "markdown",
   "metadata": {},
   "source": [
    "# Data Preparation\n",
    "<a id=\"data_prepare\"></a>\n",
    "\n",
    "We'll create a pipeline with scikit learn to perform the data preparation including the transformations identified in EDA, recall here:\n",
    "* Input missing values\n",
    "* Create new features:\n",
    "    - Wind related features\n",
    "        - Wind velocity module.\n",
    "        - Wind direction.\n",
    "        - Wind velocity escaled to heigth of the turbine. We can calculate it by using the *Hellmann power equation*:\n",
    "    \n",
    "            $$u(z) = u(z_0)\\left(\\frac{z}{z_0}\\right)^{\\alpha},$$ \n",
    "      \n",
    "          with $\\alpha = 1/7$, $z_0 = 100$ or $10$ meters, depending on the NWP data, and $z = 50$ m, the height of the \n",
    "          turbines.\n",
    "          \n",
    "    - Date time future enconding to capture seasonality:\n",
    "        - Diurnal variations of average wind speeds (hour feature).\n",
    "        - Monthly variations of averge wind speeds  (month feature).\n",
    "\n",
    "\n",
    "* Stardard Scaling of variables\n",
    "* Temperature `T` in $^\\text{o}$C instead of Kelvin\n",
    "* Outliers and abnormal data:\n",
    "    - Abnormal data: `CLCT` negative values.\n",
    "    - Outliers: using power curve as a reference to deal with typical outlier types in this context:\n",
    "        - Data points in low wind speed period with high power generation.\n",
    "        - Data points with negtative value wind speed.\n",
    "        - Data points with negative valu power generation.\n",
    "        - Data points with low power generation at high wind speed period.\n",
    "* Feature selection"
   ]
  },
  {
   "cell_type": "code",
   "execution_count": 2,
   "metadata": {},
   "outputs": [
    {
     "name": "stderr",
     "output_type": "stream",
     "text": [
      "C:\\Users\\Quark\\.conda\\envs\\TFM-env\\lib\\site-packages\\ipykernel\\ipkernel.py:287: DeprecationWarning:\n",
      "\n",
      "`should_run_async` will not call `transform_cell` automatically in the future. Please pass the result to `transformed_cell` argument and any exception that happen during thetransform in `preprocessing_exc_tuple` in IPython 7.17 and above.\n",
      "\n"
     ]
    },
    {
     "name": "stdout",
     "output_type": "stream",
     "text": [
      "2020-10-09 20:59:30,429 - kedro.io.data_catalog - INFO - Loading data from `df_WF1` (CSVDataSet)...\n"
     ]
    }
   ],
   "source": [
    "df_eda = context.catalog.load(\"df_WF1\")"
   ]
  },
  {
   "cell_type": "code",
   "execution_count": 3,
   "metadata": {},
   "outputs": [
    {
     "name": "stdout",
     "output_type": "stream",
     "text": [
      "2020-10-09 21:01:55,672 - kedro.io.data_catalog - INFO - Loading data from `X_train_WF1` (CSVDataSet)...\n"
     ]
    }
   ],
   "source": [
    "X_train_WF1 = context.catalog.load(\"X_train_WF1\")"
   ]
  },
  {
   "cell_type": "code",
   "execution_count": 4,
   "metadata": {},
   "outputs": [
    {
     "name": "stdout",
     "output_type": "stream",
     "text": [
      "2020-10-09 21:02:02,130 - kedro.io.data_catalog - INFO - Loading data from `y_train_WF1` (CSVDataSet)...\n"
     ]
    }
   ],
   "source": [
    "y_train_WF1 = context.catalog.load(\"y_train_WF1\")"
   ]
  },
  {
   "cell_type": "code",
   "execution_count": 19,
   "metadata": {},
   "outputs": [
    {
     "data": {
      "text/html": [
       "<div>\n",
       "<style scoped>\n",
       "    .dataframe tbody tr th:only-of-type {\n",
       "        vertical-align: middle;\n",
       "    }\n",
       "\n",
       "    .dataframe tbody tr th {\n",
       "        vertical-align: top;\n",
       "    }\n",
       "\n",
       "    .dataframe thead th {\n",
       "        text-align: right;\n",
       "    }\n",
       "</style>\n",
       "<table border=\"1\" class=\"dataframe\">\n",
       "  <thead>\n",
       "    <tr style=\"text-align: right;\">\n",
       "      <th></th>\n",
       "      <th>0</th>\n",
       "    </tr>\n",
       "  </thead>\n",
       "  <tbody>\n",
       "    <tr>\n",
       "      <th>count</th>\n",
       "      <td>3935.000000</td>\n",
       "    </tr>\n",
       "    <tr>\n",
       "      <th>mean</th>\n",
       "      <td>1.723375</td>\n",
       "    </tr>\n",
       "    <tr>\n",
       "      <th>std</th>\n",
       "      <td>2.536952</td>\n",
       "    </tr>\n",
       "    <tr>\n",
       "      <th>min</th>\n",
       "      <td>0.000000</td>\n",
       "    </tr>\n",
       "    <tr>\n",
       "      <th>25%</th>\n",
       "      <td>0.010000</td>\n",
       "    </tr>\n",
       "    <tr>\n",
       "      <th>50%</th>\n",
       "      <td>0.400000</td>\n",
       "    </tr>\n",
       "    <tr>\n",
       "      <th>75%</th>\n",
       "      <td>2.540000</td>\n",
       "    </tr>\n",
       "    <tr>\n",
       "      <th>max</th>\n",
       "      <td>10.130000</td>\n",
       "    </tr>\n",
       "  </tbody>\n",
       "</table>\n",
       "</div>"
      ],
      "text/plain": [
       "                 0\n",
       "count  3935.000000\n",
       "mean      1.723375\n",
       "std       2.536952\n",
       "min       0.000000\n",
       "25%       0.010000\n",
       "50%       0.400000\n",
       "75%       2.540000\n",
       "max      10.130000"
      ]
     },
     "execution_count": 19,
     "metadata": {},
     "output_type": "execute_result"
    }
   ],
   "source": [
    "y_train_WF1.describe()"
   ]
  },
  {
   "cell_type": "markdown",
   "metadata": {},
   "source": [
    "## Missing Values\n",
    "<a id=\"missing_values\"></a>\n",
    "\n",
    "**Assumption**: Meteorological forecasts accuracy and reliability are the highest for Forecast Day `D` and Run `18h` (the shorter the gap time between NWP Run and the time forecasted, the higher the realiability).\n",
    "\n",
    "\n",
    "For `X_train`:\n",
    "We'll use whenever it's possible, data from forecast day `D` and run `18h` for every `NWP` as they're the most recent data available. When there're missing values, we'll use the corresponding data from previous days to fill in the gap, sequencely.\n",
    "\n",
    "Moreover, `NWP2` and `NWP3` provides data every 3 hours, instead of every 1 hour, as `NWP1` and `NWP4` do. \n",
    "* `NWP1`: day 13/07/2018 is fully missing. We'll use `D-1` forecasts to input these values.\n",
    "* `NWP4`: day 15/05/2018 is fully missing. We'll use `D-1` forecasts to input these values.\n",
    "* `NWP2` and `NWP3`: we will interpolate these values, missing three hours in between every data.\n",
    "\n",
    "For `X_test`:\n",
    "The rules of the challenge point out that we can only use data available on day `D` at 09:00 h (practically that means forecast from day `D-1` and Run 00h). We have then the following missing values to input:\n",
    "\n",
    "* `NWP1` and `NWP4`: no missing values for the most recent data (forecast day D-1, Run 00h).\n",
    "* `NWP2` and `NWP3`: we will interpolate these values, missing three hours in between every data "
   ]
  },
  {
   "cell_type": "code",
   "execution_count": null,
   "metadata": {},
   "outputs": [],
   "source": [
    "# We'll add new columns NWPX_<met_var> without missing values\n",
    "new_cols = ['NWP1_U', 'NWP1_V', 'NWP1_T', 'NWP2_U', \n",
    "            'NWP2_V', 'NWP3_U', 'NWP3_V', 'NWP3_T',\n",
    "            'NWP4_U', 'NWP4_V', 'NWP4_CLCT']      "
   ]
  },
  {
   "cell_type": "code",
   "execution_count": null,
   "metadata": {},
   "outputs": [],
   "source": [
    "# input missing values in X_train\n",
    "X_train_cpy = X_train.copy()\n",
    "cols_train = X_train_cpy.columns[3:] \n",
    "new_cols = ['NWP1_U','NWP1_V','NWP1_T',\n",
    "           'NWP2_U','NWP2_V',\n",
    "           'NWP3_U','NWP3_V','NWP3_T',\n",
    "           'NWP4_U','NWP4_V','NWP4_CLCT']\n",
    "\n",
    "dtr.add_new_cols(new_cols, X_train_cpy)\n",
    "dtr.input_missing_values(X_train_cpy, cols_train)\n",
    "\n",
    "col_list = ['NWP2_U','NWP2_V','NWP3_U','NWP3_V','NWP3_T']\n",
    "dtr.interpolate_missing_values(X_train_cpy, col_list, 'Time')"
   ]
  },
  {
   "cell_type": "markdown",
   "metadata": {},
   "source": [
    "Let's check the consistency of the data after the missing values inputation."
   ]
  },
  {
   "cell_type": "code",
   "execution_count": null,
   "metadata": {},
   "outputs": [],
   "source": [
    "X_train[['NWP4_00h_D_U','NWP4_12h_D_U']].head(30)"
   ]
  },
  {
   "cell_type": "code",
   "execution_count": null,
   "metadata": {},
   "outputs": [],
   "source": [
    "X_train_cpy[new_cols].head(10)"
   ]
  },
  {
   "cell_type": "markdown",
   "metadata": {},
   "source": [
    "All seems OK for `X_train`."
   ]
  },
  {
   "cell_type": "code",
   "execution_count": null,
   "metadata": {
    "scrolled": true
   },
   "outputs": [],
   "source": [
    "# input missing values in X_test\n",
    "X_test_cpy = X_test.copy()\n",
    "cols_test = X_test_cpy.columns[3:-9] \n",
    "\n",
    "dtr.add_new_cols(new_cols, X_test_cpy)\n",
    "dtr.input_missing_values(X_test_cpy, cols_test)\n",
    "\n",
    "col_list = ['NWP2_U','NWP2_V','NWP3_U','NWP3_V','NWP3_T']\n",
    "dtr.interpolate_missing_values(X_test_cpy, col_list, 'Time')"
   ]
  },
  {
   "cell_type": "code",
   "execution_count": null,
   "metadata": {},
   "outputs": [],
   "source": [
    "X_test_cpy[new_cols]"
   ]
  },
  {
   "cell_type": "markdown",
   "metadata": {},
   "source": [
    "All seems OK also for `X_test`"
   ]
  },
  {
   "cell_type": "markdown",
   "metadata": {},
   "source": [
    "## Feature Engineering\n",
    "<a id=\"feat_engineering\"></a>\n",
    "\n",
    "### Wind Velocity related features\n",
    "<a id=\"wind_feat\"></a>\n",
    "\n",
    "Adding the following wind velocity derived features for each NWP:\n",
    "* `NWP<1,2,3,4>_wvel`\n",
    "* `NWP<1,2,3,4>_wvel`\n",
    "* `NWP<1,2,3,4>_wshear`\n",
    "* `NWP<1,2,3,4>_wdir`\n",
    "* `NWP<1,2,3,4>_wdir_sin`\n",
    "* `NWP<1,2,3,4>_wdir_cos`"
   ]
  },
  {
   "cell_type": "code",
   "execution_count": null,
   "metadata": {},
   "outputs": [],
   "source": [
    "# Add wind velocity related features in X_train_cpy\n",
    "regex = r'NWP(?P<NWP>\\d{1})_(?P<met_var>[UV])'\n",
    "dtr.add_wind_vars(X_train_cpy, regex)"
   ]
  },
  {
   "cell_type": "code",
   "execution_count": null,
   "metadata": {},
   "outputs": [],
   "source": [
    "# Add wind velocity related features in X_test_cpy\n",
    "dtr.add_wind_vars(X_test_cpy, regex)"
   ]
  },
  {
   "cell_type": "markdown",
   "metadata": {},
   "source": [
    "### Time related features \n",
    "<a id=\"time_feat\"></a>\n",
    "\n",
    "Adding the following date time velocity derived features:\n",
    "* `hour`\n",
    "* `month`\n",
    "* `hour_sin`\n",
    "* `hour_cos`"
   ]
  },
  {
   "cell_type": "code",
   "execution_count": null,
   "metadata": {},
   "outputs": [],
   "source": [
    "# Add time related features in X_train_cpy\n",
    "dtr.add_time_vars(X_train_cpy, 'Time')"
   ]
  },
  {
   "cell_type": "code",
   "execution_count": null,
   "metadata": {
    "scrolled": true
   },
   "outputs": [],
   "source": [
    "# Add time related features in X_test_cpy\n",
    "dtr.add_time_vars(X_test_cpy, 'Time')"
   ]
  },
  {
   "cell_type": "markdown",
   "metadata": {},
   "source": [
    "### EDA of new features\n",
    "<a id=\"new_feat_eda\"></a>\n",
    "\n",
    "Let's come back to EDA now to visualize the distributions, dependencies and behaviour of the new added features.\n",
    "\n",
    "#### Wind velocity distributions"
   ]
  },
  {
   "cell_type": "code",
   "execution_count": null,
   "metadata": {},
   "outputs": [],
   "source": [
    "import plotly.figure_factory as ff\n",
    "\n",
    "# Group data together\n",
    "hist_data = [df_eda['NWP1_wvel'],df_eda['NWP2_wvel'],df_eda['NWP3_wvel'],df_eda['NWP4_wvel']]\n",
    "group_labels = ['NWP1 wind vel', 'NWP2 wind vel', 'NWP3 wind vel', 'NWP4 wind vel']\n",
    "\n",
    "# Create distplot with custom bin_size\n",
    "fig = ff.create_distplot(hist_data, group_labels, bin_size=.2)\n",
    "fig.show()"
   ]
  },
  {
   "cell_type": "markdown",
   "metadata": {},
   "source": [
    "#### Time dependency"
   ]
  },
  {
   "cell_type": "code",
   "execution_count": null,
   "metadata": {},
   "outputs": [],
   "source": [
    "# Time series visualization\n",
    "df_eda['NWP3_T_cels'] = df_eda['NWP3_T'] - 273\n",
    "df_eda[\n",
    "    ['Time','NWP1_wvel','NWP1_wdir', 'NWP3_T_cels']].set_index('Time').iplot(\n",
    "    kind='scatter', \n",
    "    filename='cufflinks/cf-simple-line'\n",
    ")"
   ]
  },
  {
   "cell_type": "code",
   "execution_count": null,
   "metadata": {},
   "outputs": [],
   "source": [
    "df_eda.loc[df_eda['NWP3_wvel'] == max(df_eda['NWP3_wvel'])]"
   ]
  },
  {
   "cell_type": "code",
   "execution_count": null,
   "metadata": {},
   "outputs": [],
   "source": [
    "df_eda.loc[df_eda['NWP3_wvel'] == min(df_eda['NWP3_wvel'])]"
   ]
  },
  {
   "cell_type": "markdown",
   "metadata": {},
   "source": [
    "#### Dependency between wind power and wind velocity"
   ]
  },
  {
   "cell_type": "code",
   "execution_count": null,
   "metadata": {
    "scrolled": false
   },
   "outputs": [],
   "source": [
    "fig = make_subplots(rows=2, \n",
    "                    cols=2, \n",
    "                    start_cell=\"top-left\",\n",
    "                    x_title='wind velocity [m/s]',\n",
    "                    y_title='wind power [MWh]')\n",
    "\n",
    "fig.add_trace(go.Scatter(x=df_eda['NWP1_wvel'], y=df_eda['Production'], mode=\"markers\", marker=dict(size=3), name='NWP1'),\n",
    "              row=1, col=1)\n",
    "\n",
    "fig.add_trace(go.Scatter(x=df_eda['NWP2_wvel'], y=df_eda['Production'], mode=\"markers\", marker=dict(size=3), name='NWP2'),\n",
    "              row=1, col=2)\n",
    "\n",
    "fig.add_trace(go.Scatter(x=df_eda['NWP3_wvel'], y=df_eda['Production'], mode=\"markers\", marker=dict(size=3), name='NWP3'),\n",
    "              row=2, col=1)\n",
    "\n",
    "fig.add_trace(go.Scatter(x=df_eda['NWP4_wvel'], y=df_eda['Production'], mode=\"markers\", marker=dict(size=3),  name='NWP4'),\n",
    "              row=2, col=2)\n",
    "\n",
    "fig.update_layout(height=800, width=800)\n",
    "\n",
    "fig.show()"
   ]
  },
  {
   "cell_type": "markdown",
   "metadata": {},
   "source": [
    "#### Wind direction distribution"
   ]
  },
  {
   "cell_type": "code",
   "execution_count": null,
   "metadata": {},
   "outputs": [],
   "source": [
    "import windrose\n",
    "import matplotlib.cm as cm\n",
    "\n",
    "fig = plt.figure()\n",
    "\n",
    "ax = fig.add_subplot(111, projection=\"windrose\")\n",
    "ax.bar(df_eda['NWP1_wdir'], df_eda['NWP1_wvel'], normed=True, opening=0.8, edgecolor='white')\n",
    "# ax.set_legend()\n",
    "\n",
    "plt.show()"
   ]
  },
  {
   "cell_type": "code",
   "execution_count": null,
   "metadata": {},
   "outputs": [],
   "source": [
    "fig = make_subplots(rows=1, \n",
    "                    cols=1, \n",
    "                    start_cell=\"top-left\",\n",
    "                    x_title='wind direction',\n",
    "                    y_title='wind power production [MWh]')\n",
    "\n",
    "fig.add_trace(go.Scatter(x=df_eda['NWP1_wdir'], y=df_eda['Production'], mode=\"markers\", marker=dict(size=3), name='NWP1'),\n",
    "              row=1, col=1)\n"
   ]
  },
  {
   "cell_type": "markdown",
   "metadata": {},
   "source": [
    "#### Wind velocity and direction versus power production"
   ]
  },
  {
   "cell_type": "code",
   "execution_count": null,
   "metadata": {},
   "outputs": [],
   "source": [
    "import plotly.express as px\n",
    "\n",
    "fig = go.Figure(data=[go.Scatter3d(\n",
    "    x=df_eda['NWP1_wvel'],\n",
    "    y=df_eda['NWP1_wdir'],\n",
    "    z=df_eda['Production'],\n",
    "    mode='markers',\n",
    "    marker=dict(\n",
    "        size=3,\n",
    "        color=df_eda['Production'],            \n",
    "        colorscale='Viridis', \n",
    "        opacity=0.8\n",
    "    )\n",
    ")])\n",
    "\n",
    "fig.update_layout(autosize=False,\n",
    "                  width=500, height=500,\n",
    "                  margin=dict(l=65, r=50, b=65, t=90))\n",
    "\n",
    "fig.show()"
   ]
  },
  {
   "cell_type": "markdown",
   "metadata": {},
   "source": [
    "#### Visualization of dependencies between wind power and meteorological variables (T and CLCT)"
   ]
  },
  {
   "cell_type": "code",
   "execution_count": null,
   "metadata": {},
   "outputs": [],
   "source": [
    "import plotly.graph_objects as go\n",
    "from plotly.subplots import make_subplots\n",
    "\n",
    "fig = make_subplots(rows=1, \n",
    "                    cols=2, \n",
    "                    start_cell=\"top-left\",\n",
    "                    x_title='air temperature [K]',\n",
    "                    y_title='power production [MWh]')\n",
    "\n",
    "fig.add_trace(go.Scatter(x=df_eda['NWP1_T'], y=df_eda['Production'], mode=\"markers\", marker=dict(size=3), name='NWP1'),\n",
    "              row=1, col=1)\n",
    "\n",
    "fig.add_trace(go.Scatter(x=df_eda['NWP3_T'], y=df_eda['Production'], mode=\"markers\", marker=dict(size=3), name='NWP3'),\n",
    "              row=1, col=2)\n",
    "\n",
    "fig.update_layout(height=500, width=800)\n",
    "\n",
    "fig.show()\n",
    "                "
   ]
  },
  {
   "cell_type": "code",
   "execution_count": null,
   "metadata": {},
   "outputs": [],
   "source": [
    "import plotly.graph_objects as go\n",
    "from plotly.subplots import make_subplots\n",
    "\n",
    "fig = make_subplots(rows=1, \n",
    "                    cols=1, \n",
    "                    start_cell=\"top-left\",\n",
    "                    x_title='taotal cloud cover [%]',\n",
    "                    y_title='power production[MWh]')\n",
    "\n",
    "fig.add_trace(go.Scatter(x=df_eda['NWP4_CLCT'], \n",
    "                         y=df_eda['Production'], \n",
    "                         mode=\"markers\", marker=dict(size=3), name='NWP4'),\n",
    "              row=1, col=1)\n",
    "\n",
    "\n",
    "fig.update_layout(height=500, width=800)\n",
    "\n",
    "fig.show()"
   ]
  },
  {
   "cell_type": "markdown",
   "metadata": {},
   "source": [
    "#### Correlation matrix"
   ]
  },
  {
   "cell_type": "code",
   "execution_count": null,
   "metadata": {},
   "outputs": [],
   "source": [
    "# Looking at correlations\n",
    "df_eda[['Production','NWP1_U', 'NWP1_V','NWP1_wvel','NWP1_wshear',\n",
    "        'NWP1_T','NWP1_wdir','NWP1_wdir_sin','NWP1_wdir_cos','month',\n",
    "       'month_sin','month_cos', 'hour','hour_sin','hour_cos']].corr().iplot(\n",
    "    kind='heatmap', \n",
    "    colorscale='spectral', \n",
    "    filename='cufflinks/simple-heatmap'\n",
    ")"
   ]
  },
  {
   "cell_type": "markdown",
   "metadata": {},
   "source": [
    "### Feature importance\n",
    "<a id=\"feat_importance\"></a>\n",
    "\n",
    "Random Forest can be used to get the importance of the features in a dataset. We will drop all original features that are redudant with dervied ones (high correlated), for example, wind velocity, U and V if wind shear is included."
   ]
  },
  {
   "cell_type": "code",
   "execution_count": null,
   "metadata": {},
   "outputs": [],
   "source": [
    "## Feature importance for NWP1\n",
    "\n",
    "from sklearn.ensemble import  RandomForestRegressor\n",
    "from sklearn.model_selection import train_test_split\n",
    "\n",
    "# data\n",
    "X = X_train_cpy[['NWP1_T',\n",
    "                'NWP1_wshear','NWP1_wdir_cos','NWP1_wdir_sin',\n",
    "                'hour_cos','hour_sin',\n",
    "                'month_sin','month_cos']]\n",
    "Y = y_train['Production']\n",
    "\n",
    "# split into train and test sets\n",
    "train_x, test_x, train_y, test_y = train_test_split(X, Y, test_size=0.20, random_state=0)\n",
    "\n",
    "# instanciate object RandomForestRegressor\n",
    "model_RFR_NWP1 = RandomForestRegressor()\n",
    "\n",
    "# fit the model\n",
    "model_RFR_NWP1.fit(train_x, train_y)\n",
    "\n",
    "# plot feature importance\n",
    "plt.figure(figsize=(10,7))\n",
    "feat_importances = pd.Series(model_RFR_NWP1.feature_importances_, index = train_x.columns)\n",
    "feat_importances.nlargest(50).plot(kind='barh')"
   ]
  },
  {
   "cell_type": "code",
   "execution_count": null,
   "metadata": {},
   "outputs": [],
   "source": [
    "## Feature importance for NWP2\n",
    "\n",
    "# data\n",
    "X2 = X_train_cpy[['NWP2_wshear','NWP2_wdir_cos','NWP2_wdir_sin',\n",
    "                'hour_cos','hour_sin',\n",
    "                'month_sin','month_cos']]\n",
    "Y2 = y_train['Production']\n",
    "\n",
    "# split into train and test sets\n",
    "train_x2, test_x2, train_y2, test_y2 = train_test_split(X2, Y2, test_size=0.20, random_state=0)\n",
    "\n",
    "# instanciate object RandomForestRegressor\n",
    "model_RFR_NWP2 = RandomForestRegressor()\n",
    "\n",
    "# fit the model\n",
    "model_RFR_NWP2.fit(train_x2, train_y2)\n",
    "\n",
    "# plot feature importance\n",
    "plt.figure(figsize=(10,7))\n",
    "feat_importances = pd.Series(model_RFR_NWP2.feature_importances_, index = train_x2.columns)\n",
    "feat_importances.nlargest(50).plot(kind='barh')"
   ]
  },
  {
   "cell_type": "code",
   "execution_count": null,
   "metadata": {},
   "outputs": [],
   "source": [
    "## Feature importance for NWP3\n",
    "\n",
    "# data\n",
    "X3 = X_train_cpy[['NWP3_wshear','NWP3_wdir_cos','NWP3_wdir_sin',\n",
    "                'hour_cos','hour_sin','month_sin','month_cos']]\n",
    "Y3 = y_train['Production']\n",
    "\n",
    "# split into train and test sets\n",
    "train_x3, test_x3, train_y3, test_y3 = train_test_split(X3, Y3, test_size=0.20, random_state=0)\n",
    "\n",
    "# instanciate object RandomForestRegressor\n",
    "model_RFR_NWP3 = RandomForestRegressor()\n",
    "\n",
    "# fit the model\n",
    "model_RFR_NWP3.fit(train_x3, train_y3)\n",
    "\n",
    "# plot feature importance\n",
    "plt.figure(figsize=(10,7))\n",
    "feat_importances = pd.Series(model_RFR_NWP3.feature_importances_, index = train_x3.columns)\n",
    "feat_importances.nlargest(50).plot(kind='barh')"
   ]
  },
  {
   "cell_type": "code",
   "execution_count": null,
   "metadata": {},
   "outputs": [],
   "source": [
    "X_train_cpy.head()"
   ]
  },
  {
   "cell_type": "code",
   "execution_count": null,
   "metadata": {},
   "outputs": [],
   "source": [
    "## Feature importance for NWP4\n",
    "\n",
    "# data\n",
    "X4 = X_train_cpy[['NWP4_CLCT','NWP4_wshear','NWP4_wdir_cos','NWP4_wdir','NWP4_wdir_sin', 'hour','month',\n",
    "                'hour_cos','hour_sin','month_sin','month_cos']]\n",
    "Y4 = y_train['Production']\n",
    "\n",
    "# split into train and test sets\n",
    "train_x4, test_x4, train_y4, test_y4 = train_test_split(X4, Y4, test_size=0.20, random_state=0)\n",
    "\n",
    "# instanciate object RandomForestRegressor\n",
    "model_RFR_NWP4 = RandomForestRegressor()\n",
    "\n",
    "# fit the model\n",
    "model_RFR_NWP4.fit(train_x4, train_y4)\n",
    "\n",
    "# plot feature importance\n",
    "plt.figure(figsize=(10,7))\n",
    "feat_importances = pd.Series(model_RFR_NWP4.feature_importances_, index = train_x4.columns)\n",
    "feat_importances.nlargest(50).plot(kind='barh')"
   ]
  },
  {
   "cell_type": "markdown",
   "metadata": {},
   "source": [
    "#### Visualization  of the sub-feature space selected "
   ]
  },
  {
   "cell_type": "code",
   "execution_count": null,
   "metadata": {},
   "outputs": [],
   "source": [
    "sns.pairplot(\n",
    "    df_eda,\n",
    "    vars = ['NWP1_wshear', 'NWP1_T',\n",
    "           'NWP1_wdir_sin', 'NWP1_wdir_cos',\n",
    "           'hour_sin','hour_cos',\n",
    "           'month_sin','month_cos',\n",
    "           'Production'],\n",
    "    diag_kind='kde'\n",
    ")"
   ]
  },
  {
   "cell_type": "markdown",
   "metadata": {},
   "source": [
    "### Feature transformations\n",
    "<a id=\"feat_transformation\"></a>\n",
    "\n",
    "#### Temperature convertion to $^{\\text{o}}$C"
   ]
  },
  {
   "cell_type": "code",
   "execution_count": 44,
   "metadata": {},
   "outputs": [
    {
     "name": "stdout",
     "output_type": "stream",
     "text": [
      "2020-10-08 18:02:56,794 - kedro.io.data_catalog - INFO - Loading data from `X_train_expanded_WF1` (PickleDataSet)...\n"
     ]
    }
   ],
   "source": [
    "X_WF1 = context.catalog.load(\"X_train_expanded_WF1\")\n",
    "X_WF1['production'] = y_train_WF1[0]"
   ]
  },
  {
   "cell_type": "code",
   "execution_count": 47,
   "metadata": {},
   "outputs": [
    {
     "name": "stderr",
     "output_type": "stream",
     "text": [
      "C:\\Users\\Quark\\.conda\\envs\\TFM-env\\lib\\site-packages\\ipykernel\\ipkernel.py:287: DeprecationWarning:\n",
      "\n",
      "`should_run_async` will not call `transform_cell` automatically in the future. Please pass the result to `transformed_cell` argument and any exception that happen during thetransform in `preprocessing_exc_tuple` in IPython 7.17 and above.\n",
      "\n"
     ]
    }
   ],
   "source": [
    "del X_WF1['Time']"
   ]
  },
  {
   "cell_type": "code",
   "execution_count": 48,
   "metadata": {},
   "outputs": [],
   "source": [
    "del X_WF1['ID']"
   ]
  },
  {
   "cell_type": "code",
   "execution_count": 56,
   "metadata": {
    "scrolled": false
   },
   "outputs": [
    {
     "name": "stderr",
     "output_type": "stream",
     "text": [
      "C:\\Users\\Quark\\.conda\\envs\\TFM-env\\lib\\site-packages\\ipykernel\\ipkernel.py:287: DeprecationWarning:\n",
      "\n",
      "`should_run_async` will not call `transform_cell` automatically in the future. Please pass the result to `transformed_cell` argument and any exception that happen during thetransform in `preprocessing_exc_tuple` in IPython 7.17 and above.\n",
      "\n"
     ]
    },
    {
     "data": {
      "text/html": [
       "<style  type=\"text/css\" >\n",
       "#T_3502115a_0981_11eb_81fe_98af6589fb29row0_col0,#T_3502115a_0981_11eb_81fe_98af6589fb29row1_col1,#T_3502115a_0981_11eb_81fe_98af6589fb29row2_col2,#T_3502115a_0981_11eb_81fe_98af6589fb29row3_col3,#T_3502115a_0981_11eb_81fe_98af6589fb29row4_col4,#T_3502115a_0981_11eb_81fe_98af6589fb29row4_col14,#T_3502115a_0981_11eb_81fe_98af6589fb29row5_col5,#T_3502115a_0981_11eb_81fe_98af6589fb29row6_col6,#T_3502115a_0981_11eb_81fe_98af6589fb29row7_col7,#T_3502115a_0981_11eb_81fe_98af6589fb29row8_col8,#T_3502115a_0981_11eb_81fe_98af6589fb29row9_col9,#T_3502115a_0981_11eb_81fe_98af6589fb29row10_col10,#T_3502115a_0981_11eb_81fe_98af6589fb29row11_col11,#T_3502115a_0981_11eb_81fe_98af6589fb29row12_col12,#T_3502115a_0981_11eb_81fe_98af6589fb29row13_col13,#T_3502115a_0981_11eb_81fe_98af6589fb29row14_col4,#T_3502115a_0981_11eb_81fe_98af6589fb29row14_col14,#T_3502115a_0981_11eb_81fe_98af6589fb29row15_col15,#T_3502115a_0981_11eb_81fe_98af6589fb29row15_col17,#T_3502115a_0981_11eb_81fe_98af6589fb29row16_col16,#T_3502115a_0981_11eb_81fe_98af6589fb29row16_col18,#T_3502115a_0981_11eb_81fe_98af6589fb29row17_col15,#T_3502115a_0981_11eb_81fe_98af6589fb29row17_col17,#T_3502115a_0981_11eb_81fe_98af6589fb29row18_col16,#T_3502115a_0981_11eb_81fe_98af6589fb29row18_col18,#T_3502115a_0981_11eb_81fe_98af6589fb29row19_col19{\n",
       "            background-color:  #b40426;\n",
       "            color:  #f1f1f1;\n",
       "        }#T_3502115a_0981_11eb_81fe_98af6589fb29row0_col1,#T_3502115a_0981_11eb_81fe_98af6589fb29row1_col0,#T_3502115a_0981_11eb_81fe_98af6589fb29row12_col9,#T_3502115a_0981_11eb_81fe_98af6589fb29row15_col16,#T_3502115a_0981_11eb_81fe_98af6589fb29row15_col18,#T_3502115a_0981_11eb_81fe_98af6589fb29row16_col15,#T_3502115a_0981_11eb_81fe_98af6589fb29row16_col17,#T_3502115a_0981_11eb_81fe_98af6589fb29row17_col16,#T_3502115a_0981_11eb_81fe_98af6589fb29row17_col18,#T_3502115a_0981_11eb_81fe_98af6589fb29row18_col15,#T_3502115a_0981_11eb_81fe_98af6589fb29row18_col17{\n",
       "            background-color:  #8db0fe;\n",
       "            color:  #000000;\n",
       "        }#T_3502115a_0981_11eb_81fe_98af6589fb29row0_col2{\n",
       "            background-color:  #aec9fc;\n",
       "            color:  #000000;\n",
       "        }#T_3502115a_0981_11eb_81fe_98af6589fb29row0_col3{\n",
       "            background-color:  #5875e1;\n",
       "            color:  #000000;\n",
       "        }#T_3502115a_0981_11eb_81fe_98af6589fb29row0_col4,#T_3502115a_0981_11eb_81fe_98af6589fb29row0_col14,#T_3502115a_0981_11eb_81fe_98af6589fb29row7_col14,#T_3502115a_0981_11eb_81fe_98af6589fb29row14_col12,#T_3502115a_0981_11eb_81fe_98af6589fb29row19_col8{\n",
       "            background-color:  #c3d5f4;\n",
       "            color:  #000000;\n",
       "        }#T_3502115a_0981_11eb_81fe_98af6589fb29row0_col5{\n",
       "            background-color:  #f08b6e;\n",
       "            color:  #000000;\n",
       "        }#T_3502115a_0981_11eb_81fe_98af6589fb29row0_col6{\n",
       "            background-color:  #dfdbd9;\n",
       "            color:  #000000;\n",
       "        }#T_3502115a_0981_11eb_81fe_98af6589fb29row0_col7,#T_3502115a_0981_11eb_81fe_98af6589fb29row3_col4,#T_3502115a_0981_11eb_81fe_98af6589fb29row6_col4,#T_3502115a_0981_11eb_81fe_98af6589fb29row6_col14,#T_3502115a_0981_11eb_81fe_98af6589fb29row12_col6,#T_3502115a_0981_11eb_81fe_98af6589fb29row19_col3{\n",
       "            background-color:  #a5c3fe;\n",
       "            color:  #000000;\n",
       "        }#T_3502115a_0981_11eb_81fe_98af6589fb29row0_col8,#T_3502115a_0981_11eb_81fe_98af6589fb29row16_col6,#T_3502115a_0981_11eb_81fe_98af6589fb29row18_col6{\n",
       "            background-color:  #afcafc;\n",
       "            color:  #000000;\n",
       "        }#T_3502115a_0981_11eb_81fe_98af6589fb29row0_col9{\n",
       "            background-color:  #6b8df0;\n",
       "            color:  #000000;\n",
       "        }#T_3502115a_0981_11eb_81fe_98af6589fb29row0_col10{\n",
       "            background-color:  #d6dce4;\n",
       "            color:  #000000;\n",
       "        }#T_3502115a_0981_11eb_81fe_98af6589fb29row0_col11,#T_3502115a_0981_11eb_81fe_98af6589fb29row5_col15,#T_3502115a_0981_11eb_81fe_98af6589fb29row5_col17,#T_3502115a_0981_11eb_81fe_98af6589fb29row7_col2,#T_3502115a_0981_11eb_81fe_98af6589fb29row8_col9,#T_3502115a_0981_11eb_81fe_98af6589fb29row14_col9,#T_3502115a_0981_11eb_81fe_98af6589fb29row17_col4{\n",
       "            background-color:  #7597f6;\n",
       "            color:  #000000;\n",
       "        }#T_3502115a_0981_11eb_81fe_98af6589fb29row0_col12,#T_3502115a_0981_11eb_81fe_98af6589fb29row0_col15,#T_3502115a_0981_11eb_81fe_98af6589fb29row0_col17,#T_3502115a_0981_11eb_81fe_98af6589fb29row1_col4,#T_3502115a_0981_11eb_81fe_98af6589fb29row1_col13,#T_3502115a_0981_11eb_81fe_98af6589fb29row1_col14,#T_3502115a_0981_11eb_81fe_98af6589fb29row1_col16,#T_3502115a_0981_11eb_81fe_98af6589fb29row1_col18,#T_3502115a_0981_11eb_81fe_98af6589fb29row1_col19,#T_3502115a_0981_11eb_81fe_98af6589fb29row2_col3,#T_3502115a_0981_11eb_81fe_98af6589fb29row2_col9,#T_3502115a_0981_11eb_81fe_98af6589fb29row6_col8,#T_3502115a_0981_11eb_81fe_98af6589fb29row7_col10,#T_3502115a_0981_11eb_81fe_98af6589fb29row8_col6,#T_3502115a_0981_11eb_81fe_98af6589fb29row10_col7,#T_3502115a_0981_11eb_81fe_98af6589fb29row10_col11,#T_3502115a_0981_11eb_81fe_98af6589fb29row11_col2,#T_3502115a_0981_11eb_81fe_98af6589fb29row12_col5,#T_3502115a_0981_11eb_81fe_98af6589fb29row15_col0,#T_3502115a_0981_11eb_81fe_98af6589fb29row16_col1,#T_3502115a_0981_11eb_81fe_98af6589fb29row17_col0,#T_3502115a_0981_11eb_81fe_98af6589fb29row18_col1{\n",
       "            background-color:  #3b4cc0;\n",
       "            color:  #f1f1f1;\n",
       "        }#T_3502115a_0981_11eb_81fe_98af6589fb29row0_col13{\n",
       "            background-color:  #f5c0a7;\n",
       "            color:  #000000;\n",
       "        }#T_3502115a_0981_11eb_81fe_98af6589fb29row0_col16,#T_3502115a_0981_11eb_81fe_98af6589fb29row0_col18,#T_3502115a_0981_11eb_81fe_98af6589fb29row1_col15,#T_3502115a_0981_11eb_81fe_98af6589fb29row1_col17,#T_3502115a_0981_11eb_81fe_98af6589fb29row15_col1,#T_3502115a_0981_11eb_81fe_98af6589fb29row16_col0,#T_3502115a_0981_11eb_81fe_98af6589fb29row17_col1,#T_3502115a_0981_11eb_81fe_98af6589fb29row18_col0{\n",
       "            background-color:  #f49a7b;\n",
       "            color:  #000000;\n",
       "        }#T_3502115a_0981_11eb_81fe_98af6589fb29row0_col19,#T_3502115a_0981_11eb_81fe_98af6589fb29row6_col19,#T_3502115a_0981_11eb_81fe_98af6589fb29row10_col4{\n",
       "            background-color:  #93b5fe;\n",
       "            color:  #000000;\n",
       "        }#T_3502115a_0981_11eb_81fe_98af6589fb29row1_col2,#T_3502115a_0981_11eb_81fe_98af6589fb29row2_col17,#T_3502115a_0981_11eb_81fe_98af6589fb29row8_col7,#T_3502115a_0981_11eb_81fe_98af6589fb29row16_col7,#T_3502115a_0981_11eb_81fe_98af6589fb29row18_col7{\n",
       "            background-color:  #cedaeb;\n",
       "            color:  #000000;\n",
       "        }#T_3502115a_0981_11eb_81fe_98af6589fb29row1_col3,#T_3502115a_0981_11eb_81fe_98af6589fb29row2_col12,#T_3502115a_0981_11eb_81fe_98af6589fb29row8_col5,#T_3502115a_0981_11eb_81fe_98af6589fb29row16_col11{\n",
       "            background-color:  #b3cdfb;\n",
       "            color:  #000000;\n",
       "        }#T_3502115a_0981_11eb_81fe_98af6589fb29row1_col5,#T_3502115a_0981_11eb_81fe_98af6589fb29row5_col3{\n",
       "            background-color:  #5f7fe8;\n",
       "            color:  #000000;\n",
       "        }#T_3502115a_0981_11eb_81fe_98af6589fb29row1_col6,#T_3502115a_0981_11eb_81fe_98af6589fb29row15_col8,#T_3502115a_0981_11eb_81fe_98af6589fb29row17_col8,#T_3502115a_0981_11eb_81fe_98af6589fb29row19_col11{\n",
       "            background-color:  #e3d9d3;\n",
       "            color:  #000000;\n",
       "        }#T_3502115a_0981_11eb_81fe_98af6589fb29row1_col7,#T_3502115a_0981_11eb_81fe_98af6589fb29row6_col7,#T_3502115a_0981_11eb_81fe_98af6589fb29row9_col10,#T_3502115a_0981_11eb_81fe_98af6589fb29row14_col6,#T_3502115a_0981_11eb_81fe_98af6589fb29row19_col6{\n",
       "            background-color:  #d2dbe8;\n",
       "            color:  #000000;\n",
       "        }#T_3502115a_0981_11eb_81fe_98af6589fb29row1_col8,#T_3502115a_0981_11eb_81fe_98af6589fb29row2_col8,#T_3502115a_0981_11eb_81fe_98af6589fb29row3_col14{\n",
       "            background-color:  #a2c1ff;\n",
       "            color:  #000000;\n",
       "        }#T_3502115a_0981_11eb_81fe_98af6589fb29row1_col9{\n",
       "            background-color:  #4961d2;\n",
       "            color:  #f1f1f1;\n",
       "        }#T_3502115a_0981_11eb_81fe_98af6589fb29row1_col10,#T_3502115a_0981_11eb_81fe_98af6589fb29row7_col16,#T_3502115a_0981_11eb_81fe_98af6589fb29row7_col18,#T_3502115a_0981_11eb_81fe_98af6589fb29row9_col12,#T_3502115a_0981_11eb_81fe_98af6589fb29row13_col7,#T_3502115a_0981_11eb_81fe_98af6589fb29row14_col11{\n",
       "            background-color:  #dbdcde;\n",
       "            color:  #000000;\n",
       "        }#T_3502115a_0981_11eb_81fe_98af6589fb29row1_col11,#T_3502115a_0981_11eb_81fe_98af6589fb29row2_col5,#T_3502115a_0981_11eb_81fe_98af6589fb29row9_col5,#T_3502115a_0981_11eb_81fe_98af6589fb29row10_col5{\n",
       "            background-color:  #bfd3f6;\n",
       "            color:  #000000;\n",
       "        }#T_3502115a_0981_11eb_81fe_98af6589fb29row1_col12{\n",
       "            background-color:  #f1cdba;\n",
       "            color:  #000000;\n",
       "        }#T_3502115a_0981_11eb_81fe_98af6589fb29row2_col0,#T_3502115a_0981_11eb_81fe_98af6589fb29row3_col10,#T_3502115a_0981_11eb_81fe_98af6589fb29row4_col7,#T_3502115a_0981_11eb_81fe_98af6589fb29row7_col12,#T_3502115a_0981_11eb_81fe_98af6589fb29row12_col7,#T_3502115a_0981_11eb_81fe_98af6589fb29row14_col7{\n",
       "            background-color:  #e8d6cc;\n",
       "            color:  #000000;\n",
       "        }#T_3502115a_0981_11eb_81fe_98af6589fb29row2_col1,#T_3502115a_0981_11eb_81fe_98af6589fb29row13_col5{\n",
       "            background-color:  #f4c6af;\n",
       "            color:  #000000;\n",
       "        }#T_3502115a_0981_11eb_81fe_98af6589fb29row2_col4,#T_3502115a_0981_11eb_81fe_98af6589fb29row14_col2{\n",
       "            background-color:  #5673e0;\n",
       "            color:  #000000;\n",
       "        }#T_3502115a_0981_11eb_81fe_98af6589fb29row2_col6,#T_3502115a_0981_11eb_81fe_98af6589fb29row10_col1{\n",
       "            background-color:  #e6d7cf;\n",
       "            color:  #000000;\n",
       "        }#T_3502115a_0981_11eb_81fe_98af6589fb29row2_col7,#T_3502115a_0981_11eb_81fe_98af6589fb29row2_col16,#T_3502115a_0981_11eb_81fe_98af6589fb29row9_col6,#T_3502115a_0981_11eb_81fe_98af6589fb29row11_col3{\n",
       "            background-color:  #bad0f8;\n",
       "            color:  #000000;\n",
       "        }#T_3502115a_0981_11eb_81fe_98af6589fb29row2_col10,#T_3502115a_0981_11eb_81fe_98af6589fb29row13_col6{\n",
       "            background-color:  #a1c0ff;\n",
       "            color:  #000000;\n",
       "        }#T_3502115a_0981_11eb_81fe_98af6589fb29row2_col11{\n",
       "            background-color:  #6687ed;\n",
       "            color:  #000000;\n",
       "        }#T_3502115a_0981_11eb_81fe_98af6589fb29row2_col13,#T_3502115a_0981_11eb_81fe_98af6589fb29row16_col9,#T_3502115a_0981_11eb_81fe_98af6589fb29row18_col9{\n",
       "            background-color:  #a9c6fd;\n",
       "            color:  #000000;\n",
       "        }#T_3502115a_0981_11eb_81fe_98af6589fb29row2_col14,#T_3502115a_0981_11eb_81fe_98af6589fb29row6_col9,#T_3502115a_0981_11eb_81fe_98af6589fb29row16_col2{\n",
       "            background-color:  #5b7ae5;\n",
       "            color:  #000000;\n",
       "        }#T_3502115a_0981_11eb_81fe_98af6589fb29row2_col15,#T_3502115a_0981_11eb_81fe_98af6589fb29row4_col6,#T_3502115a_0981_11eb_81fe_98af6589fb29row8_col10,#T_3502115a_0981_11eb_81fe_98af6589fb29row19_col12{\n",
       "            background-color:  #d1dae9;\n",
       "            color:  #000000;\n",
       "        }#T_3502115a_0981_11eb_81fe_98af6589fb29row2_col18,#T_3502115a_0981_11eb_81fe_98af6589fb29row3_col0,#T_3502115a_0981_11eb_81fe_98af6589fb29row6_col11,#T_3502115a_0981_11eb_81fe_98af6589fb29row10_col3{\n",
       "            background-color:  #bbd1f8;\n",
       "            color:  #000000;\n",
       "        }#T_3502115a_0981_11eb_81fe_98af6589fb29row2_col19{\n",
       "            background-color:  #3c4ec2;\n",
       "            color:  #f1f1f1;\n",
       "        }#T_3502115a_0981_11eb_81fe_98af6589fb29row3_col1,#T_3502115a_0981_11eb_81fe_98af6589fb29row6_col0,#T_3502115a_0981_11eb_81fe_98af6589fb29row9_col13,#T_3502115a_0981_11eb_81fe_98af6589fb29row19_col13{\n",
       "            background-color:  #ecd3c5;\n",
       "            color:  #000000;\n",
       "        }#T_3502115a_0981_11eb_81fe_98af6589fb29row3_col2{\n",
       "            background-color:  #4055c8;\n",
       "            color:  #f1f1f1;\n",
       "        }#T_3502115a_0981_11eb_81fe_98af6589fb29row3_col5,#T_3502115a_0981_11eb_81fe_98af6589fb29row3_col19,#T_3502115a_0981_11eb_81fe_98af6589fb29row14_col1{\n",
       "            background-color:  #9dbdff;\n",
       "            color:  #000000;\n",
       "        }#T_3502115a_0981_11eb_81fe_98af6589fb29row3_col6,#T_3502115a_0981_11eb_81fe_98af6589fb29row4_col10,#T_3502115a_0981_11eb_81fe_98af6589fb29row7_col8,#T_3502115a_0981_11eb_81fe_98af6589fb29row9_col8,#T_3502115a_0981_11eb_81fe_98af6589fb29row11_col4,#T_3502115a_0981_11eb_81fe_98af6589fb29row12_col3,#T_3502115a_0981_11eb_81fe_98af6589fb29row15_col3,#T_3502115a_0981_11eb_81fe_98af6589fb29row15_col10{\n",
       "            background-color:  #cad8ef;\n",
       "            color:  #000000;\n",
       "        }#T_3502115a_0981_11eb_81fe_98af6589fb29row3_col7{\n",
       "            background-color:  #d5dbe5;\n",
       "            color:  #000000;\n",
       "        }#T_3502115a_0981_11eb_81fe_98af6589fb29row3_col8,#T_3502115a_0981_11eb_81fe_98af6589fb29row5_col19,#T_3502115a_0981_11eb_81fe_98af6589fb29row6_col10,#T_3502115a_0981_11eb_81fe_98af6589fb29row9_col7,#T_3502115a_0981_11eb_81fe_98af6589fb29row10_col12,#T_3502115a_0981_11eb_81fe_98af6589fb29row12_col10{\n",
       "            background-color:  #cfdaea;\n",
       "            color:  #000000;\n",
       "        }#T_3502115a_0981_11eb_81fe_98af6589fb29row3_col9{\n",
       "            background-color:  #80a3fa;\n",
       "            color:  #000000;\n",
       "        }#T_3502115a_0981_11eb_81fe_98af6589fb29row3_col11,#T_3502115a_0981_11eb_81fe_98af6589fb29row9_col0,#T_3502115a_0981_11eb_81fe_98af6589fb29row13_col14,#T_3502115a_0981_11eb_81fe_98af6589fb29row16_col19,#T_3502115a_0981_11eb_81fe_98af6589fb29row18_col19{\n",
       "            background-color:  #d7dce3;\n",
       "            color:  #000000;\n",
       "        }#T_3502115a_0981_11eb_81fe_98af6589fb29row3_col12,#T_3502115a_0981_11eb_81fe_98af6589fb29row6_col1,#T_3502115a_0981_11eb_81fe_98af6589fb29row8_col15,#T_3502115a_0981_11eb_81fe_98af6589fb29row12_col8,#T_3502115a_0981_11eb_81fe_98af6589fb29row19_col5{\n",
       "            background-color:  #eed0c0;\n",
       "            color:  #000000;\n",
       "        }#T_3502115a_0981_11eb_81fe_98af6589fb29row3_col13,#T_3502115a_0981_11eb_81fe_98af6589fb29row11_col8,#T_3502115a_0981_11eb_81fe_98af6589fb29row14_col10{\n",
       "            background-color:  #c9d7f0;\n",
       "            color:  #000000;\n",
       "        }#T_3502115a_0981_11eb_81fe_98af6589fb29row3_col15,#T_3502115a_0981_11eb_81fe_98af6589fb29row3_col17,#T_3502115a_0981_11eb_81fe_98af6589fb29row13_col8{\n",
       "            background-color:  #f3c7b1;\n",
       "            color:  #000000;\n",
       "        }#T_3502115a_0981_11eb_81fe_98af6589fb29row3_col16,#T_3502115a_0981_11eb_81fe_98af6589fb29row3_col18,#T_3502115a_0981_11eb_81fe_98af6589fb29row6_col15,#T_3502115a_0981_11eb_81fe_98af6589fb29row6_col17,#T_3502115a_0981_11eb_81fe_98af6589fb29row10_col6,#T_3502115a_0981_11eb_81fe_98af6589fb29row17_col3,#T_3502115a_0981_11eb_81fe_98af6589fb29row17_col10{\n",
       "            background-color:  #cbd8ee;\n",
       "            color:  #000000;\n",
       "        }#T_3502115a_0981_11eb_81fe_98af6589fb29row4_col0,#T_3502115a_0981_11eb_81fe_98af6589fb29row8_col17,#T_3502115a_0981_11eb_81fe_98af6589fb29row11_col12{\n",
       "            background-color:  #efcfbf;\n",
       "            color:  #000000;\n",
       "        }#T_3502115a_0981_11eb_81fe_98af6589fb29row4_col1,#T_3502115a_0981_11eb_81fe_98af6589fb29row5_col11,#T_3502115a_0981_11eb_81fe_98af6589fb29row9_col4{\n",
       "            background-color:  #9bbcff;\n",
       "            color:  #000000;\n",
       "        }#T_3502115a_0981_11eb_81fe_98af6589fb29row4_col2,#T_3502115a_0981_11eb_81fe_98af6589fb29row5_col12{\n",
       "            background-color:  #506bda;\n",
       "            color:  #000000;\n",
       "        }#T_3502115a_0981_11eb_81fe_98af6589fb29row4_col3,#T_3502115a_0981_11eb_81fe_98af6589fb29row7_col3,#T_3502115a_0981_11eb_81fe_98af6589fb29row9_col14{\n",
       "            background-color:  #9abbff;\n",
       "            color:  #000000;\n",
       "        }#T_3502115a_0981_11eb_81fe_98af6589fb29row4_col5,#T_3502115a_0981_11eb_81fe_98af6589fb29row12_col1,#T_3502115a_0981_11eb_81fe_98af6589fb29row14_col5{\n",
       "            background-color:  #f5c4ac;\n",
       "            color:  #000000;\n",
       "        }#T_3502115a_0981_11eb_81fe_98af6589fb29row4_col8,#T_3502115a_0981_11eb_81fe_98af6589fb29row5_col7,#T_3502115a_0981_11eb_81fe_98af6589fb29row6_col2{\n",
       "            background-color:  #c1d4f4;\n",
       "            color:  #000000;\n",
       "        }#T_3502115a_0981_11eb_81fe_98af6589fb29row4_col9,#T_3502115a_0981_11eb_81fe_98af6589fb29row7_col9{\n",
       "            background-color:  #7699f6;\n",
       "            color:  #000000;\n",
       "        }#T_3502115a_0981_11eb_81fe_98af6589fb29row4_col11,#T_3502115a_0981_11eb_81fe_98af6589fb29row11_col13{\n",
       "            background-color:  #dcdddd;\n",
       "            color:  #000000;\n",
       "        }#T_3502115a_0981_11eb_81fe_98af6589fb29row4_col12,#T_3502115a_0981_11eb_81fe_98af6589fb29row7_col4,#T_3502115a_0981_11eb_81fe_98af6589fb29row9_col1,#T_3502115a_0981_11eb_81fe_98af6589fb29row16_col10,#T_3502115a_0981_11eb_81fe_98af6589fb29row18_col10{\n",
       "            background-color:  #c4d5f3;\n",
       "            color:  #000000;\n",
       "        }#T_3502115a_0981_11eb_81fe_98af6589fb29row4_col13{\n",
       "            background-color:  #f2cab5;\n",
       "            color:  #000000;\n",
       "        }#T_3502115a_0981_11eb_81fe_98af6589fb29row4_col15,#T_3502115a_0981_11eb_81fe_98af6589fb29row4_col17,#T_3502115a_0981_11eb_81fe_98af6589fb29row11_col19,#T_3502115a_0981_11eb_81fe_98af6589fb29row13_col11{\n",
       "            background-color:  #c6d6f1;\n",
       "            color:  #000000;\n",
       "        }#T_3502115a_0981_11eb_81fe_98af6589fb29row4_col16,#T_3502115a_0981_11eb_81fe_98af6589fb29row4_col18{\n",
       "            background-color:  #f7a98b;\n",
       "            color:  #000000;\n",
       "        }#T_3502115a_0981_11eb_81fe_98af6589fb29row4_col19,#T_3502115a_0981_11eb_81fe_98af6589fb29row13_col16{\n",
       "            background-color:  #cf453c;\n",
       "            color:  #f1f1f1;\n",
       "        }#T_3502115a_0981_11eb_81fe_98af6589fb29row5_col0{\n",
       "            background-color:  #ea7b60;\n",
       "            color:  #000000;\n",
       "        }#T_3502115a_0981_11eb_81fe_98af6589fb29row5_col1,#T_3502115a_0981_11eb_81fe_98af6589fb29row6_col3,#T_3502115a_0981_11eb_81fe_98af6589fb29row8_col4{\n",
       "            background-color:  #8fb1fe;\n",
       "            color:  #000000;\n",
       "        }#T_3502115a_0981_11eb_81fe_98af6589fb29row5_col2{\n",
       "            background-color:  #92b4fe;\n",
       "            color:  #000000;\n",
       "        }#T_3502115a_0981_11eb_81fe_98af6589fb29row5_col4,#T_3502115a_0981_11eb_81fe_98af6589fb29row5_col14{\n",
       "            background-color:  #ead5c9;\n",
       "            color:  #000000;\n",
       "        }#T_3502115a_0981_11eb_81fe_98af6589fb29row5_col6{\n",
       "            background-color:  #dadce0;\n",
       "            color:  #000000;\n",
       "        }#T_3502115a_0981_11eb_81fe_98af6589fb29row5_col8,#T_3502115a_0981_11eb_81fe_98af6589fb29row7_col19,#T_3502115a_0981_11eb_81fe_98af6589fb29row8_col1,#T_3502115a_0981_11eb_81fe_98af6589fb29row13_col19{\n",
       "            background-color:  #bcd2f7;\n",
       "            color:  #000000;\n",
       "        }#T_3502115a_0981_11eb_81fe_98af6589fb29row5_col9,#T_3502115a_0981_11eb_81fe_98af6589fb29row15_col14,#T_3502115a_0981_11eb_81fe_98af6589fb29row17_col14{\n",
       "            background-color:  #7295f4;\n",
       "            color:  #000000;\n",
       "        }#T_3502115a_0981_11eb_81fe_98af6589fb29row5_col10,#T_3502115a_0981_11eb_81fe_98af6589fb29row10_col8,#T_3502115a_0981_11eb_81fe_98af6589fb29row19_col10{\n",
       "            background-color:  #ccd9ed;\n",
       "            color:  #000000;\n",
       "        }#T_3502115a_0981_11eb_81fe_98af6589fb29row5_col13{\n",
       "            background-color:  #f6bda2;\n",
       "            color:  #000000;\n",
       "        }#T_3502115a_0981_11eb_81fe_98af6589fb29row5_col16,#T_3502115a_0981_11eb_81fe_98af6589fb29row5_col18{\n",
       "            background-color:  #f59c7d;\n",
       "            color:  #000000;\n",
       "        }#T_3502115a_0981_11eb_81fe_98af6589fb29row6_col5,#T_3502115a_0981_11eb_81fe_98af6589fb29row10_col16,#T_3502115a_0981_11eb_81fe_98af6589fb29row10_col18{\n",
       "            background-color:  #d3dbe7;\n",
       "            color:  #000000;\n",
       "        }#T_3502115a_0981_11eb_81fe_98af6589fb29row6_col12,#T_3502115a_0981_11eb_81fe_98af6589fb29row6_col13{\n",
       "            background-color:  #abc8fd;\n",
       "            color:  #000000;\n",
       "        }#T_3502115a_0981_11eb_81fe_98af6589fb29row6_col16,#T_3502115a_0981_11eb_81fe_98af6589fb29row6_col18,#T_3502115a_0981_11eb_81fe_98af6589fb29row8_col0,#T_3502115a_0981_11eb_81fe_98af6589fb29row11_col14{\n",
       "            background-color:  #c7d7f0;\n",
       "            color:  #000000;\n",
       "        }#T_3502115a_0981_11eb_81fe_98af6589fb29row7_col0,#T_3502115a_0981_11eb_81fe_98af6589fb29row9_col11{\n",
       "            background-color:  #b9d0f9;\n",
       "            color:  #000000;\n",
       "        }#T_3502115a_0981_11eb_81fe_98af6589fb29row7_col1{\n",
       "            background-color:  #dedcdb;\n",
       "            color:  #000000;\n",
       "        }#T_3502115a_0981_11eb_81fe_98af6589fb29row7_col5,#T_3502115a_0981_11eb_81fe_98af6589fb29row18_col11{\n",
       "            background-color:  #b2ccfb;\n",
       "            color:  #000000;\n",
       "        }#T_3502115a_0981_11eb_81fe_98af6589fb29row7_col6,#T_3502115a_0981_11eb_81fe_98af6589fb29row11_col6{\n",
       "            background-color:  #cdd9ec;\n",
       "            color:  #000000;\n",
       "        }#T_3502115a_0981_11eb_81fe_98af6589fb29row7_col11{\n",
       "            background-color:  #c32e31;\n",
       "            color:  #f1f1f1;\n",
       "        }#T_3502115a_0981_11eb_81fe_98af6589fb29row7_col13{\n",
       "            background-color:  #dddcdc;\n",
       "            color:  #000000;\n",
       "        }#T_3502115a_0981_11eb_81fe_98af6589fb29row7_col15,#T_3502115a_0981_11eb_81fe_98af6589fb29row7_col17{\n",
       "            background-color:  #f4c5ad;\n",
       "            color:  #000000;\n",
       "        }#T_3502115a_0981_11eb_81fe_98af6589fb29row8_col2{\n",
       "            background-color:  #5e7de7;\n",
       "            color:  #000000;\n",
       "        }#T_3502115a_0981_11eb_81fe_98af6589fb29row8_col3,#T_3502115a_0981_11eb_81fe_98af6589fb29row9_col3,#T_3502115a_0981_11eb_81fe_98af6589fb29row14_col3,#T_3502115a_0981_11eb_81fe_98af6589fb29row15_col13,#T_3502115a_0981_11eb_81fe_98af6589fb29row17_col13{\n",
       "            background-color:  #98b9ff;\n",
       "            color:  #000000;\n",
       "        }#T_3502115a_0981_11eb_81fe_98af6589fb29row8_col11{\n",
       "            background-color:  #b6cefa;\n",
       "            color:  #000000;\n",
       "        }#T_3502115a_0981_11eb_81fe_98af6589fb29row8_col12,#T_3502115a_0981_11eb_81fe_98af6589fb29row9_col16,#T_3502115a_0981_11eb_81fe_98af6589fb29row9_col18,#T_3502115a_0981_11eb_81fe_98af6589fb29row15_col7,#T_3502115a_0981_11eb_81fe_98af6589fb29row16_col4,#T_3502115a_0981_11eb_81fe_98af6589fb29row17_col7,#T_3502115a_0981_11eb_81fe_98af6589fb29row18_col4{\n",
       "            background-color:  #f0cdbb;\n",
       "            color:  #000000;\n",
       "        }#T_3502115a_0981_11eb_81fe_98af6589fb29row8_col13{\n",
       "            background-color:  #f5c2aa;\n",
       "            color:  #000000;\n",
       "        }#T_3502115a_0981_11eb_81fe_98af6589fb29row8_col14{\n",
       "            background-color:  #8caffe;\n",
       "            color:  #000000;\n",
       "        }#T_3502115a_0981_11eb_81fe_98af6589fb29row8_col16,#T_3502115a_0981_11eb_81fe_98af6589fb29row8_col18{\n",
       "            background-color:  #f3c8b2;\n",
       "            color:  #000000;\n",
       "        }#T_3502115a_0981_11eb_81fe_98af6589fb29row8_col19,#T_3502115a_0981_11eb_81fe_98af6589fb29row17_col2{\n",
       "            background-color:  #7b9ff9;\n",
       "            color:  #000000;\n",
       "        }#T_3502115a_0981_11eb_81fe_98af6589fb29row9_col2,#T_3502115a_0981_11eb_81fe_98af6589fb29row18_col2{\n",
       "            background-color:  #5d7ce6;\n",
       "            color:  #000000;\n",
       "        }#T_3502115a_0981_11eb_81fe_98af6589fb29row9_col15,#T_3502115a_0981_11eb_81fe_98af6589fb29row9_col17,#T_3502115a_0981_11eb_81fe_98af6589fb29row12_col11{\n",
       "            background-color:  #e2dad5;\n",
       "            color:  #000000;\n",
       "        }#T_3502115a_0981_11eb_81fe_98af6589fb29row9_col19,#T_3502115a_0981_11eb_81fe_98af6589fb29row12_col4,#T_3502115a_0981_11eb_81fe_98af6589fb29row12_col19{\n",
       "            background-color:  #89acfd;\n",
       "            color:  #000000;\n",
       "        }#T_3502115a_0981_11eb_81fe_98af6589fb29row10_col0,#T_3502115a_0981_11eb_81fe_98af6589fb29row19_col0{\n",
       "            background-color:  #e1dad6;\n",
       "            color:  #000000;\n",
       "        }#T_3502115a_0981_11eb_81fe_98af6589fb29row10_col2{\n",
       "            background-color:  #5470de;\n",
       "            color:  #000000;\n",
       "        }#T_3502115a_0981_11eb_81fe_98af6589fb29row10_col9{\n",
       "            background-color:  #7a9df8;\n",
       "            color:  #000000;\n",
       "        }#T_3502115a_0981_11eb_81fe_98af6589fb29row10_col13,#T_3502115a_0981_11eb_81fe_98af6589fb29row14_col8{\n",
       "            background-color:  #c0d4f5;\n",
       "            color:  #000000;\n",
       "        }#T_3502115a_0981_11eb_81fe_98af6589fb29row10_col14{\n",
       "            background-color:  #90b2fe;\n",
       "            color:  #000000;\n",
       "        }#T_3502115a_0981_11eb_81fe_98af6589fb29row10_col15,#T_3502115a_0981_11eb_81fe_98af6589fb29row10_col17,#T_3502115a_0981_11eb_81fe_98af6589fb29row13_col4,#T_3502115a_0981_11eb_81fe_98af6589fb29row19_col15,#T_3502115a_0981_11eb_81fe_98af6589fb29row19_col17{\n",
       "            background-color:  #d8dce2;\n",
       "            color:  #000000;\n",
       "        }#T_3502115a_0981_11eb_81fe_98af6589fb29row10_col19{\n",
       "            background-color:  #81a4fb;\n",
       "            color:  #000000;\n",
       "        }#T_3502115a_0981_11eb_81fe_98af6589fb29row11_col0,#T_3502115a_0981_11eb_81fe_98af6589fb29row13_col9,#T_3502115a_0981_11eb_81fe_98af6589fb29row19_col1{\n",
       "            background-color:  #adc9fd;\n",
       "            color:  #000000;\n",
       "        }#T_3502115a_0981_11eb_81fe_98af6589fb29row11_col1{\n",
       "            background-color:  #e0dbd8;\n",
       "            color:  #000000;\n",
       "        }#T_3502115a_0981_11eb_81fe_98af6589fb29row11_col5{\n",
       "            background-color:  #a7c5fe;\n",
       "            color:  #000000;\n",
       "        }#T_3502115a_0981_11eb_81fe_98af6589fb29row11_col7{\n",
       "            background-color:  #c12b30;\n",
       "            color:  #f1f1f1;\n",
       "        }#T_3502115a_0981_11eb_81fe_98af6589fb29row11_col9,#T_3502115a_0981_11eb_81fe_98af6589fb29row19_col9{\n",
       "            background-color:  #779af7;\n",
       "            color:  #000000;\n",
       "        }#T_3502115a_0981_11eb_81fe_98af6589fb29row11_col10{\n",
       "            background-color:  #6180e9;\n",
       "            color:  #000000;\n",
       "        }#T_3502115a_0981_11eb_81fe_98af6589fb29row11_col15,#T_3502115a_0981_11eb_81fe_98af6589fb29row11_col17,#T_3502115a_0981_11eb_81fe_98af6589fb29row19_col16,#T_3502115a_0981_11eb_81fe_98af6589fb29row19_col18{\n",
       "            background-color:  #f7ba9f;\n",
       "            color:  #000000;\n",
       "        }#T_3502115a_0981_11eb_81fe_98af6589fb29row11_col16,#T_3502115a_0981_11eb_81fe_98af6589fb29row11_col18{\n",
       "            background-color:  #d9dce1;\n",
       "            color:  #000000;\n",
       "        }#T_3502115a_0981_11eb_81fe_98af6589fb29row12_col0{\n",
       "            background-color:  #5572df;\n",
       "            color:  #000000;\n",
       "        }#T_3502115a_0981_11eb_81fe_98af6589fb29row12_col2{\n",
       "            background-color:  #6c8ff1;\n",
       "            color:  #000000;\n",
       "        }#T_3502115a_0981_11eb_81fe_98af6589fb29row12_col13,#T_3502115a_0981_11eb_81fe_98af6589fb29row15_col6,#T_3502115a_0981_11eb_81fe_98af6589fb29row17_col6{\n",
       "            background-color:  #b5cdfa;\n",
       "            color:  #000000;\n",
       "        }#T_3502115a_0981_11eb_81fe_98af6589fb29row12_col14{\n",
       "            background-color:  #88abfd;\n",
       "            color:  #000000;\n",
       "        }#T_3502115a_0981_11eb_81fe_98af6589fb29row12_col15,#T_3502115a_0981_11eb_81fe_98af6589fb29row12_col17{\n",
       "            background-color:  #d24b40;\n",
       "            color:  #f1f1f1;\n",
       "        }#T_3502115a_0981_11eb_81fe_98af6589fb29row12_col16,#T_3502115a_0981_11eb_81fe_98af6589fb29row12_col18{\n",
       "            background-color:  #b7cff9;\n",
       "            color:  #000000;\n",
       "        }#T_3502115a_0981_11eb_81fe_98af6589fb29row13_col0{\n",
       "            background-color:  #f7b89c;\n",
       "            color:  #000000;\n",
       "        }#T_3502115a_0981_11eb_81fe_98af6589fb29row13_col1{\n",
       "            background-color:  #516ddb;\n",
       "            color:  #000000;\n",
       "        }#T_3502115a_0981_11eb_81fe_98af6589fb29row13_col2{\n",
       "            background-color:  #5a78e4;\n",
       "            color:  #000000;\n",
       "        }#T_3502115a_0981_11eb_81fe_98af6589fb29row13_col3,#T_3502115a_0981_11eb_81fe_98af6589fb29row15_col9{\n",
       "            background-color:  #82a6fb;\n",
       "            color:  #000000;\n",
       "        }#T_3502115a_0981_11eb_81fe_98af6589fb29row13_col10{\n",
       "            background-color:  #bed2f6;\n",
       "            color:  #000000;\n",
       "        }#T_3502115a_0981_11eb_81fe_98af6589fb29row13_col12{\n",
       "            background-color:  #b1cbfc;\n",
       "            color:  #000000;\n",
       "        }#T_3502115a_0981_11eb_81fe_98af6589fb29row13_col15,#T_3502115a_0981_11eb_81fe_98af6589fb29row13_col17{\n",
       "            background-color:  #aac7fd;\n",
       "            color:  #000000;\n",
       "        }#T_3502115a_0981_11eb_81fe_98af6589fb29row13_col18,#T_3502115a_0981_11eb_81fe_98af6589fb29row19_col4,#T_3502115a_0981_11eb_81fe_98af6589fb29row19_col14{\n",
       "            background-color:  #cd423b;\n",
       "            color:  #f1f1f1;\n",
       "        }#T_3502115a_0981_11eb_81fe_98af6589fb29row14_col0,#T_3502115a_0981_11eb_81fe_98af6589fb29row16_col14,#T_3502115a_0981_11eb_81fe_98af6589fb29row18_col14{\n",
       "            background-color:  #efcebd;\n",
       "            color:  #000000;\n",
       "        }#T_3502115a_0981_11eb_81fe_98af6589fb29row14_col13{\n",
       "            background-color:  #f2cbb7;\n",
       "            color:  #000000;\n",
       "        }#T_3502115a_0981_11eb_81fe_98af6589fb29row14_col15,#T_3502115a_0981_11eb_81fe_98af6589fb29row14_col17{\n",
       "            background-color:  #c5d6f2;\n",
       "            color:  #000000;\n",
       "        }#T_3502115a_0981_11eb_81fe_98af6589fb29row14_col16,#T_3502115a_0981_11eb_81fe_98af6589fb29row14_col18{\n",
       "            background-color:  #f7aa8c;\n",
       "            color:  #000000;\n",
       "        }#T_3502115a_0981_11eb_81fe_98af6589fb29row14_col19,#T_3502115a_0981_11eb_81fe_98af6589fb29row16_col13,#T_3502115a_0981_11eb_81fe_98af6589fb29row18_col13{\n",
       "            background-color:  #d0473d;\n",
       "            color:  #f1f1f1;\n",
       "        }#T_3502115a_0981_11eb_81fe_98af6589fb29row15_col2,#T_3502115a_0981_11eb_81fe_98af6589fb29row15_col19,#T_3502115a_0981_11eb_81fe_98af6589fb29row17_col19{\n",
       "            background-color:  #7ea1fa;\n",
       "            color:  #000000;\n",
       "        }#T_3502115a_0981_11eb_81fe_98af6589fb29row15_col4{\n",
       "            background-color:  #7396f5;\n",
       "            color:  #000000;\n",
       "        }#T_3502115a_0981_11eb_81fe_98af6589fb29row15_col5,#T_3502115a_0981_11eb_81fe_98af6589fb29row17_col5{\n",
       "            background-color:  #445acc;\n",
       "            color:  #f1f1f1;\n",
       "        }#T_3502115a_0981_11eb_81fe_98af6589fb29row15_col11,#T_3502115a_0981_11eb_81fe_98af6589fb29row17_col11{\n",
       "            background-color:  #edd1c2;\n",
       "            color:  #000000;\n",
       "        }#T_3502115a_0981_11eb_81fe_98af6589fb29row15_col12,#T_3502115a_0981_11eb_81fe_98af6589fb29row17_col12{\n",
       "            background-color:  #d55042;\n",
       "            color:  #000000;\n",
       "        }#T_3502115a_0981_11eb_81fe_98af6589fb29row16_col3,#T_3502115a_0981_11eb_81fe_98af6589fb29row18_col3{\n",
       "            background-color:  #6f92f3;\n",
       "            color:  #000000;\n",
       "        }#T_3502115a_0981_11eb_81fe_98af6589fb29row16_col5,#T_3502115a_0981_11eb_81fe_98af6589fb29row18_col5{\n",
       "            background-color:  #f7ac8e;\n",
       "            color:  #000000;\n",
       "        }#T_3502115a_0981_11eb_81fe_98af6589fb29row16_col8,#T_3502115a_0981_11eb_81fe_98af6589fb29row18_col8,#T_3502115a_0981_11eb_81fe_98af6589fb29row19_col7{\n",
       "            background-color:  #ebd3c6;\n",
       "            color:  #000000;\n",
       "        }#T_3502115a_0981_11eb_81fe_98af6589fb29row16_col12,#T_3502115a_0981_11eb_81fe_98af6589fb29row18_col12{\n",
       "            background-color:  #a3c2fe;\n",
       "            color:  #000000;\n",
       "        }#T_3502115a_0981_11eb_81fe_98af6589fb29row17_col9{\n",
       "            background-color:  #84a7fc;\n",
       "            color:  #000000;\n",
       "        }#T_3502115a_0981_11eb_81fe_98af6589fb29row19_col2{\n",
       "            background-color:  #4b64d5;\n",
       "            color:  #f1f1f1;\n",
       "        }</style><table id=\"T_3502115a_0981_11eb_81fe_98af6589fb29\" ><thead>    <tr>        <th class=\"blank level0\" ></th>        <th class=\"col_heading level0 col0\" >U</th>        <th class=\"col_heading level0 col1\" >V</th>        <th class=\"col_heading level0 col2\" >T</th>        <th class=\"col_heading level0 col3\" >CLCT</th>        <th class=\"col_heading level0 col4\" >wspeed</th>        <th class=\"col_heading level0 col5\" >wdir</th>        <th class=\"col_heading level0 col6\" >hour</th>        <th class=\"col_heading level0 col7\" >month</th>        <th class=\"col_heading level0 col8\" >hour_sin</th>        <th class=\"col_heading level0 col9\" >hour_cos</th>        <th class=\"col_heading level0 col10\" >month_sin</th>        <th class=\"col_heading level0 col11\" >month_cos</th>        <th class=\"col_heading level0 col12\" >wdir_sin</th>        <th class=\"col_heading level0 col13\" >wdir_cos</th>        <th class=\"col_heading level0 col14\" >wspeed_T</th>        <th class=\"col_heading level0 col15\" >wspeed_wdirsin</th>        <th class=\"col_heading level0 col16\" >wspeed_wdircos</th>        <th class=\"col_heading level0 col17\" >wspeed_wdirsin_T</th>        <th class=\"col_heading level0 col18\" >wspeed_wdircos_T</th>        <th class=\"col_heading level0 col19\" >production</th>    </tr></thead><tbody>\n",
       "                <tr>\n",
       "                        <th id=\"T_3502115a_0981_11eb_81fe_98af6589fb29level0_row0\" class=\"row_heading level0 row0\" >U</th>\n",
       "                        <td id=\"T_3502115a_0981_11eb_81fe_98af6589fb29row0_col0\" class=\"data row0 col0\" >1.000000</td>\n",
       "                        <td id=\"T_3502115a_0981_11eb_81fe_98af6589fb29row0_col1\" class=\"data row0 col1\" >-0.499959</td>\n",
       "                        <td id=\"T_3502115a_0981_11eb_81fe_98af6589fb29row0_col2\" class=\"data row0 col2\" >0.093725</td>\n",
       "                        <td id=\"T_3502115a_0981_11eb_81fe_98af6589fb29row0_col3\" class=\"data row0 col3\" >-0.228826</td>\n",
       "                        <td id=\"T_3502115a_0981_11eb_81fe_98af6589fb29row0_col4\" class=\"data row0 col4\" >0.161409</td>\n",
       "                        <td id=\"T_3502115a_0981_11eb_81fe_98af6589fb29row0_col5\" class=\"data row0 col5\" >0.636242</td>\n",
       "                        <td id=\"T_3502115a_0981_11eb_81fe_98af6589fb29row0_col6\" class=\"data row0 col6\" >0.126688</td>\n",
       "                        <td id=\"T_3502115a_0981_11eb_81fe_98af6589fb29row0_col7\" class=\"data row0 col7\" >-0.246463</td>\n",
       "                        <td id=\"T_3502115a_0981_11eb_81fe_98af6589fb29row0_col8\" class=\"data row0 col8\" >-0.154776</td>\n",
       "                        <td id=\"T_3502115a_0981_11eb_81fe_98af6589fb29row0_col9\" class=\"data row0 col9\" >-0.040398</td>\n",
       "                        <td id=\"T_3502115a_0981_11eb_81fe_98af6589fb29row0_col10\" class=\"data row0 col10\" >0.037303</td>\n",
       "                        <td id=\"T_3502115a_0981_11eb_81fe_98af6589fb29row0_col11\" class=\"data row0 col11\" >-0.314854</td>\n",
       "                        <td id=\"T_3502115a_0981_11eb_81fe_98af6589fb29row0_col12\" class=\"data row0 col12\" >-0.824144</td>\n",
       "                        <td id=\"T_3502115a_0981_11eb_81fe_98af6589fb29row0_col13\" class=\"data row0 col13\" >0.330295</td>\n",
       "                        <td id=\"T_3502115a_0981_11eb_81fe_98af6589fb29row0_col14\" class=\"data row0 col14\" >0.165342</td>\n",
       "                        <td id=\"T_3502115a_0981_11eb_81fe_98af6589fb29row0_col15\" class=\"data row0 col15\" >-1.000000</td>\n",
       "                        <td id=\"T_3502115a_0981_11eb_81fe_98af6589fb29row0_col16\" class=\"data row0 col16\" >0.499959</td>\n",
       "                        <td id=\"T_3502115a_0981_11eb_81fe_98af6589fb29row0_col17\" class=\"data row0 col17\" >-0.999791</td>\n",
       "                        <td id=\"T_3502115a_0981_11eb_81fe_98af6589fb29row0_col18\" class=\"data row0 col18\" >0.498260</td>\n",
       "                        <td id=\"T_3502115a_0981_11eb_81fe_98af6589fb29row0_col19\" class=\"data row0 col19\" >0.038771</td>\n",
       "            </tr>\n",
       "            <tr>\n",
       "                        <th id=\"T_3502115a_0981_11eb_81fe_98af6589fb29level0_row1\" class=\"row_heading level0 row1\" >V</th>\n",
       "                        <td id=\"T_3502115a_0981_11eb_81fe_98af6589fb29row1_col0\" class=\"data row1 col0\" >-0.499959</td>\n",
       "                        <td id=\"T_3502115a_0981_11eb_81fe_98af6589fb29row1_col1\" class=\"data row1 col1\" >1.000000</td>\n",
       "                        <td id=\"T_3502115a_0981_11eb_81fe_98af6589fb29row1_col2\" class=\"data row1 col2\" >0.235113</td>\n",
       "                        <td id=\"T_3502115a_0981_11eb_81fe_98af6589fb29row1_col3\" class=\"data row1 col3\" >0.131258</td>\n",
       "                        <td id=\"T_3502115a_0981_11eb_81fe_98af6589fb29row1_col4\" class=\"data row1 col4\" >-0.415488</td>\n",
       "                        <td id=\"T_3502115a_0981_11eb_81fe_98af6589fb29row1_col5\" class=\"data row1 col5\" >-0.491604</td>\n",
       "                        <td id=\"T_3502115a_0981_11eb_81fe_98af6589fb29row1_col6\" class=\"data row1 col6\" >0.154759</td>\n",
       "                        <td id=\"T_3502115a_0981_11eb_81fe_98af6589fb29row1_col7\" class=\"data row1 col7\" >0.010461</td>\n",
       "                        <td id=\"T_3502115a_0981_11eb_81fe_98af6589fb29row1_col8\" class=\"data row1 col8\" >-0.221488</td>\n",
       "                        <td id=\"T_3502115a_0981_11eb_81fe_98af6589fb29row1_col9\" class=\"data row1 col9\" >-0.172218</td>\n",
       "                        <td id=\"T_3502115a_0981_11eb_81fe_98af6589fb29row1_col10\" class=\"data row1 col10\" >0.073361</td>\n",
       "                        <td id=\"T_3502115a_0981_11eb_81fe_98af6589fb29row1_col11\" class=\"data row1 col11\" >0.028729</td>\n",
       "                        <td id=\"T_3502115a_0981_11eb_81fe_98af6589fb29row1_col12\" class=\"data row1 col12\" >0.253424</td>\n",
       "                        <td id=\"T_3502115a_0981_11eb_81fe_98af6589fb29row1_col13\" class=\"data row1 col13\" >-0.851068</td>\n",
       "                        <td id=\"T_3502115a_0981_11eb_81fe_98af6589fb29row1_col14\" class=\"data row1 col14\" >-0.412679</td>\n",
       "                        <td id=\"T_3502115a_0981_11eb_81fe_98af6589fb29row1_col15\" class=\"data row1 col15\" >0.499959</td>\n",
       "                        <td id=\"T_3502115a_0981_11eb_81fe_98af6589fb29row1_col16\" class=\"data row1 col16\" >-1.000000</td>\n",
       "                        <td id=\"T_3502115a_0981_11eb_81fe_98af6589fb29row1_col17\" class=\"data row1 col17\" >0.496462</td>\n",
       "                        <td id=\"T_3502115a_0981_11eb_81fe_98af6589fb29row1_col18\" class=\"data row1 col18\" >-0.999857</td>\n",
       "                        <td id=\"T_3502115a_0981_11eb_81fe_98af6589fb29row1_col19\" class=\"data row1 col19\" >-0.313315</td>\n",
       "            </tr>\n",
       "            <tr>\n",
       "                        <th id=\"T_3502115a_0981_11eb_81fe_98af6589fb29level0_row2\" class=\"row_heading level0 row2\" >T</th>\n",
       "                        <td id=\"T_3502115a_0981_11eb_81fe_98af6589fb29row2_col0\" class=\"data row2 col0\" >0.093725</td>\n",
       "                        <td id=\"T_3502115a_0981_11eb_81fe_98af6589fb29row2_col1\" class=\"data row2 col1\" >0.235113</td>\n",
       "                        <td id=\"T_3502115a_0981_11eb_81fe_98af6589fb29row2_col2\" class=\"data row2 col2\" >1.000000</td>\n",
       "                        <td id=\"T_3502115a_0981_11eb_81fe_98af6589fb29row2_col3\" class=\"data row2 col3\" >-0.356523</td>\n",
       "                        <td id=\"T_3502115a_0981_11eb_81fe_98af6589fb29row2_col4\" class=\"data row2 col4\" >-0.285795</td>\n",
       "                        <td id=\"T_3502115a_0981_11eb_81fe_98af6589fb29row2_col5\" class=\"data row2 col5\" >-0.020203</td>\n",
       "                        <td id=\"T_3502115a_0981_11eb_81fe_98af6589fb29row2_col6\" class=\"data row2 col6\" >0.175492</td>\n",
       "                        <td id=\"T_3502115a_0981_11eb_81fe_98af6589fb29row2_col7\" class=\"data row2 col7\" >-0.133516</td>\n",
       "                        <td id=\"T_3502115a_0981_11eb_81fe_98af6589fb29row2_col8\" class=\"data row2 col8\" >-0.224624</td>\n",
       "                        <td id=\"T_3502115a_0981_11eb_81fe_98af6589fb29row2_col9\" class=\"data row2 col9\" >-0.232222</td>\n",
       "                        <td id=\"T_3502115a_0981_11eb_81fe_98af6589fb29row2_col10\" class=\"data row2 col10\" >-0.267675</td>\n",
       "                        <td id=\"T_3502115a_0981_11eb_81fe_98af6589fb29row2_col11\" class=\"data row2 col11\" >-0.384112</td>\n",
       "                        <td id=\"T_3502115a_0981_11eb_81fe_98af6589fb29row2_col12\" class=\"data row2 col12\" >-0.162532</td>\n",
       "                        <td id=\"T_3502115a_0981_11eb_81fe_98af6589fb29row2_col13\" class=\"data row2 col13\" >-0.242899</td>\n",
       "                        <td id=\"T_3502115a_0981_11eb_81fe_98af6589fb29row2_col14\" class=\"data row2 col14\" >-0.259061</td>\n",
       "                        <td id=\"T_3502115a_0981_11eb_81fe_98af6589fb29row2_col15\" class=\"data row2 col15\" >-0.093725</td>\n",
       "                        <td id=\"T_3502115a_0981_11eb_81fe_98af6589fb29row2_col16\" class=\"data row2 col16\" >-0.235113</td>\n",
       "                        <td id=\"T_3502115a_0981_11eb_81fe_98af6589fb29row2_col17\" class=\"data row2 col17\" >-0.104739</td>\n",
       "                        <td id=\"T_3502115a_0981_11eb_81fe_98af6589fb29row2_col18\" class=\"data row2 col18\" >-0.230544</td>\n",
       "                        <td id=\"T_3502115a_0981_11eb_81fe_98af6589fb29row2_col19\" class=\"data row2 col19\" >-0.304031</td>\n",
       "            </tr>\n",
       "            <tr>\n",
       "                        <th id=\"T_3502115a_0981_11eb_81fe_98af6589fb29level0_row3\" class=\"row_heading level0 row3\" >CLCT</th>\n",
       "                        <td id=\"T_3502115a_0981_11eb_81fe_98af6589fb29row3_col0\" class=\"data row3 col0\" >-0.228826</td>\n",
       "                        <td id=\"T_3502115a_0981_11eb_81fe_98af6589fb29row3_col1\" class=\"data row3 col1\" >0.131258</td>\n",
       "                        <td id=\"T_3502115a_0981_11eb_81fe_98af6589fb29row3_col2\" class=\"data row3 col2\" >-0.356523</td>\n",
       "                        <td id=\"T_3502115a_0981_11eb_81fe_98af6589fb29row3_col3\" class=\"data row3 col3\" >1.000000</td>\n",
       "                        <td id=\"T_3502115a_0981_11eb_81fe_98af6589fb29row3_col4\" class=\"data row3 col4\" >0.035081</td>\n",
       "                        <td id=\"T_3502115a_0981_11eb_81fe_98af6589fb29row3_col5\" class=\"data row3 col5\" >-0.193472</td>\n",
       "                        <td id=\"T_3502115a_0981_11eb_81fe_98af6589fb29row3_col6\" class=\"data row3 col6\" >-0.011256</td>\n",
       "                        <td id=\"T_3502115a_0981_11eb_81fe_98af6589fb29row3_col7\" class=\"data row3 col7\" >0.035389</td>\n",
       "                        <td id=\"T_3502115a_0981_11eb_81fe_98af6589fb29row3_col8\" class=\"data row3 col8\" >0.025334</td>\n",
       "                        <td id=\"T_3502115a_0981_11eb_81fe_98af6589fb29row3_col9\" class=\"data row3 col9\" >0.028760</td>\n",
       "                        <td id=\"T_3502115a_0981_11eb_81fe_98af6589fb29row3_col10\" class=\"data row3 col10\" >0.167472</td>\n",
       "                        <td id=\"T_3502115a_0981_11eb_81fe_98af6589fb29row3_col11\" class=\"data row3 col11\" >0.160330</td>\n",
       "                        <td id=\"T_3502115a_0981_11eb_81fe_98af6589fb29row3_col12\" class=\"data row3 col12\" >0.228173</td>\n",
       "                        <td id=\"T_3502115a_0981_11eb_81fe_98af6589fb29row3_col13\" class=\"data row3 col13\" >-0.059153</td>\n",
       "                        <td id=\"T_3502115a_0981_11eb_81fe_98af6589fb29row3_col14\" class=\"data row3 col14\" >0.025096</td>\n",
       "                        <td id=\"T_3502115a_0981_11eb_81fe_98af6589fb29row3_col15\" class=\"data row3 col15\" >0.228826</td>\n",
       "                        <td id=\"T_3502115a_0981_11eb_81fe_98af6589fb29row3_col16\" class=\"data row3 col16\" >-0.131258</td>\n",
       "                        <td id=\"T_3502115a_0981_11eb_81fe_98af6589fb29row3_col17\" class=\"data row3 col17\" >0.233003</td>\n",
       "                        <td id=\"T_3502115a_0981_11eb_81fe_98af6589fb29row3_col18\" class=\"data row3 col18\" >-0.132493</td>\n",
       "                        <td id=\"T_3502115a_0981_11eb_81fe_98af6589fb29row3_col19\" class=\"data row3 col19\" >0.075727</td>\n",
       "            </tr>\n",
       "            <tr>\n",
       "                        <th id=\"T_3502115a_0981_11eb_81fe_98af6589fb29level0_row4\" class=\"row_heading level0 row4\" >wspeed</th>\n",
       "                        <td id=\"T_3502115a_0981_11eb_81fe_98af6589fb29row4_col0\" class=\"data row4 col0\" >0.161409</td>\n",
       "                        <td id=\"T_3502115a_0981_11eb_81fe_98af6589fb29row4_col1\" class=\"data row4 col1\" >-0.415488</td>\n",
       "                        <td id=\"T_3502115a_0981_11eb_81fe_98af6589fb29row4_col2\" class=\"data row4 col2\" >-0.285795</td>\n",
       "                        <td id=\"T_3502115a_0981_11eb_81fe_98af6589fb29row4_col3\" class=\"data row4 col3\" >0.035081</td>\n",
       "                        <td id=\"T_3502115a_0981_11eb_81fe_98af6589fb29row4_col4\" class=\"data row4 col4\" >1.000000</td>\n",
       "                        <td id=\"T_3502115a_0981_11eb_81fe_98af6589fb29row4_col5\" class=\"data row4 col5\" >0.367461</td>\n",
       "                        <td id=\"T_3502115a_0981_11eb_81fe_98af6589fb29row4_col6\" class=\"data row4 col6\" >0.033449</td>\n",
       "                        <td id=\"T_3502115a_0981_11eb_81fe_98af6589fb29row4_col7\" class=\"data row4 col7\" >0.169772</td>\n",
       "                        <td id=\"T_3502115a_0981_11eb_81fe_98af6589fb29row4_col8\" class=\"data row4 col8\" >-0.055585</td>\n",
       "                        <td id=\"T_3502115a_0981_11eb_81fe_98af6589fb29row4_col9\" class=\"data row4 col9\" >-0.002753</td>\n",
       "                        <td id=\"T_3502115a_0981_11eb_81fe_98af6589fb29row4_col10\" class=\"data row4 col10\" >-0.039219</td>\n",
       "                        <td id=\"T_3502115a_0981_11eb_81fe_98af6589fb29row4_col11\" class=\"data row4 col11\" >0.196896</td>\n",
       "                        <td id=\"T_3502115a_0981_11eb_81fe_98af6589fb29row4_col12\" class=\"data row4 col12\" >-0.074225</td>\n",
       "                        <td id=\"T_3502115a_0981_11eb_81fe_98af6589fb29row4_col13\" class=\"data row4 col13\" >0.265006</td>\n",
       "                        <td id=\"T_3502115a_0981_11eb_81fe_98af6589fb29row4_col14\" class=\"data row4 col14\" >0.999496</td>\n",
       "                        <td id=\"T_3502115a_0981_11eb_81fe_98af6589fb29row4_col15\" class=\"data row4 col15\" >-0.161409</td>\n",
       "                        <td id=\"T_3502115a_0981_11eb_81fe_98af6589fb29row4_col16\" class=\"data row4 col16\" >0.415488</td>\n",
       "                        <td id=\"T_3502115a_0981_11eb_81fe_98af6589fb29row4_col17\" class=\"data row4 col17\" >-0.160460</td>\n",
       "                        <td id=\"T_3502115a_0981_11eb_81fe_98af6589fb29row4_col18\" class=\"data row4 col18\" >0.414717</td>\n",
       "                        <td id=\"T_3502115a_0981_11eb_81fe_98af6589fb29row4_col19\" class=\"data row4 col19\" >0.899175</td>\n",
       "            </tr>\n",
       "            <tr>\n",
       "                        <th id=\"T_3502115a_0981_11eb_81fe_98af6589fb29level0_row5\" class=\"row_heading level0 row5\" >wdir</th>\n",
       "                        <td id=\"T_3502115a_0981_11eb_81fe_98af6589fb29row5_col0\" class=\"data row5 col0\" >0.636242</td>\n",
       "                        <td id=\"T_3502115a_0981_11eb_81fe_98af6589fb29row5_col1\" class=\"data row5 col1\" >-0.491604</td>\n",
       "                        <td id=\"T_3502115a_0981_11eb_81fe_98af6589fb29row5_col2\" class=\"data row5 col2\" >-0.020203</td>\n",
       "                        <td id=\"T_3502115a_0981_11eb_81fe_98af6589fb29row5_col3\" class=\"data row5 col3\" >-0.193472</td>\n",
       "                        <td id=\"T_3502115a_0981_11eb_81fe_98af6589fb29row5_col4\" class=\"data row5 col4\" >0.367461</td>\n",
       "                        <td id=\"T_3502115a_0981_11eb_81fe_98af6589fb29row5_col5\" class=\"data row5 col5\" >1.000000</td>\n",
       "                        <td id=\"T_3502115a_0981_11eb_81fe_98af6589fb29row5_col6\" class=\"data row5 col6\" >0.093103</td>\n",
       "                        <td id=\"T_3502115a_0981_11eb_81fe_98af6589fb29row5_col7\" class=\"data row5 col7\" >-0.087713</td>\n",
       "                        <td id=\"T_3502115a_0981_11eb_81fe_98af6589fb29row5_col8\" class=\"data row5 col8\" >-0.082734</td>\n",
       "                        <td id=\"T_3502115a_0981_11eb_81fe_98af6589fb29row5_col9\" class=\"data row5 col9\" >-0.018590</td>\n",
       "                        <td id=\"T_3502115a_0981_11eb_81fe_98af6589fb29row5_col10\" class=\"data row5 col10\" >-0.022020</td>\n",
       "                        <td id=\"T_3502115a_0981_11eb_81fe_98af6589fb29row5_col11\" class=\"data row5 col11\" >-0.137228</td>\n",
       "                        <td id=\"T_3502115a_0981_11eb_81fe_98af6589fb29row5_col12\" class=\"data row5 col12\" >-0.692164</td>\n",
       "                        <td id=\"T_3502115a_0981_11eb_81fe_98af6589fb29row5_col13\" class=\"data row5 col13\" >0.355368</td>\n",
       "                        <td id=\"T_3502115a_0981_11eb_81fe_98af6589fb29row5_col14\" class=\"data row5 col14\" >0.369738</td>\n",
       "                        <td id=\"T_3502115a_0981_11eb_81fe_98af6589fb29row5_col15\" class=\"data row5 col15\" >-0.636242</td>\n",
       "                        <td id=\"T_3502115a_0981_11eb_81fe_98af6589fb29row5_col16\" class=\"data row5 col16\" >0.491604</td>\n",
       "                        <td id=\"T_3502115a_0981_11eb_81fe_98af6589fb29row5_col17\" class=\"data row5 col17\" >-0.636557</td>\n",
       "                        <td id=\"T_3502115a_0981_11eb_81fe_98af6589fb29row5_col18\" class=\"data row5 col18\" >0.491697</td>\n",
       "                        <td id=\"T_3502115a_0981_11eb_81fe_98af6589fb29row5_col19\" class=\"data row5 col19\" >0.281222</td>\n",
       "            </tr>\n",
       "            <tr>\n",
       "                        <th id=\"T_3502115a_0981_11eb_81fe_98af6589fb29level0_row6\" class=\"row_heading level0 row6\" >hour</th>\n",
       "                        <td id=\"T_3502115a_0981_11eb_81fe_98af6589fb29row6_col0\" class=\"data row6 col0\" >0.126688</td>\n",
       "                        <td id=\"T_3502115a_0981_11eb_81fe_98af6589fb29row6_col1\" class=\"data row6 col1\" >0.154759</td>\n",
       "                        <td id=\"T_3502115a_0981_11eb_81fe_98af6589fb29row6_col2\" class=\"data row6 col2\" >0.175492</td>\n",
       "                        <td id=\"T_3502115a_0981_11eb_81fe_98af6589fb29row6_col3\" class=\"data row6 col3\" >-0.011256</td>\n",
       "                        <td id=\"T_3502115a_0981_11eb_81fe_98af6589fb29row6_col4\" class=\"data row6 col4\" >0.033449</td>\n",
       "                        <td id=\"T_3502115a_0981_11eb_81fe_98af6589fb29row6_col5\" class=\"data row6 col5\" >0.093103</td>\n",
       "                        <td id=\"T_3502115a_0981_11eb_81fe_98af6589fb29row6_col6\" class=\"data row6 col6\" >1.000000</td>\n",
       "                        <td id=\"T_3502115a_0981_11eb_81fe_98af6589fb29row6_col7\" class=\"data row6 col7\" >0.012206</td>\n",
       "                        <td id=\"T_3502115a_0981_11eb_81fe_98af6589fb29row6_col8\" class=\"data row6 col8\" >-0.775160</td>\n",
       "                        <td id=\"T_3502115a_0981_11eb_81fe_98af6589fb29row6_col9\" class=\"data row6 col9\" >-0.097890</td>\n",
       "                        <td id=\"T_3502115a_0981_11eb_81fe_98af6589fb29row6_col10\" class=\"data row6 col10\" >-0.001260</td>\n",
       "                        <td id=\"T_3502115a_0981_11eb_81fe_98af6589fb29row6_col11\" class=\"data row6 col11\" >0.014505</td>\n",
       "                        <td id=\"T_3502115a_0981_11eb_81fe_98af6589fb29row6_col12\" class=\"data row6 col12\" >-0.210091</td>\n",
       "                        <td id=\"T_3502115a_0981_11eb_81fe_98af6589fb29row6_col13\" class=\"data row6 col13\" >-0.228254</td>\n",
       "                        <td id=\"T_3502115a_0981_11eb_81fe_98af6589fb29row6_col14\" class=\"data row6 col14\" >0.038619</td>\n",
       "                        <td id=\"T_3502115a_0981_11eb_81fe_98af6589fb29row6_col15\" class=\"data row6 col15\" >-0.126688</td>\n",
       "                        <td id=\"T_3502115a_0981_11eb_81fe_98af6589fb29row6_col16\" class=\"data row6 col16\" >-0.154759</td>\n",
       "                        <td id=\"T_3502115a_0981_11eb_81fe_98af6589fb29row6_col17\" class=\"data row6 col17\" >-0.129589</td>\n",
       "                        <td id=\"T_3502115a_0981_11eb_81fe_98af6589fb29row6_col18\" class=\"data row6 col18\" >-0.154932</td>\n",
       "                        <td id=\"T_3502115a_0981_11eb_81fe_98af6589fb29row6_col19\" class=\"data row6 col19\" >0.039108</td>\n",
       "            </tr>\n",
       "            <tr>\n",
       "                        <th id=\"T_3502115a_0981_11eb_81fe_98af6589fb29level0_row7\" class=\"row_heading level0 row7\" >month</th>\n",
       "                        <td id=\"T_3502115a_0981_11eb_81fe_98af6589fb29row7_col0\" class=\"data row7 col0\" >-0.246463</td>\n",
       "                        <td id=\"T_3502115a_0981_11eb_81fe_98af6589fb29row7_col1\" class=\"data row7 col1\" >0.010461</td>\n",
       "                        <td id=\"T_3502115a_0981_11eb_81fe_98af6589fb29row7_col2\" class=\"data row7 col2\" >-0.133516</td>\n",
       "                        <td id=\"T_3502115a_0981_11eb_81fe_98af6589fb29row7_col3\" class=\"data row7 col3\" >0.035389</td>\n",
       "                        <td id=\"T_3502115a_0981_11eb_81fe_98af6589fb29row7_col4\" class=\"data row7 col4\" >0.169772</td>\n",
       "                        <td id=\"T_3502115a_0981_11eb_81fe_98af6589fb29row7_col5\" class=\"data row7 col5\" >-0.087713</td>\n",
       "                        <td id=\"T_3502115a_0981_11eb_81fe_98af6589fb29row7_col6\" class=\"data row7 col6\" >0.012206</td>\n",
       "                        <td id=\"T_3502115a_0981_11eb_81fe_98af6589fb29row7_col7\" class=\"data row7 col7\" >1.000000</td>\n",
       "                        <td id=\"T_3502115a_0981_11eb_81fe_98af6589fb29row7_col8\" class=\"data row7 col8\" >-0.011519</td>\n",
       "                        <td id=\"T_3502115a_0981_11eb_81fe_98af6589fb29row7_col9\" class=\"data row7 col9\" >-0.002368</td>\n",
       "                        <td id=\"T_3502115a_0981_11eb_81fe_98af6589fb29row7_col10\" class=\"data row7 col10\" >-0.828935</td>\n",
       "                        <td id=\"T_3502115a_0981_11eb_81fe_98af6589fb29row7_col11\" class=\"data row7 col11\" >0.931013</td>\n",
       "                        <td id=\"T_3502115a_0981_11eb_81fe_98af6589fb29row7_col12\" class=\"data row7 col12\" >0.168585</td>\n",
       "                        <td id=\"T_3502115a_0981_11eb_81fe_98af6589fb29row7_col13\" class=\"data row7 col13\" >0.074501</td>\n",
       "                        <td id=\"T_3502115a_0981_11eb_81fe_98af6589fb29row7_col14\" class=\"data row7 col14\" >0.165226</td>\n",
       "                        <td id=\"T_3502115a_0981_11eb_81fe_98af6589fb29row7_col15\" class=\"data row7 col15\" >0.246463</td>\n",
       "                        <td id=\"T_3502115a_0981_11eb_81fe_98af6589fb29row7_col16\" class=\"data row7 col16\" >-0.010461</td>\n",
       "                        <td id=\"T_3502115a_0981_11eb_81fe_98af6589fb29row7_col17\" class=\"data row7 col17\" >0.244530</td>\n",
       "                        <td id=\"T_3502115a_0981_11eb_81fe_98af6589fb29row7_col18\" class=\"data row7 col18\" >-0.010362</td>\n",
       "                        <td id=\"T_3502115a_0981_11eb_81fe_98af6589fb29row7_col19\" class=\"data row7 col19\" >0.197867</td>\n",
       "            </tr>\n",
       "            <tr>\n",
       "                        <th id=\"T_3502115a_0981_11eb_81fe_98af6589fb29level0_row8\" class=\"row_heading level0 row8\" >hour_sin</th>\n",
       "                        <td id=\"T_3502115a_0981_11eb_81fe_98af6589fb29row8_col0\" class=\"data row8 col0\" >-0.154776</td>\n",
       "                        <td id=\"T_3502115a_0981_11eb_81fe_98af6589fb29row8_col1\" class=\"data row8 col1\" >-0.221488</td>\n",
       "                        <td id=\"T_3502115a_0981_11eb_81fe_98af6589fb29row8_col2\" class=\"data row8 col2\" >-0.224624</td>\n",
       "                        <td id=\"T_3502115a_0981_11eb_81fe_98af6589fb29row8_col3\" class=\"data row8 col3\" >0.025334</td>\n",
       "                        <td id=\"T_3502115a_0981_11eb_81fe_98af6589fb29row8_col4\" class=\"data row8 col4\" >-0.055585</td>\n",
       "                        <td id=\"T_3502115a_0981_11eb_81fe_98af6589fb29row8_col5\" class=\"data row8 col5\" >-0.082734</td>\n",
       "                        <td id=\"T_3502115a_0981_11eb_81fe_98af6589fb29row8_col6\" class=\"data row8 col6\" >-0.775160</td>\n",
       "                        <td id=\"T_3502115a_0981_11eb_81fe_98af6589fb29row8_col7\" class=\"data row8 col7\" >-0.011519</td>\n",
       "                        <td id=\"T_3502115a_0981_11eb_81fe_98af6589fb29row8_col8\" class=\"data row8 col8\" >1.000000</td>\n",
       "                        <td id=\"T_3502115a_0981_11eb_81fe_98af6589fb29row8_col9\" class=\"data row8 col9\" >-0.010419</td>\n",
       "                        <td id=\"T_3502115a_0981_11eb_81fe_98af6589fb29row8_col10\" class=\"data row8 col10\" >0.002095</td>\n",
       "                        <td id=\"T_3502115a_0981_11eb_81fe_98af6589fb29row8_col11\" class=\"data row8 col11\" >-0.014169</td>\n",
       "                        <td id=\"T_3502115a_0981_11eb_81fe_98af6589fb29row8_col12\" class=\"data row8 col12\" >0.249886</td>\n",
       "                        <td id=\"T_3502115a_0981_11eb_81fe_98af6589fb29row8_col13\" class=\"data row8 col13\" >0.315537</td>\n",
       "                        <td id=\"T_3502115a_0981_11eb_81fe_98af6589fb29row8_col14\" class=\"data row8 col14\" >-0.062848</td>\n",
       "                        <td id=\"T_3502115a_0981_11eb_81fe_98af6589fb29row8_col15\" class=\"data row8 col15\" >0.154776</td>\n",
       "                        <td id=\"T_3502115a_0981_11eb_81fe_98af6589fb29row8_col16\" class=\"data row8 col16\" >0.221488</td>\n",
       "                        <td id=\"T_3502115a_0981_11eb_81fe_98af6589fb29row8_col17\" class=\"data row8 col17\" >0.158792</td>\n",
       "                        <td id=\"T_3502115a_0981_11eb_81fe_98af6589fb29row8_col18\" class=\"data row8 col18\" >0.222098</td>\n",
       "                        <td id=\"T_3502115a_0981_11eb_81fe_98af6589fb29row8_col19\" class=\"data row8 col19\" >-0.049239</td>\n",
       "            </tr>\n",
       "            <tr>\n",
       "                        <th id=\"T_3502115a_0981_11eb_81fe_98af6589fb29level0_row9\" class=\"row_heading level0 row9\" >hour_cos</th>\n",
       "                        <td id=\"T_3502115a_0981_11eb_81fe_98af6589fb29row9_col0\" class=\"data row9 col0\" >-0.040398</td>\n",
       "                        <td id=\"T_3502115a_0981_11eb_81fe_98af6589fb29row9_col1\" class=\"data row9 col1\" >-0.172218</td>\n",
       "                        <td id=\"T_3502115a_0981_11eb_81fe_98af6589fb29row9_col2\" class=\"data row9 col2\" >-0.232222</td>\n",
       "                        <td id=\"T_3502115a_0981_11eb_81fe_98af6589fb29row9_col3\" class=\"data row9 col3\" >0.028760</td>\n",
       "                        <td id=\"T_3502115a_0981_11eb_81fe_98af6589fb29row9_col4\" class=\"data row9 col4\" >-0.002753</td>\n",
       "                        <td id=\"T_3502115a_0981_11eb_81fe_98af6589fb29row9_col5\" class=\"data row9 col5\" >-0.018590</td>\n",
       "                        <td id=\"T_3502115a_0981_11eb_81fe_98af6589fb29row9_col6\" class=\"data row9 col6\" >-0.097890</td>\n",
       "                        <td id=\"T_3502115a_0981_11eb_81fe_98af6589fb29row9_col7\" class=\"data row9 col7\" >-0.002368</td>\n",
       "                        <td id=\"T_3502115a_0981_11eb_81fe_98af6589fb29row9_col8\" class=\"data row9 col8\" >-0.010419</td>\n",
       "                        <td id=\"T_3502115a_0981_11eb_81fe_98af6589fb29row9_col9\" class=\"data row9 col9\" >1.000000</td>\n",
       "                        <td id=\"T_3502115a_0981_11eb_81fe_98af6589fb29row9_col10\" class=\"data row9 col10\" >0.010635</td>\n",
       "                        <td id=\"T_3502115a_0981_11eb_81fe_98af6589fb29row9_col11\" class=\"data row9 col11\" >0.002136</td>\n",
       "                        <td id=\"T_3502115a_0981_11eb_81fe_98af6589fb29row9_col12\" class=\"data row9 col12\" >0.079044</td>\n",
       "                        <td id=\"T_3502115a_0981_11eb_81fe_98af6589fb29row9_col13\" class=\"data row9 col13\" >0.190215</td>\n",
       "                        <td id=\"T_3502115a_0981_11eb_81fe_98af6589fb29row9_col14\" class=\"data row9 col14\" >-0.008724</td>\n",
       "                        <td id=\"T_3502115a_0981_11eb_81fe_98af6589fb29row9_col15\" class=\"data row9 col15\" >0.040398</td>\n",
       "                        <td id=\"T_3502115a_0981_11eb_81fe_98af6589fb29row9_col16\" class=\"data row9 col16\" >0.172218</td>\n",
       "                        <td id=\"T_3502115a_0981_11eb_81fe_98af6589fb29row9_col17\" class=\"data row9 col17\" >0.042467</td>\n",
       "                        <td id=\"T_3502115a_0981_11eb_81fe_98af6589fb29row9_col18\" class=\"data row9 col18\" >0.173455</td>\n",
       "                        <td id=\"T_3502115a_0981_11eb_81fe_98af6589fb29row9_col19\" class=\"data row9 col19\" >0.002912</td>\n",
       "            </tr>\n",
       "            <tr>\n",
       "                        <th id=\"T_3502115a_0981_11eb_81fe_98af6589fb29level0_row10\" class=\"row_heading level0 row10\" >month_sin</th>\n",
       "                        <td id=\"T_3502115a_0981_11eb_81fe_98af6589fb29row10_col0\" class=\"data row10 col0\" >0.037303</td>\n",
       "                        <td id=\"T_3502115a_0981_11eb_81fe_98af6589fb29row10_col1\" class=\"data row10 col1\" >0.073361</td>\n",
       "                        <td id=\"T_3502115a_0981_11eb_81fe_98af6589fb29row10_col2\" class=\"data row10 col2\" >-0.267675</td>\n",
       "                        <td id=\"T_3502115a_0981_11eb_81fe_98af6589fb29row10_col3\" class=\"data row10 col3\" >0.167472</td>\n",
       "                        <td id=\"T_3502115a_0981_11eb_81fe_98af6589fb29row10_col4\" class=\"data row10 col4\" >-0.039219</td>\n",
       "                        <td id=\"T_3502115a_0981_11eb_81fe_98af6589fb29row10_col5\" class=\"data row10 col5\" >-0.022020</td>\n",
       "                        <td id=\"T_3502115a_0981_11eb_81fe_98af6589fb29row10_col6\" class=\"data row10 col6\" >-0.001260</td>\n",
       "                        <td id=\"T_3502115a_0981_11eb_81fe_98af6589fb29row10_col7\" class=\"data row10 col7\" >-0.828935</td>\n",
       "                        <td id=\"T_3502115a_0981_11eb_81fe_98af6589fb29row10_col8\" class=\"data row10 col8\" >0.002095</td>\n",
       "                        <td id=\"T_3502115a_0981_11eb_81fe_98af6589fb29row10_col9\" class=\"data row10 col9\" >0.010635</td>\n",
       "                        <td id=\"T_3502115a_0981_11eb_81fe_98af6589fb29row10_col10\" class=\"data row10 col10\" >1.000000</td>\n",
       "                        <td id=\"T_3502115a_0981_11eb_81fe_98af6589fb29row10_col11\" class=\"data row10 col11\" >-0.606027</td>\n",
       "                        <td id=\"T_3502115a_0981_11eb_81fe_98af6589fb29row10_col12\" class=\"data row10 col12\" >-0.003585</td>\n",
       "                        <td id=\"T_3502115a_0981_11eb_81fe_98af6589fb29row10_col13\" class=\"data row10 col13\" >-0.112461</td>\n",
       "                        <td id=\"T_3502115a_0981_11eb_81fe_98af6589fb29row10_col14\" class=\"data row10 col14\" >-0.045054</td>\n",
       "                        <td id=\"T_3502115a_0981_11eb_81fe_98af6589fb29row10_col15\" class=\"data row10 col15\" >-0.037303</td>\n",
       "                        <td id=\"T_3502115a_0981_11eb_81fe_98af6589fb29row10_col16\" class=\"data row10 col16\" >-0.073361</td>\n",
       "                        <td id=\"T_3502115a_0981_11eb_81fe_98af6589fb29row10_col17\" class=\"data row10 col17\" >-0.033586</td>\n",
       "                        <td id=\"T_3502115a_0981_11eb_81fe_98af6589fb29row10_col18\" class=\"data row10 col18\" >-0.074441</td>\n",
       "                        <td id=\"T_3502115a_0981_11eb_81fe_98af6589fb29row10_col19\" class=\"data row10 col19\" >-0.026402</td>\n",
       "            </tr>\n",
       "            <tr>\n",
       "                        <th id=\"T_3502115a_0981_11eb_81fe_98af6589fb29level0_row11\" class=\"row_heading level0 row11\" >month_cos</th>\n",
       "                        <td id=\"T_3502115a_0981_11eb_81fe_98af6589fb29row11_col0\" class=\"data row11 col0\" >-0.314854</td>\n",
       "                        <td id=\"T_3502115a_0981_11eb_81fe_98af6589fb29row11_col1\" class=\"data row11 col1\" >0.028729</td>\n",
       "                        <td id=\"T_3502115a_0981_11eb_81fe_98af6589fb29row11_col2\" class=\"data row11 col2\" >-0.384112</td>\n",
       "                        <td id=\"T_3502115a_0981_11eb_81fe_98af6589fb29row11_col3\" class=\"data row11 col3\" >0.160330</td>\n",
       "                        <td id=\"T_3502115a_0981_11eb_81fe_98af6589fb29row11_col4\" class=\"data row11 col4\" >0.196896</td>\n",
       "                        <td id=\"T_3502115a_0981_11eb_81fe_98af6589fb29row11_col5\" class=\"data row11 col5\" >-0.137228</td>\n",
       "                        <td id=\"T_3502115a_0981_11eb_81fe_98af6589fb29row11_col6\" class=\"data row11 col6\" >0.014505</td>\n",
       "                        <td id=\"T_3502115a_0981_11eb_81fe_98af6589fb29row11_col7\" class=\"data row11 col7\" >0.931013</td>\n",
       "                        <td id=\"T_3502115a_0981_11eb_81fe_98af6589fb29row11_col8\" class=\"data row11 col8\" >-0.014169</td>\n",
       "                        <td id=\"T_3502115a_0981_11eb_81fe_98af6589fb29row11_col9\" class=\"data row11 col9\" >0.002136</td>\n",
       "                        <td id=\"T_3502115a_0981_11eb_81fe_98af6589fb29row11_col10\" class=\"data row11 col10\" >-0.606027</td>\n",
       "                        <td id=\"T_3502115a_0981_11eb_81fe_98af6589fb29row11_col11\" class=\"data row11 col11\" >1.000000</td>\n",
       "                        <td id=\"T_3502115a_0981_11eb_81fe_98af6589fb29row11_col12\" class=\"data row11 col12\" >0.233654</td>\n",
       "                        <td id=\"T_3502115a_0981_11eb_81fe_98af6589fb29row11_col13\" class=\"data row11 col13\" >0.068312</td>\n",
       "                        <td id=\"T_3502115a_0981_11eb_81fe_98af6589fb29row11_col14\" class=\"data row11 col14\" >0.185825</td>\n",
       "                        <td id=\"T_3502115a_0981_11eb_81fe_98af6589fb29row11_col15\" class=\"data row11 col15\" >0.314854</td>\n",
       "                        <td id=\"T_3502115a_0981_11eb_81fe_98af6589fb29row11_col16\" class=\"data row11 col16\" >-0.028729</td>\n",
       "                        <td id=\"T_3502115a_0981_11eb_81fe_98af6589fb29row11_col17\" class=\"data row11 col17\" >0.315383</td>\n",
       "                        <td id=\"T_3502115a_0981_11eb_81fe_98af6589fb29row11_col18\" class=\"data row11 col18\" >-0.029772</td>\n",
       "                        <td id=\"T_3502115a_0981_11eb_81fe_98af6589fb29row11_col19\" class=\"data row11 col19\" >0.238772</td>\n",
       "            </tr>\n",
       "            <tr>\n",
       "                        <th id=\"T_3502115a_0981_11eb_81fe_98af6589fb29level0_row12\" class=\"row_heading level0 row12\" >wdir_sin</th>\n",
       "                        <td id=\"T_3502115a_0981_11eb_81fe_98af6589fb29row12_col0\" class=\"data row12 col0\" >-0.824144</td>\n",
       "                        <td id=\"T_3502115a_0981_11eb_81fe_98af6589fb29row12_col1\" class=\"data row12 col1\" >0.253424</td>\n",
       "                        <td id=\"T_3502115a_0981_11eb_81fe_98af6589fb29row12_col2\" class=\"data row12 col2\" >-0.162532</td>\n",
       "                        <td id=\"T_3502115a_0981_11eb_81fe_98af6589fb29row12_col3\" class=\"data row12 col3\" >0.228173</td>\n",
       "                        <td id=\"T_3502115a_0981_11eb_81fe_98af6589fb29row12_col4\" class=\"data row12 col4\" >-0.074225</td>\n",
       "                        <td id=\"T_3502115a_0981_11eb_81fe_98af6589fb29row12_col5\" class=\"data row12 col5\" >-0.692164</td>\n",
       "                        <td id=\"T_3502115a_0981_11eb_81fe_98af6589fb29row12_col6\" class=\"data row12 col6\" >-0.210091</td>\n",
       "                        <td id=\"T_3502115a_0981_11eb_81fe_98af6589fb29row12_col7\" class=\"data row12 col7\" >0.168585</td>\n",
       "                        <td id=\"T_3502115a_0981_11eb_81fe_98af6589fb29row12_col8\" class=\"data row12 col8\" >0.249886</td>\n",
       "                        <td id=\"T_3502115a_0981_11eb_81fe_98af6589fb29row12_col9\" class=\"data row12 col9\" >0.079044</td>\n",
       "                        <td id=\"T_3502115a_0981_11eb_81fe_98af6589fb29row12_col10\" class=\"data row12 col10\" >-0.003585</td>\n",
       "                        <td id=\"T_3502115a_0981_11eb_81fe_98af6589fb29row12_col11\" class=\"data row12 col11\" >0.233654</td>\n",
       "                        <td id=\"T_3502115a_0981_11eb_81fe_98af6589fb29row12_col12\" class=\"data row12 col12\" >1.000000</td>\n",
       "                        <td id=\"T_3502115a_0981_11eb_81fe_98af6589fb29row12_col13\" class=\"data row12 col13\" >-0.177874</td>\n",
       "                        <td id=\"T_3502115a_0981_11eb_81fe_98af6589fb29row12_col14\" class=\"data row12 col14\" >-0.078727</td>\n",
       "                        <td id=\"T_3502115a_0981_11eb_81fe_98af6589fb29row12_col15\" class=\"data row12 col15\" >0.824144</td>\n",
       "                        <td id=\"T_3502115a_0981_11eb_81fe_98af6589fb29row12_col16\" class=\"data row12 col16\" >-0.253424</td>\n",
       "                        <td id=\"T_3502115a_0981_11eb_81fe_98af6589fb29row12_col17\" class=\"data row12 col17\" >0.827022</td>\n",
       "                        <td id=\"T_3502115a_0981_11eb_81fe_98af6589fb29row12_col18\" class=\"data row12 col18\" >-0.252703</td>\n",
       "                        <td id=\"T_3502115a_0981_11eb_81fe_98af6589fb29row12_col19\" class=\"data row12 col19\" >0.002433</td>\n",
       "            </tr>\n",
       "            <tr>\n",
       "                        <th id=\"T_3502115a_0981_11eb_81fe_98af6589fb29level0_row13\" class=\"row_heading level0 row13\" >wdir_cos</th>\n",
       "                        <td id=\"T_3502115a_0981_11eb_81fe_98af6589fb29row13_col0\" class=\"data row13 col0\" >0.330295</td>\n",
       "                        <td id=\"T_3502115a_0981_11eb_81fe_98af6589fb29row13_col1\" class=\"data row13 col1\" >-0.851068</td>\n",
       "                        <td id=\"T_3502115a_0981_11eb_81fe_98af6589fb29row13_col2\" class=\"data row13 col2\" >-0.242899</td>\n",
       "                        <td id=\"T_3502115a_0981_11eb_81fe_98af6589fb29row13_col3\" class=\"data row13 col3\" >-0.059153</td>\n",
       "                        <td id=\"T_3502115a_0981_11eb_81fe_98af6589fb29row13_col4\" class=\"data row13 col4\" >0.265006</td>\n",
       "                        <td id=\"T_3502115a_0981_11eb_81fe_98af6589fb29row13_col5\" class=\"data row13 col5\" >0.355368</td>\n",
       "                        <td id=\"T_3502115a_0981_11eb_81fe_98af6589fb29row13_col6\" class=\"data row13 col6\" >-0.228254</td>\n",
       "                        <td id=\"T_3502115a_0981_11eb_81fe_98af6589fb29row13_col7\" class=\"data row13 col7\" >0.074501</td>\n",
       "                        <td id=\"T_3502115a_0981_11eb_81fe_98af6589fb29row13_col8\" class=\"data row13 col8\" >0.315537</td>\n",
       "                        <td id=\"T_3502115a_0981_11eb_81fe_98af6589fb29row13_col9\" class=\"data row13 col9\" >0.190215</td>\n",
       "                        <td id=\"T_3502115a_0981_11eb_81fe_98af6589fb29row13_col10\" class=\"data row13 col10\" >-0.112461</td>\n",
       "                        <td id=\"T_3502115a_0981_11eb_81fe_98af6589fb29row13_col11\" class=\"data row13 col11\" >0.068312</td>\n",
       "                        <td id=\"T_3502115a_0981_11eb_81fe_98af6589fb29row13_col12\" class=\"data row13 col12\" >-0.177874</td>\n",
       "                        <td id=\"T_3502115a_0981_11eb_81fe_98af6589fb29row13_col13\" class=\"data row13 col13\" >1.000000</td>\n",
       "                        <td id=\"T_3502115a_0981_11eb_81fe_98af6589fb29row13_col14\" class=\"data row13 col14\" >0.261540</td>\n",
       "                        <td id=\"T_3502115a_0981_11eb_81fe_98af6589fb29row13_col15\" class=\"data row13 col15\" >-0.330295</td>\n",
       "                        <td id=\"T_3502115a_0981_11eb_81fe_98af6589fb29row13_col16\" class=\"data row13 col16\" >0.851068</td>\n",
       "                        <td id=\"T_3502115a_0981_11eb_81fe_98af6589fb29row13_col17\" class=\"data row13 col17\" >-0.328105</td>\n",
       "                        <td id=\"T_3502115a_0981_11eb_81fe_98af6589fb29row13_col18\" class=\"data row13 col18\" >0.853089</td>\n",
       "                        <td id=\"T_3502115a_0981_11eb_81fe_98af6589fb29row13_col19\" class=\"data row13 col19\" >0.196075</td>\n",
       "            </tr>\n",
       "            <tr>\n",
       "                        <th id=\"T_3502115a_0981_11eb_81fe_98af6589fb29level0_row14\" class=\"row_heading level0 row14\" >wspeed_T</th>\n",
       "                        <td id=\"T_3502115a_0981_11eb_81fe_98af6589fb29row14_col0\" class=\"data row14 col0\" >0.165342</td>\n",
       "                        <td id=\"T_3502115a_0981_11eb_81fe_98af6589fb29row14_col1\" class=\"data row14 col1\" >-0.412679</td>\n",
       "                        <td id=\"T_3502115a_0981_11eb_81fe_98af6589fb29row14_col2\" class=\"data row14 col2\" >-0.259061</td>\n",
       "                        <td id=\"T_3502115a_0981_11eb_81fe_98af6589fb29row14_col3\" class=\"data row14 col3\" >0.025096</td>\n",
       "                        <td id=\"T_3502115a_0981_11eb_81fe_98af6589fb29row14_col4\" class=\"data row14 col4\" >0.999496</td>\n",
       "                        <td id=\"T_3502115a_0981_11eb_81fe_98af6589fb29row14_col5\" class=\"data row14 col5\" >0.369738</td>\n",
       "                        <td id=\"T_3502115a_0981_11eb_81fe_98af6589fb29row14_col6\" class=\"data row14 col6\" >0.038619</td>\n",
       "                        <td id=\"T_3502115a_0981_11eb_81fe_98af6589fb29row14_col7\" class=\"data row14 col7\" >0.165226</td>\n",
       "                        <td id=\"T_3502115a_0981_11eb_81fe_98af6589fb29row14_col8\" class=\"data row14 col8\" >-0.062848</td>\n",
       "                        <td id=\"T_3502115a_0981_11eb_81fe_98af6589fb29row14_col9\" class=\"data row14 col9\" >-0.008724</td>\n",
       "                        <td id=\"T_3502115a_0981_11eb_81fe_98af6589fb29row14_col10\" class=\"data row14 col10\" >-0.045054</td>\n",
       "                        <td id=\"T_3502115a_0981_11eb_81fe_98af6589fb29row14_col11\" class=\"data row14 col11\" >0.185825</td>\n",
       "                        <td id=\"T_3502115a_0981_11eb_81fe_98af6589fb29row14_col12\" class=\"data row14 col12\" >-0.078727</td>\n",
       "                        <td id=\"T_3502115a_0981_11eb_81fe_98af6589fb29row14_col13\" class=\"data row14 col13\" >0.261540</td>\n",
       "                        <td id=\"T_3502115a_0981_11eb_81fe_98af6589fb29row14_col14\" class=\"data row14 col14\" >1.000000</td>\n",
       "                        <td id=\"T_3502115a_0981_11eb_81fe_98af6589fb29row14_col15\" class=\"data row14 col15\" >-0.165342</td>\n",
       "                        <td id=\"T_3502115a_0981_11eb_81fe_98af6589fb29row14_col16\" class=\"data row14 col16\" >0.412679</td>\n",
       "                        <td id=\"T_3502115a_0981_11eb_81fe_98af6589fb29row14_col17\" class=\"data row14 col17\" >-0.164822</td>\n",
       "                        <td id=\"T_3502115a_0981_11eb_81fe_98af6589fb29row14_col18\" class=\"data row14 col18\" >0.412143</td>\n",
       "                        <td id=\"T_3502115a_0981_11eb_81fe_98af6589fb29row14_col19\" class=\"data row14 col19\" >0.895951</td>\n",
       "            </tr>\n",
       "            <tr>\n",
       "                        <th id=\"T_3502115a_0981_11eb_81fe_98af6589fb29level0_row15\" class=\"row_heading level0 row15\" >wspeed_wdirsin</th>\n",
       "                        <td id=\"T_3502115a_0981_11eb_81fe_98af6589fb29row15_col0\" class=\"data row15 col0\" >-1.000000</td>\n",
       "                        <td id=\"T_3502115a_0981_11eb_81fe_98af6589fb29row15_col1\" class=\"data row15 col1\" >0.499959</td>\n",
       "                        <td id=\"T_3502115a_0981_11eb_81fe_98af6589fb29row15_col2\" class=\"data row15 col2\" >-0.093725</td>\n",
       "                        <td id=\"T_3502115a_0981_11eb_81fe_98af6589fb29row15_col3\" class=\"data row15 col3\" >0.228826</td>\n",
       "                        <td id=\"T_3502115a_0981_11eb_81fe_98af6589fb29row15_col4\" class=\"data row15 col4\" >-0.161409</td>\n",
       "                        <td id=\"T_3502115a_0981_11eb_81fe_98af6589fb29row15_col5\" class=\"data row15 col5\" >-0.636242</td>\n",
       "                        <td id=\"T_3502115a_0981_11eb_81fe_98af6589fb29row15_col6\" class=\"data row15 col6\" >-0.126688</td>\n",
       "                        <td id=\"T_3502115a_0981_11eb_81fe_98af6589fb29row15_col7\" class=\"data row15 col7\" >0.246463</td>\n",
       "                        <td id=\"T_3502115a_0981_11eb_81fe_98af6589fb29row15_col8\" class=\"data row15 col8\" >0.154776</td>\n",
       "                        <td id=\"T_3502115a_0981_11eb_81fe_98af6589fb29row15_col9\" class=\"data row15 col9\" >0.040398</td>\n",
       "                        <td id=\"T_3502115a_0981_11eb_81fe_98af6589fb29row15_col10\" class=\"data row15 col10\" >-0.037303</td>\n",
       "                        <td id=\"T_3502115a_0981_11eb_81fe_98af6589fb29row15_col11\" class=\"data row15 col11\" >0.314854</td>\n",
       "                        <td id=\"T_3502115a_0981_11eb_81fe_98af6589fb29row15_col12\" class=\"data row15 col12\" >0.824144</td>\n",
       "                        <td id=\"T_3502115a_0981_11eb_81fe_98af6589fb29row15_col13\" class=\"data row15 col13\" >-0.330295</td>\n",
       "                        <td id=\"T_3502115a_0981_11eb_81fe_98af6589fb29row15_col14\" class=\"data row15 col14\" >-0.165342</td>\n",
       "                        <td id=\"T_3502115a_0981_11eb_81fe_98af6589fb29row15_col15\" class=\"data row15 col15\" >1.000000</td>\n",
       "                        <td id=\"T_3502115a_0981_11eb_81fe_98af6589fb29row15_col16\" class=\"data row15 col16\" >-0.499959</td>\n",
       "                        <td id=\"T_3502115a_0981_11eb_81fe_98af6589fb29row15_col17\" class=\"data row15 col17\" >0.999791</td>\n",
       "                        <td id=\"T_3502115a_0981_11eb_81fe_98af6589fb29row15_col18\" class=\"data row15 col18\" >-0.498260</td>\n",
       "                        <td id=\"T_3502115a_0981_11eb_81fe_98af6589fb29row15_col19\" class=\"data row15 col19\" >-0.038771</td>\n",
       "            </tr>\n",
       "            <tr>\n",
       "                        <th id=\"T_3502115a_0981_11eb_81fe_98af6589fb29level0_row16\" class=\"row_heading level0 row16\" >wspeed_wdircos</th>\n",
       "                        <td id=\"T_3502115a_0981_11eb_81fe_98af6589fb29row16_col0\" class=\"data row16 col0\" >0.499959</td>\n",
       "                        <td id=\"T_3502115a_0981_11eb_81fe_98af6589fb29row16_col1\" class=\"data row16 col1\" >-1.000000</td>\n",
       "                        <td id=\"T_3502115a_0981_11eb_81fe_98af6589fb29row16_col2\" class=\"data row16 col2\" >-0.235113</td>\n",
       "                        <td id=\"T_3502115a_0981_11eb_81fe_98af6589fb29row16_col3\" class=\"data row16 col3\" >-0.131258</td>\n",
       "                        <td id=\"T_3502115a_0981_11eb_81fe_98af6589fb29row16_col4\" class=\"data row16 col4\" >0.415488</td>\n",
       "                        <td id=\"T_3502115a_0981_11eb_81fe_98af6589fb29row16_col5\" class=\"data row16 col5\" >0.491604</td>\n",
       "                        <td id=\"T_3502115a_0981_11eb_81fe_98af6589fb29row16_col6\" class=\"data row16 col6\" >-0.154759</td>\n",
       "                        <td id=\"T_3502115a_0981_11eb_81fe_98af6589fb29row16_col7\" class=\"data row16 col7\" >-0.010461</td>\n",
       "                        <td id=\"T_3502115a_0981_11eb_81fe_98af6589fb29row16_col8\" class=\"data row16 col8\" >0.221488</td>\n",
       "                        <td id=\"T_3502115a_0981_11eb_81fe_98af6589fb29row16_col9\" class=\"data row16 col9\" >0.172218</td>\n",
       "                        <td id=\"T_3502115a_0981_11eb_81fe_98af6589fb29row16_col10\" class=\"data row16 col10\" >-0.073361</td>\n",
       "                        <td id=\"T_3502115a_0981_11eb_81fe_98af6589fb29row16_col11\" class=\"data row16 col11\" >-0.028729</td>\n",
       "                        <td id=\"T_3502115a_0981_11eb_81fe_98af6589fb29row16_col12\" class=\"data row16 col12\" >-0.253424</td>\n",
       "                        <td id=\"T_3502115a_0981_11eb_81fe_98af6589fb29row16_col13\" class=\"data row16 col13\" >0.851068</td>\n",
       "                        <td id=\"T_3502115a_0981_11eb_81fe_98af6589fb29row16_col14\" class=\"data row16 col14\" >0.412679</td>\n",
       "                        <td id=\"T_3502115a_0981_11eb_81fe_98af6589fb29row16_col15\" class=\"data row16 col15\" >-0.499959</td>\n",
       "                        <td id=\"T_3502115a_0981_11eb_81fe_98af6589fb29row16_col16\" class=\"data row16 col16\" >1.000000</td>\n",
       "                        <td id=\"T_3502115a_0981_11eb_81fe_98af6589fb29row16_col17\" class=\"data row16 col17\" >-0.496462</td>\n",
       "                        <td id=\"T_3502115a_0981_11eb_81fe_98af6589fb29row16_col18\" class=\"data row16 col18\" >0.999857</td>\n",
       "                        <td id=\"T_3502115a_0981_11eb_81fe_98af6589fb29row16_col19\" class=\"data row16 col19\" >0.313315</td>\n",
       "            </tr>\n",
       "            <tr>\n",
       "                        <th id=\"T_3502115a_0981_11eb_81fe_98af6589fb29level0_row17\" class=\"row_heading level0 row17\" >wspeed_wdirsin_T</th>\n",
       "                        <td id=\"T_3502115a_0981_11eb_81fe_98af6589fb29row17_col0\" class=\"data row17 col0\" >-0.999791</td>\n",
       "                        <td id=\"T_3502115a_0981_11eb_81fe_98af6589fb29row17_col1\" class=\"data row17 col1\" >0.496462</td>\n",
       "                        <td id=\"T_3502115a_0981_11eb_81fe_98af6589fb29row17_col2\" class=\"data row17 col2\" >-0.104739</td>\n",
       "                        <td id=\"T_3502115a_0981_11eb_81fe_98af6589fb29row17_col3\" class=\"data row17 col3\" >0.233003</td>\n",
       "                        <td id=\"T_3502115a_0981_11eb_81fe_98af6589fb29row17_col4\" class=\"data row17 col4\" >-0.160460</td>\n",
       "                        <td id=\"T_3502115a_0981_11eb_81fe_98af6589fb29row17_col5\" class=\"data row17 col5\" >-0.636557</td>\n",
       "                        <td id=\"T_3502115a_0981_11eb_81fe_98af6589fb29row17_col6\" class=\"data row17 col6\" >-0.129589</td>\n",
       "                        <td id=\"T_3502115a_0981_11eb_81fe_98af6589fb29row17_col7\" class=\"data row17 col7\" >0.244530</td>\n",
       "                        <td id=\"T_3502115a_0981_11eb_81fe_98af6589fb29row17_col8\" class=\"data row17 col8\" >0.158792</td>\n",
       "                        <td id=\"T_3502115a_0981_11eb_81fe_98af6589fb29row17_col9\" class=\"data row17 col9\" >0.042467</td>\n",
       "                        <td id=\"T_3502115a_0981_11eb_81fe_98af6589fb29row17_col10\" class=\"data row17 col10\" >-0.033586</td>\n",
       "                        <td id=\"T_3502115a_0981_11eb_81fe_98af6589fb29row17_col11\" class=\"data row17 col11\" >0.315383</td>\n",
       "                        <td id=\"T_3502115a_0981_11eb_81fe_98af6589fb29row17_col12\" class=\"data row17 col12\" >0.827022</td>\n",
       "                        <td id=\"T_3502115a_0981_11eb_81fe_98af6589fb29row17_col13\" class=\"data row17 col13\" >-0.328105</td>\n",
       "                        <td id=\"T_3502115a_0981_11eb_81fe_98af6589fb29row17_col14\" class=\"data row17 col14\" >-0.164822</td>\n",
       "                        <td id=\"T_3502115a_0981_11eb_81fe_98af6589fb29row17_col15\" class=\"data row17 col15\" >0.999791</td>\n",
       "                        <td id=\"T_3502115a_0981_11eb_81fe_98af6589fb29row17_col16\" class=\"data row17 col16\" >-0.496462</td>\n",
       "                        <td id=\"T_3502115a_0981_11eb_81fe_98af6589fb29row17_col17\" class=\"data row17 col17\" >1.000000</td>\n",
       "                        <td id=\"T_3502115a_0981_11eb_81fe_98af6589fb29row17_col18\" class=\"data row17 col18\" >-0.494916</td>\n",
       "                        <td id=\"T_3502115a_0981_11eb_81fe_98af6589fb29row17_col19\" class=\"data row17 col19\" >-0.037105</td>\n",
       "            </tr>\n",
       "            <tr>\n",
       "                        <th id=\"T_3502115a_0981_11eb_81fe_98af6589fb29level0_row18\" class=\"row_heading level0 row18\" >wspeed_wdircos_T</th>\n",
       "                        <td id=\"T_3502115a_0981_11eb_81fe_98af6589fb29row18_col0\" class=\"data row18 col0\" >0.498260</td>\n",
       "                        <td id=\"T_3502115a_0981_11eb_81fe_98af6589fb29row18_col1\" class=\"data row18 col1\" >-0.999857</td>\n",
       "                        <td id=\"T_3502115a_0981_11eb_81fe_98af6589fb29row18_col2\" class=\"data row18 col2\" >-0.230544</td>\n",
       "                        <td id=\"T_3502115a_0981_11eb_81fe_98af6589fb29row18_col3\" class=\"data row18 col3\" >-0.132493</td>\n",
       "                        <td id=\"T_3502115a_0981_11eb_81fe_98af6589fb29row18_col4\" class=\"data row18 col4\" >0.414717</td>\n",
       "                        <td id=\"T_3502115a_0981_11eb_81fe_98af6589fb29row18_col5\" class=\"data row18 col5\" >0.491697</td>\n",
       "                        <td id=\"T_3502115a_0981_11eb_81fe_98af6589fb29row18_col6\" class=\"data row18 col6\" >-0.154932</td>\n",
       "                        <td id=\"T_3502115a_0981_11eb_81fe_98af6589fb29row18_col7\" class=\"data row18 col7\" >-0.010362</td>\n",
       "                        <td id=\"T_3502115a_0981_11eb_81fe_98af6589fb29row18_col8\" class=\"data row18 col8\" >0.222098</td>\n",
       "                        <td id=\"T_3502115a_0981_11eb_81fe_98af6589fb29row18_col9\" class=\"data row18 col9\" >0.173455</td>\n",
       "                        <td id=\"T_3502115a_0981_11eb_81fe_98af6589fb29row18_col10\" class=\"data row18 col10\" >-0.074441</td>\n",
       "                        <td id=\"T_3502115a_0981_11eb_81fe_98af6589fb29row18_col11\" class=\"data row18 col11\" >-0.029772</td>\n",
       "                        <td id=\"T_3502115a_0981_11eb_81fe_98af6589fb29row18_col12\" class=\"data row18 col12\" >-0.252703</td>\n",
       "                        <td id=\"T_3502115a_0981_11eb_81fe_98af6589fb29row18_col13\" class=\"data row18 col13\" >0.853089</td>\n",
       "                        <td id=\"T_3502115a_0981_11eb_81fe_98af6589fb29row18_col14\" class=\"data row18 col14\" >0.412143</td>\n",
       "                        <td id=\"T_3502115a_0981_11eb_81fe_98af6589fb29row18_col15\" class=\"data row18 col15\" >-0.498260</td>\n",
       "                        <td id=\"T_3502115a_0981_11eb_81fe_98af6589fb29row18_col16\" class=\"data row18 col16\" >0.999857</td>\n",
       "                        <td id=\"T_3502115a_0981_11eb_81fe_98af6589fb29row18_col17\" class=\"data row18 col17\" >-0.494916</td>\n",
       "                        <td id=\"T_3502115a_0981_11eb_81fe_98af6589fb29row18_col18\" class=\"data row18 col18\" >1.000000</td>\n",
       "                        <td id=\"T_3502115a_0981_11eb_81fe_98af6589fb29row18_col19\" class=\"data row18 col19\" >0.313591</td>\n",
       "            </tr>\n",
       "            <tr>\n",
       "                        <th id=\"T_3502115a_0981_11eb_81fe_98af6589fb29level0_row19\" class=\"row_heading level0 row19\" >production</th>\n",
       "                        <td id=\"T_3502115a_0981_11eb_81fe_98af6589fb29row19_col0\" class=\"data row19 col0\" >0.038771</td>\n",
       "                        <td id=\"T_3502115a_0981_11eb_81fe_98af6589fb29row19_col1\" class=\"data row19 col1\" >-0.313315</td>\n",
       "                        <td id=\"T_3502115a_0981_11eb_81fe_98af6589fb29row19_col2\" class=\"data row19 col2\" >-0.304031</td>\n",
       "                        <td id=\"T_3502115a_0981_11eb_81fe_98af6589fb29row19_col3\" class=\"data row19 col3\" >0.075727</td>\n",
       "                        <td id=\"T_3502115a_0981_11eb_81fe_98af6589fb29row19_col4\" class=\"data row19 col4\" >0.899175</td>\n",
       "                        <td id=\"T_3502115a_0981_11eb_81fe_98af6589fb29row19_col5\" class=\"data row19 col5\" >0.281222</td>\n",
       "                        <td id=\"T_3502115a_0981_11eb_81fe_98af6589fb29row19_col6\" class=\"data row19 col6\" >0.039108</td>\n",
       "                        <td id=\"T_3502115a_0981_11eb_81fe_98af6589fb29row19_col7\" class=\"data row19 col7\" >0.197867</td>\n",
       "                        <td id=\"T_3502115a_0981_11eb_81fe_98af6589fb29row19_col8\" class=\"data row19 col8\" >-0.049239</td>\n",
       "                        <td id=\"T_3502115a_0981_11eb_81fe_98af6589fb29row19_col9\" class=\"data row19 col9\" >0.002912</td>\n",
       "                        <td id=\"T_3502115a_0981_11eb_81fe_98af6589fb29row19_col10\" class=\"data row19 col10\" >-0.026402</td>\n",
       "                        <td id=\"T_3502115a_0981_11eb_81fe_98af6589fb29row19_col11\" class=\"data row19 col11\" >0.238772</td>\n",
       "                        <td id=\"T_3502115a_0981_11eb_81fe_98af6589fb29row19_col12\" class=\"data row19 col12\" >0.002433</td>\n",
       "                        <td id=\"T_3502115a_0981_11eb_81fe_98af6589fb29row19_col13\" class=\"data row19 col13\" >0.196075</td>\n",
       "                        <td id=\"T_3502115a_0981_11eb_81fe_98af6589fb29row19_col14\" class=\"data row19 col14\" >0.895951</td>\n",
       "                        <td id=\"T_3502115a_0981_11eb_81fe_98af6589fb29row19_col15\" class=\"data row19 col15\" >-0.038771</td>\n",
       "                        <td id=\"T_3502115a_0981_11eb_81fe_98af6589fb29row19_col16\" class=\"data row19 col16\" >0.313315</td>\n",
       "                        <td id=\"T_3502115a_0981_11eb_81fe_98af6589fb29row19_col17\" class=\"data row19 col17\" >-0.037105</td>\n",
       "                        <td id=\"T_3502115a_0981_11eb_81fe_98af6589fb29row19_col18\" class=\"data row19 col18\" >0.313591</td>\n",
       "                        <td id=\"T_3502115a_0981_11eb_81fe_98af6589fb29row19_col19\" class=\"data row19 col19\" >1.000000</td>\n",
       "            </tr>\n",
       "    </tbody></table>"
      ],
      "text/plain": [
       "<pandas.io.formats.style.Styler at 0x23e23fd9348>"
      ]
     },
     "execution_count": 56,
     "metadata": {},
     "output_type": "execute_result"
    }
   ],
   "source": [
    "corr = X_WF1.corr()\n",
    "corr.style.background_gradient(cmap='coolwarm')"
   ]
  },
  {
   "cell_type": "code",
   "execution_count": null,
   "metadata": {
    "scrolled": true
   },
   "outputs": [],
   "source": [
    "temps = ['NWP1_T', 'NWP3_T']\n",
    "\n",
    "dtr.convert_to_celsius(X_train_cpy, temps)\n",
    "dtr.convert_to_celsius(X_test_cpy, temps)"
   ]
  },
  {
   "cell_type": "markdown",
   "metadata": {},
   "source": [
    "#### Power  tranformations (Box-Cox and Yeo-Johnson)\n",
    "\n",
    "Some of the features, like wind speed, have skewed distributions. Box-Cox and Yeo-Johnson transformations can be used to get a more Gaussian like distribution. The Box-Cox family transformation is as follows:\n",
    "\n",
    "$$ \\begin{split}x_i^{(\\lambda)} =\n",
    "\\begin{cases}\n",
    "\\dfrac{x_i^\\lambda - 1}{\\lambda} & \\text{if } \\lambda \\neq 0, \\\\[8pt]\n",
    "\\ln{(x_i)} & \\text{if } \\lambda = 0,\n",
    "\\end{cases}\\end{split} $$\n",
    "\n",
    "where $\\lambda$ can be estimated from the traning data. This transformations can only be applied on positive data. \n",
    "\n",
    "Yeo-Johnson transformations can be applied on positive and negative data, given by:\n",
    "\n",
    "$$\n",
    "\\begin{split}x_i^{(\\lambda)} =\n",
    "\\begin{cases}\n",
    " [(x_i + 1)^\\lambda - 1] / \\lambda & \\text{if } \\lambda \\neq 0, x_i \\geq 0, \\\\[8pt]\n",
    "\\ln{(x_i + 1)} & \\text{if } \\lambda = 0, x_i \\geq 0 \\\\[8pt]\n",
    "-[(-x_i + 1)^{2 - \\lambda} - 1] / (2 - \\lambda) & \\text{if } \\lambda \\neq 2, x_i < 0, \\\\[8pt]\n",
    " - \\ln (- x_i + 1) & \\text{if } \\lambda = 2, x_i < 0\n",
    "\\end{cases}\\end{split}\n",
    "$$\n",
    "\n",
    "We'll try such transformations on our training data set, concretely Yeo-Johnson as we have some predictors with negative values."
   ]
  },
  {
   "cell_type": "code",
   "execution_count": 32,
   "metadata": {},
   "outputs": [
    {
     "name": "stdout",
     "output_type": "stream",
     "text": [
      "2020-10-08 17:29:13,178 - kedro.io.data_catalog - INFO - Loading data from `feature_names_WF1` (PickleDataSet)...\n"
     ]
    },
    {
     "data": {
      "text/plain": [
       "Index(['T', 'CLCT', 'wspeed', 'hour_sin', 'hour_cos', 'month_sin', 'month_cos',\n",
       "       'wdir_sin', 'wdir_cos', 'wspeed_T', 'wspeed_wdirsin', 'wspeed_wdircos',\n",
       "       'wspeed_wdirsin_T', 'wspeed_wdircos_T'],\n",
       "      dtype='object')"
      ]
     },
     "execution_count": 32,
     "metadata": {},
     "output_type": "execute_result"
    }
   ],
   "source": [
    "featnames = context.catalog.load(\"feature_names_WF1\")\n",
    "featnames"
   ]
  },
  {
   "cell_type": "code",
   "execution_count": 35,
   "metadata": {},
   "outputs": [
    {
     "name": "stdout",
     "output_type": "stream",
     "text": [
      "2020-10-08 17:31:00,083 - kedro.io.data_catalog - INFO - Loading data from `X_train_pped_WF1` (PickleDataSet)...\n"
     ]
    }
   ],
   "source": [
    "X_train_pped_WF1 = context.catalog.load(\"X_train_pped_WF1\")\n",
    "df_WF1 = pd.DataFrame(data=X_train_pped_WF1, columns=featnames)"
   ]
  },
  {
   "cell_type": "code",
   "execution_count": 38,
   "metadata": {},
   "outputs": [],
   "source": [
    "df_WF1['production'] = y_train_WF1[0]"
   ]
  },
  {
   "cell_type": "code",
   "execution_count": 39,
   "metadata": {},
   "outputs": [
    {
     "name": "stderr",
     "output_type": "stream",
     "text": [
      "C:\\Users\\Quark\\.conda\\envs\\TFM-env\\lib\\site-packages\\ipykernel\\ipkernel.py:287: DeprecationWarning:\n",
      "\n",
      "`should_run_async` will not call `transform_cell` automatically in the future. Please pass the result to `transformed_cell` argument and any exception that happen during thetransform in `preprocessing_exc_tuple` in IPython 7.17 and above.\n",
      "\n"
     ]
    },
    {
     "data": {
      "text/html": [
       "<div>\n",
       "<style scoped>\n",
       "    .dataframe tbody tr th:only-of-type {\n",
       "        vertical-align: middle;\n",
       "    }\n",
       "\n",
       "    .dataframe tbody tr th {\n",
       "        vertical-align: top;\n",
       "    }\n",
       "\n",
       "    .dataframe thead th {\n",
       "        text-align: right;\n",
       "    }\n",
       "</style>\n",
       "<table border=\"1\" class=\"dataframe\">\n",
       "  <thead>\n",
       "    <tr style=\"text-align: right;\">\n",
       "      <th></th>\n",
       "      <th>T</th>\n",
       "      <th>CLCT</th>\n",
       "      <th>wspeed</th>\n",
       "      <th>hour_sin</th>\n",
       "      <th>hour_cos</th>\n",
       "      <th>month_sin</th>\n",
       "      <th>month_cos</th>\n",
       "      <th>wdir_sin</th>\n",
       "      <th>wdir_cos</th>\n",
       "      <th>wspeed_T</th>\n",
       "      <th>wspeed_wdirsin</th>\n",
       "      <th>wspeed_wdircos</th>\n",
       "      <th>wspeed_wdirsin_T</th>\n",
       "      <th>wspeed_wdircos_T</th>\n",
       "      <th>production</th>\n",
       "    </tr>\n",
       "  </thead>\n",
       "  <tbody>\n",
       "    <tr>\n",
       "      <th>0</th>\n",
       "      <td>-1.755871</td>\n",
       "      <td>0.984558</td>\n",
       "      <td>-0.319161</td>\n",
       "      <td>0.342582</td>\n",
       "      <td>1.367110</td>\n",
       "      <td>1.571999</td>\n",
       "      <td>-0.810147</td>\n",
       "      <td>-0.836230</td>\n",
       "      <td>0.833991</td>\n",
       "      <td>-0.361302</td>\n",
       "      <td>-0.403312</td>\n",
       "      <td>0.362536</td>\n",
       "      <td>-0.394163</td>\n",
       "      <td>0.346239</td>\n",
       "      <td>0.02</td>\n",
       "    </tr>\n",
       "    <tr>\n",
       "      <th>1</th>\n",
       "      <td>-1.755871</td>\n",
       "      <td>1.098016</td>\n",
       "      <td>-0.763964</td>\n",
       "      <td>0.687613</td>\n",
       "      <td>1.227471</td>\n",
       "      <td>1.571999</td>\n",
       "      <td>-0.810147</td>\n",
       "      <td>-1.358874</td>\n",
       "      <td>0.400670</td>\n",
       "      <td>-0.790423</td>\n",
       "      <td>-0.403312</td>\n",
       "      <td>0.075602</td>\n",
       "      <td>-0.394163</td>\n",
       "      <td>0.078903</td>\n",
       "      <td>0.07</td>\n",
       "    </tr>\n",
       "    <tr>\n",
       "      <th>2</th>\n",
       "      <td>-1.755871</td>\n",
       "      <td>1.088241</td>\n",
       "      <td>-0.370671</td>\n",
       "      <td>0.985281</td>\n",
       "      <td>1.005099</td>\n",
       "      <td>1.571999</td>\n",
       "      <td>-0.810147</td>\n",
       "      <td>-0.884381</td>\n",
       "      <td>0.804571</td>\n",
       "      <td>-0.410997</td>\n",
       "      <td>-0.403312</td>\n",
       "      <td>0.331915</td>\n",
       "      <td>-0.394163</td>\n",
       "      <td>0.317334</td>\n",
       "      <td>0.22</td>\n",
       "    </tr>\n",
       "    <tr>\n",
       "      <th>3</th>\n",
       "      <td>-1.812418</td>\n",
       "      <td>1.066625</td>\n",
       "      <td>0.451913</td>\n",
       "      <td>1.214454</td>\n",
       "      <td>0.714812</td>\n",
       "      <td>1.571999</td>\n",
       "      <td>-0.810147</td>\n",
       "      <td>-0.498337</td>\n",
       "      <td>1.001712</td>\n",
       "      <td>0.388750</td>\n",
       "      <td>-0.573222</td>\n",
       "      <td>0.809470</td>\n",
       "      <td>-0.559096</td>\n",
       "      <td>0.775012</td>\n",
       "      <td>0.39</td>\n",
       "    </tr>\n",
       "    <tr>\n",
       "      <th>4</th>\n",
       "      <td>-1.868535</td>\n",
       "      <td>1.073142</td>\n",
       "      <td>0.364305</td>\n",
       "      <td>1.358830</td>\n",
       "      <td>0.375978</td>\n",
       "      <td>1.571999</td>\n",
       "      <td>-0.810147</td>\n",
       "      <td>-0.717795</td>\n",
       "      <td>0.900105</td>\n",
       "      <td>0.300440</td>\n",
       "      <td>-0.745495</td>\n",
       "      <td>0.694674</td>\n",
       "      <td>-0.724262</td>\n",
       "      <td>0.662552</td>\n",
       "      <td>0.41</td>\n",
       "    </tr>\n",
       "  </tbody>\n",
       "</table>\n",
       "</div>"
      ],
      "text/plain": [
       "          T      CLCT    wspeed  hour_sin  hour_cos  month_sin  month_cos  \\\n",
       "0 -1.755871  0.984558 -0.319161  0.342582  1.367110   1.571999  -0.810147   \n",
       "1 -1.755871  1.098016 -0.763964  0.687613  1.227471   1.571999  -0.810147   \n",
       "2 -1.755871  1.088241 -0.370671  0.985281  1.005099   1.571999  -0.810147   \n",
       "3 -1.812418  1.066625  0.451913  1.214454  0.714812   1.571999  -0.810147   \n",
       "4 -1.868535  1.073142  0.364305  1.358830  0.375978   1.571999  -0.810147   \n",
       "\n",
       "   wdir_sin  wdir_cos  wspeed_T  wspeed_wdirsin  wspeed_wdircos  \\\n",
       "0 -0.836230  0.833991 -0.361302       -0.403312        0.362536   \n",
       "1 -1.358874  0.400670 -0.790423       -0.403312        0.075602   \n",
       "2 -0.884381  0.804571 -0.410997       -0.403312        0.331915   \n",
       "3 -0.498337  1.001712  0.388750       -0.573222        0.809470   \n",
       "4 -0.717795  0.900105  0.300440       -0.745495        0.694674   \n",
       "\n",
       "   wspeed_wdirsin_T  wspeed_wdircos_T  production  \n",
       "0         -0.394163          0.346239        0.02  \n",
       "1         -0.394163          0.078903        0.07  \n",
       "2         -0.394163          0.317334        0.22  \n",
       "3         -0.559096          0.775012        0.39  \n",
       "4         -0.724262          0.662552        0.41  "
      ]
     },
     "execution_count": 39,
     "metadata": {},
     "output_type": "execute_result"
    }
   ],
   "source": [
    "df_WF1.head()"
   ]
  },
  {
   "cell_type": "code",
   "execution_count": null,
   "metadata": {},
   "outputs": [],
   "source": [
    "pt.pyplot()"
   ]
  },
  {
   "cell_type": "code",
   "execution_count": null,
   "metadata": {},
   "outputs": [],
   "source": [
    "from sklearn.preprocessing import PowerTransformer\n",
    "\n",
    "# Yeo-Johnson transformation\n",
    "pt = PowerTransformer(method='yeo-johnson', standardize=True)\n",
    "x_trnsf = pt.fit_transform(df_eda[['NWP1_wshear', 'NWP1_T',\n",
    "           'NWP1_wdir_sin', 'NWP1_wdir_cos',\n",
    "           'hour_sin','hour_cos',\n",
    "           'month_sin','month_cos']])\n",
    "\n",
    "x_trnsf_df = pd.DataFrame(data=x_trnsf)"
   ]
  },
  {
   "cell_type": "code",
   "execution_count": null,
   "metadata": {},
   "outputs": [],
   "source": [
    "sns.pairplot(\n",
    "    x_trnsf_df,\n",
    "    diag_kind='kde'\n",
    ")"
   ]
  },
  {
   "cell_type": "code",
   "execution_count": null,
   "metadata": {},
   "outputs": [],
   "source": [
    "pt.lambdas_"
   ]
  },
  {
   "cell_type": "code",
   "execution_count": null,
   "metadata": {},
   "outputs": [],
   "source": [
    "pt = PowerTransformer(method='box-cox', standardize=True)\n",
    "x_trnsf = pt.fit_transform(df_eda[['NWP1_wshear', 'NWP1_T']])\n",
    "x_trnsf_df = pd.DataFrame(data=x_trnsf)\n",
    "sns.pairplot(x_trnsf_df,diag_kind='kde')"
   ]
  },
  {
   "cell_type": "code",
   "execution_count": null,
   "metadata": {},
   "outputs": [],
   "source": [
    "pt.lambdas_"
   ]
  },
  {
   "cell_type": "code",
   "execution_count": null,
   "metadata": {
    "scrolled": false
   },
   "outputs": [],
   "source": [
    "# standard scaler\n",
    "from sklearn.preprocessing import StandardScaler\n",
    "\n",
    "ss = StandardScaler()\n",
    "x_trnsf = ss.fit_transform(df_eda[['NWP1_wshear', 'NWP1_T']])\n",
    "x_trnsf_df = pd.DataFrame(data=x_trnsf)\n",
    "sns.pairplot(x_trnsf_df,diag_kind='kde')"
   ]
  },
  {
   "cell_type": "code",
   "execution_count": null,
   "metadata": {},
   "outputs": [],
   "source": [
    "# MinMax transformation\n",
    "from sklearn.preprocessing import MinMaxScaler\n",
    "\n",
    "mm = MinMaxScaler()\n",
    "x_trnsf = mm.fit_transform(df_eda[['NWP1_wshear', 'NWP1_T',\n",
    "           'NWP1_wdir_sin', 'NWP1_wdir_cos',\n",
    "           'hour_sin','hour_cos',\n",
    "           'month_sin','month_cos']])\n",
    "\n",
    "x_trnsf_df = pd.DataFrame(data=x_trnsf)\n",
    "sns.pairplot(x_trnsf_df,diag_kind='kde')"
   ]
  },
  {
   "cell_type": "markdown",
   "metadata": {},
   "source": [
    "## Target transfomation\n",
    "<a id=\"target_transformation\"></a>\n",
    "\n",
    "The target (power production by the WF) has a very right skewed distribution also:"
   ]
  },
  {
   "cell_type": "code",
   "execution_count": 20,
   "metadata": {},
   "outputs": [
    {
     "name": "stderr",
     "output_type": "stream",
     "text": [
      "C:\\Users\\Quark\\.conda\\envs\\TFM-env\\lib\\site-packages\\ipykernel\\ipkernel.py:287: DeprecationWarning:\n",
      "\n",
      "`should_run_async` will not call `transform_cell` automatically in the future. Please pass the result to `transformed_cell` argument and any exception that happen during thetransform in `preprocessing_exc_tuple` in IPython 7.17 and above.\n",
      "\n"
     ]
    },
    {
     "data": {
      "text/plain": [
       "<AxesSubplot:ylabel='Density'>"
      ]
     },
     "execution_count": 20,
     "metadata": {},
     "output_type": "execute_result"
    },
    {
     "data": {
      "image/png": "[encoded data removed]",
      "text/plain": [
       "<Figure size 432x288 with 1 Axes>"
      ]
     },
     "metadata": {
      "needs_background": "light"
     },
     "output_type": "display_data"
    }
   ],
   "source": [
    "sns.distplot(y_train_WF1, kde=True)"
   ]
  },
  {
   "cell_type": "code",
   "execution_count": 23,
   "metadata": {},
   "outputs": [
    {
     "data": {
      "text/plain": [
       "<AxesSubplot:ylabel='Density'>"
      ]
     },
     "execution_count": 23,
     "metadata": {},
     "output_type": "execute_result"
    },
    {
     "data": {
      "image/png": "[encoded data removed]",
      "text/plain": [
       "<Figure size 432x288 with 1 Axes>"
      ]
     },
     "metadata": {
      "needs_background": "light"
     },
     "output_type": "display_data"
    }
   ],
   "source": [
    "mm = PowerTransformer(method='yeo-johnson', standardize=True)\n",
    "y_trnsf = mm.fit_transform(np.array(y_train_WF1).reshape(-1,1))\n",
    "\n",
    "sns.distplot(y_trnsf, kde=True)"
   ]
  },
  {
   "cell_type": "markdown",
   "metadata": {},
   "source": [
    "We may also use a power transformation to handle the skeweness of the target distribution (more appropriate in this case than the log transformation, as the target has many 0 values)."
   ]
  },
  {
   "cell_type": "code",
   "execution_count": 28,
   "metadata": {},
   "outputs": [
    {
     "name": "stderr",
     "output_type": "stream",
     "text": [
      "C:\\Users\\Quark\\.conda\\envs\\TFM-env\\lib\\site-packages\\ipykernel\\ipkernel.py:287: DeprecationWarning:\n",
      "\n",
      "`should_run_async` will not call `transform_cell` automatically in the future. Please pass the result to `transformed_cell` argument and any exception that happen during thetransform in `preprocessing_exc_tuple` in IPython 7.17 and above.\n",
      "\n"
     ]
    },
    {
     "data": {
      "text/plain": [
       "<AxesSubplot:ylabel='Density'>"
      ]
     },
     "execution_count": 28,
     "metadata": {},
     "output_type": "execute_result"
    },
    {
     "data": {
      "image/png": "[encoded data removed]",
      "text/plain": [
       "<Figure size 432x288 with 1 Axes>"
      ]
     },
     "metadata": {
      "needs_background": "light"
     },
     "output_type": "display_data"
    }
   ],
   "source": [
    "from sklearn.preprocessing import MinMaxScaler, StandardScaler\n",
    "y_trnsf = StandardScaler().fit_transform(np.array(y_train_WF1).reshape(-1,1))\n",
    "\n",
    "sns.distplot(y_trnsf, kde=True)"
   ]
  },
  {
   "cell_type": "markdown",
   "metadata": {},
   "source": [
    "## Outliers and abnormal data\n",
    "<a id=\"outliers\"></a>\n",
    "\n",
    "In weather parameters (except `CLCT`) there's no abnormal data, as we saw in notebook `1.1-vcp-explore-data`. We need to focus on the following four types of outliers:\n",
    "1. Data points in low wind speed period with high power generation.\n",
    "2. Data points with negtative value wind speed.\n",
    "3. Data points with negative value power generation.\n",
    "4. Data points with low power generation at high wind speed period.\n",
    "\n",
    "Let's have a quick look at the data sets to check types 2 and 3:"
   ]
  },
  {
   "cell_type": "code",
   "execution_count": null,
   "metadata": {},
   "outputs": [],
   "source": [
    "pd.options.display.max_columns = None\n",
    "df_eda[df_eda.columns[-38:]].describe()"
   ]
  },
  {
   "cell_type": "markdown",
   "metadata": {},
   "source": [
    "There isn't any type 2 neither 3 outliers. However, looking at `CLCT`, which represents the cloud coverage percentage, we see the minimum value is negative, which makes nonsense. "
   ]
  },
  {
   "cell_type": "code",
   "execution_count": null,
   "metadata": {
    "scrolled": true
   },
   "outputs": [],
   "source": [
    "for val in df_eda['NWP4_CLCT'].sort_values(ascending=True):\n",
    "    print(val)"
   ]
  },
  {
   "cell_type": "markdown",
   "metadata": {},
   "source": [
    "Negative values are very close to 0, it makes sense to replace all these observations by 0."
   ]
  },
  {
   "cell_type": "code",
   "execution_count": null,
   "metadata": {},
   "outputs": [],
   "source": [
    "X_train_cpy.loc[X_train_cpy['NWP4_CLCT'] < 0, 'NWP4_CLCT'] = 0.0\n",
    "X_test_cpy.loc[X_test_cpy['NWP4_CLCT'] < 0, 'NWP4_CLCT'] = 0.0"
   ]
  },
  {
   "cell_type": "code",
   "execution_count": null,
   "metadata": {},
   "outputs": [],
   "source": [
    "X_train_cpy['NWP4_CLCT'].sort_values(ascending=True)"
   ]
  },
  {
   "cell_type": "markdown",
   "metadata": {},
   "source": [
    "#### Trying some ML algorithms to detect outliers"
   ]
  },
  {
   "cell_type": "code",
   "execution_count": null,
   "metadata": {},
   "outputs": [],
   "source": [
    "# Import models\n",
    "from pyod.models.iforest import IForest\n",
    "from pyod.models.knn import KNN\n",
    "from pyod.models.abod import ABOD\n",
    "from pyod.models.cblof import CBLOF\n",
    "from pyod.models.hbos import HBOS\n",
    "from pyod.models.lof import LOF\n",
    "from pyod.models.ocsvm import OCSVM\n",
    "\n",
    "from scipy import stats\n",
    "import matplotlib.pyplot as plt\n",
    "%matplotlib inline\n",
    "import matplotlib.font_manager\n",
    "\n",
    "df = df_eda[['NWP1_wvel','Production']]\n",
    "\n",
    "mm = PowerTransformer(method='yeo-johnson', standardize=True)\n",
    "\n",
    "X1 = mm.fit_transform(np.array(df['NWP1_wvel']).reshape(-1,1))\n",
    "X2 = mm.fit_transform(np.array(df_eda['Production']).reshape(-1,1))\n",
    "\n",
    "#X1 = df['NWP1_wvel'].values.reshape(-1,1)\n",
    "#X2 = df['Production'].values.reshape(-1,1)\n",
    "X = np.concatenate((X1,X2), axis=1)\n",
    "\n",
    "random_state = np.random.RandomState(42)\n",
    "outliers_fraction = 0.10\n",
    "\n",
    "# Define seven outlier detection tools to be compared\n",
    "classifiers = {\n",
    "        'One-class SVM detector (OCSVM)': OCSVM(contamination=outliers_fraction), \n",
    "        #'Angle-based Outlier Detector (ABOD)': ABOD(contamination=outliers_fraction),\n",
    "        #'Isolation Forest': IForest(contamination=outliers_fraction,random_state=random_state, n_estimators=10000),\n",
    "        #'K Nearest Neighbors (KNN)': KNN(contamination=outliers_fraction, radius=0.05),\n",
    "        #'Average KNN': KNN(method='mean',contamination=outliers_fraction, n_neighbors=9)\n",
    "}\n"
   ]
  },
  {
   "cell_type": "code",
   "execution_count": null,
   "metadata": {
    "scrolled": false
   },
   "outputs": [],
   "source": [
    "xx , yy = np.meshgrid(np.linspace(0, 30 , 200), np.linspace(0, 12, 200))\n",
    "\n",
    "for i, (clf_name, clf) in enumerate(classifiers.items()):\n",
    "    clf.fit(X)\n",
    "    # predict raw anomaly score\n",
    "    scores_pred = clf.decision_function(X) * -1\n",
    "        \n",
    "    # prediction of a datapoint category outlier or inlier\n",
    "    y_pred = clf.predict(X)\n",
    "    n_inliers = len(y_pred) - np.count_nonzero(y_pred)\n",
    "    n_outliers = np.count_nonzero(y_pred == 1)\n",
    "    plt.figure(figsize=(10, 10))\n",
    "    \n",
    "    # copy of dataframe\n",
    "    dfx = df\n",
    "    dfx['outlier'] = y_pred.tolist()\n",
    "    \n",
    "    # IX1 - inlier feature 1,  IX2 - inlier feature 2\n",
    "    IX1 =  np.array(dfx['NWP1_wvel'][dfx['outlier'] == 0]).reshape(-1,1)\n",
    "    IX2 =  np.array(dfx['Production'][dfx['outlier'] == 0]).reshape(-1,1)\n",
    "    \n",
    "    # OX1 - outlier feature 1, OX2 - outlier feature 2\n",
    "    OX1 =  dfx['NWP1_wvel'][dfx['outlier'] == 1].values.reshape(-1,1)\n",
    "    OX2 =  dfx['Production'][dfx['outlier'] == 1].values.reshape(-1,1)\n",
    "         \n",
    "    print('OUTLIERS : ',n_outliers,'INLIERS : ',n_inliers, clf_name)\n",
    "        \n",
    "    # threshold value to consider a datapoint inlier or outlier\n",
    "    threshold = stats.scoreatpercentile(scores_pred,100 * outliers_fraction)\n",
    "        \n",
    "    # decision function calculates the raw anomaly score for every point\n",
    "    Z = clf.decision_function(np.c_[xx.ravel(), yy.ravel()]) * -1\n",
    "    Z = Z.reshape(xx.shape)\n",
    "          \n",
    "    # fill blue map colormap from minimum anomaly score to threshold value\n",
    "    plt.contourf(xx, yy, Z, levels=np.linspace(Z.min(), threshold, 7),cmap=plt.cm.Blues_r)\n",
    "        \n",
    "    # draw red contour line where anomaly score is equal to thresold\n",
    "    a = plt.contour(xx, yy, Z, levels=[threshold],linewidths=2, colors='red')\n",
    "        \n",
    "    # fill orange contour lines where range of anomaly score is from threshold to maximum anomaly score\n",
    "    plt.contourf(xx, yy, Z, levels=[threshold, Z.max()],colors='orange')\n",
    "        \n",
    "    b = plt.scatter(IX1,IX2, c='white',s=20, edgecolor='k')\n",
    "    \n",
    "    c = plt.scatter(OX1,OX2, c='black',s=20, edgecolor='k')\n",
    "       \n",
    "    plt.axis('tight')  \n",
    "    \n",
    "    # loc=2 is used for the top left corner \n",
    "    plt.legend(\n",
    "        [a.collections[0], b,c],\n",
    "        ['learned decision function', 'inliers','outliers'],\n",
    "        prop=matplotlib.font_manager.FontProperties(size=20),\n",
    "        loc=2)\n",
    "      \n",
    "    plt.xlim((0, 30))\n",
    "    plt.ylim((0, 12))\n",
    "    plt.title(clf_name)\n",
    "    plt.show()"
   ]
  },
  {
   "cell_type": "code",
   "execution_count": null,
   "metadata": {},
   "outputs": [],
   "source": [
    "# prediction of a datapoint category outlier or inlier\n",
    "y_pred = clf.predict(X)\n",
    "n_inliers = len(y_pred) - np.count_nonzero(y_pred)\n",
    "n_outliers = np.count_nonzero(y_pred == 1)\n",
    "\n",
    "# copy of dataframe\n",
    "dfx = df\n",
    "dfx['outlier'] = y_pred.tolist()"
   ]
  },
  {
   "cell_type": "code",
   "execution_count": null,
   "metadata": {},
   "outputs": [],
   "source": [
    "X1 = np.array(df['NWP1_wvel']).reshape(-1,1)\n",
    "X2 = np.array(df_eda['Production']).reshape(-1,1)\n",
    "X = np.concatenate((X1,X2), axis=1)"
   ]
  },
  {
   "cell_type": "code",
   "execution_count": null,
   "metadata": {},
   "outputs": [],
   "source": [
    "X.shape"
   ]
  },
  {
   "cell_type": "code",
   "execution_count": null,
   "metadata": {},
   "outputs": [],
   "source": [
    "import hdbscan\n",
    "\n",
    "mm = StandardScaler()\n",
    "\n",
    "X1 = mm.fit_transform(np.array(df['NWP1_wvel']).reshape(-1,1))\n",
    "X2 = mm.fit_transform(np.array(df_eda['Production']).reshape(-1,1))\n",
    "X = mm.fit_transform(np.concatenate((X1,X2), axis=1))\n",
    "\n",
    "clusterer = hdbscan.HDBSCAN(min_cluster_size=15, min_samples=25).fit(X)"
   ]
  },
  {
   "cell_type": "code",
   "execution_count": null,
   "metadata": {},
   "outputs": [],
   "source": [
    "clusterer"
   ]
  },
  {
   "cell_type": "code",
   "execution_count": null,
   "metadata": {},
   "outputs": [],
   "source": [
    "threshold = pd.Series(clusterer.outlier_scores_).quantile(0.96)\n",
    "outliers = np.where(clusterer.outlier_scores_ > threshold)[0]\n",
    "plt.scatter(*X.T, s=50, linewidth=0, c='gray', alpha=0.20)\n",
    "plt.scatter(*X[outliers].T, s=50, linewidth=0, c='red', alpha=0.5)"
   ]
  },
  {
   "cell_type": "code",
   "execution_count": null,
   "metadata": {},
   "outputs": [],
   "source": [
    "outliers"
   ]
  },
  {
   "cell_type": "code",
   "execution_count": null,
   "metadata": {},
   "outputs": [],
   "source": [
    "color_palette = sns.color_palette()\n",
    "cluster_colors = [color_palette[x] if x >= 0 else (0.5, 0.5, 0.5) for x in clusterer.labels_]\n",
    "cluster_member_colors = [sns.desaturate(x, p) for x, p in\n",
    "                         zip(cluster_colors, clusterer.probabilities_)]\n",
    "plt.scatter(*X.T, s=50, linewidth=0, c=cluster_member_colors, alpha=0.25)"
   ]
  },
  {
   "cell_type": "code",
   "execution_count": null,
   "metadata": {},
   "outputs": [],
   "source": [
    "clusterer.labels_.shape"
   ]
  },
  {
   "cell_type": "code",
   "execution_count": null,
   "metadata": {},
   "outputs": [],
   "source": [
    "## With DBSCAN \n",
    "from sklearn.cluster import DBSCAN\n",
    "outlier_detection = DBSCAN(\n",
    "    eps = 0.1,\n",
    "    metric=\"l1\",\n",
    "    min_samples = 10,\n",
    "    n_jobs = -1)\n",
    "\n",
    "\n",
    "mm = PowerTransformer(method='yeo-johnson', standardize=True)\n",
    "\n",
    "X1 = mm.fit_transform(np.array(df['NWP1_wvel']).reshape(-1,1))\n",
    "X2 = mm.fit_transform(np.array(df_eda['Production']).reshape(-1,1))\n",
    "X = np.concatenate((X1,X2), axis=1)\n",
    "\n",
    "clusters = outlier_detection.fit_predict(X)"
   ]
  },
  {
   "cell_type": "code",
   "execution_count": null,
   "metadata": {},
   "outputs": [],
   "source": [
    "outliers = np.where(clusters == -1)[0]"
   ]
  },
  {
   "cell_type": "code",
   "execution_count": null,
   "metadata": {},
   "outputs": [],
   "source": [
    "plt.scatter(*X.T, s=50, linewidth=0, c='gray', alpha=0.20)\n",
    "plt.scatter(*X[outliers].T, s=50, linewidth=0, c='red', alpha=0.5)"
   ]
  },
  {
   "cell_type": "code",
   "execution_count": null,
   "metadata": {},
   "outputs": [],
   "source": [
    "df.shape"
   ]
  },
  {
   "cell_type": "code",
   "execution_count": null,
   "metadata": {},
   "outputs": [],
   "source": [
    "%store X_train_cpy\n",
    "%store X_test_cpy\n",
    "%store y_train\n",
    "%store y_test"
   ]
  },
  {
   "cell_type": "code",
   "execution_count": null,
   "metadata": {},
   "outputs": [],
   "source": []
  },
  {
   "cell_type": "code",
   "execution_count": null,
   "metadata": {},
   "outputs": [],
   "source": [
    "X_test.head()"
   ]
  },
  {
   "cell_type": "code",
   "execution_count": null,
   "metadata": {},
   "outputs": [],
   "source": []
  }
 ],
 "metadata": {
  "kernelspec": {
   "display_name": "WindPowerForecasting",
   "language": "python",
   "name": "python3"
  },
  "language_info": {
   "codemirror_mode": {
    "name": "ipython",
    "version": 3
   },
   "file_extension": ".py",
   "mimetype": "text/x-python",
   "name": "python",
   "nbconvert_exporter": "python",
   "pygments_lexer": "ipython3",
   "version": "3.7.8"
  }
 },
 "nbformat": 4,
 "nbformat_minor": 4
}
