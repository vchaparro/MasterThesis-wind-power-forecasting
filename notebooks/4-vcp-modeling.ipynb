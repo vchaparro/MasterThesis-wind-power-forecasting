{
 "cells": [
  {
   "cell_type": "markdown",
   "metadata": {},
   "source": [
    "# Index\n",
    "* [Modeling](#modeling)\n",
    "    - [Prepare data](#prepare)\n",
    "    - [Multivariate Adaptative Regression Splines (MARS)](#mars)\n",
    "    - [K-Nearest Neighbohrs (KNN)](#knn)\n",
    "    - [Suppor Vector Machines (SVM)](#svm)\n",
    "    - [Random Forests](#RF)\n",
    "    - [Artificial Neural Network (ANN)](#ann)\n",
    "    "
   ]
  },
  {
   "cell_type": "code",
   "execution_count": 1,
   "metadata": {
    "scrolled": false
   },
   "outputs": [
    {
     "name": "stderr",
     "output_type": "stream",
     "text": [
      "C:\\Users\\Quark\\.conda\\envs\\TFM-env\\lib\\site-packages\\ipykernel\\ipkernel.py:287: DeprecationWarning:\n",
      "\n",
      "`should_run_async` will not call `transform_cell` automatically in the future. Please pass the result to `transformed_cell` argument and any exception that happen during thetransform in `preprocessing_exc_tuple` in IPython 7.17 and above.\n",
      "\n"
     ]
    },
    {
     "data": {
      "text/html": [
       "        <script type=\"text/javascript\">\n",
       "        window.PlotlyConfig = {MathJaxConfig: 'local'};\n",
       "        if (window.MathJax) {MathJax.Hub.Config({SVG: {font: \"STIX-Web\"}});}\n",
       "        if (typeof require !== 'undefined') {\n",
       "        require.undef(\"plotly\");\n",
       "        requirejs.config({\n",
       "            paths: {\n",
       "                'plotly': ['https://cdn.plot.ly/plotly-latest.min']\n",
       "            }\n",
       "        });\n",
       "        require(['plotly'], function(Plotly) {\n",
       "            window._Plotly = Plotly;\n",
       "        });\n",
       "        }\n",
       "        </script>\n",
       "        "
      ]
     },
     "metadata": {},
     "output_type": "display_data"
    }
   ],
   "source": [
    "import tensorflow as tf\n",
    "from tensorflow import keras\n",
    "\n",
    "%load_ext autoreload\n",
    "%autoreload 2\n",
    "\n",
    "# Common libraries\n",
    "import numpy as np\n",
    "import pandas as pd\n",
    "import os\n",
    "import datetime as dt\n",
    "\n",
    "from yellowbrick.regressor import ResidualsPlot, PredictionError\n",
    "from yellowbrick.model_selection import ValidationCurve, LearningCurve, CVScores\n",
    "\n",
    "# Graphics\n",
    "%matplotlib inline\n",
    "import matplotlib as mpl\n",
    "import matplotlib.pyplot as plt\n",
    "import matplotlib.cm as cm\n",
    "import seaborn as sns\n",
    "import plotly as pty\n",
    "import plotly.graph_objs as go\n",
    "from plotly.subplots import make_subplots\n",
    "from plotly.offline import download_plotlyjs, init_notebook_mode, plot, iplot\n",
    "import cufflinks as cf\n",
    "cf.set_config_file(offline=True)\n",
    "\n",
    "import re\n",
    "from collections import OrderedDict\n",
    "\n",
    "import warnings\n",
    "warnings.filterwarnings(action=\"ignore\", message=\"^internal gelsd\")\n"
   ]
  },
  {
   "cell_type": "markdown",
   "metadata": {},
   "source": [
    "## Modeling\n",
    "<a id=\"modeling\"></a>"
   ]
  },
  {
   "cell_type": "code",
   "execution_count": 2,
   "metadata": {
    "tags": []
   },
   "outputs": [
    {
     "name": "stderr",
     "output_type": "stream",
     "text": [
      "C:\\Users\\Quark\\.conda\\envs\\TFM-env\\lib\\site-packages\\ipykernel\\ipkernel.py:287: DeprecationWarning:\n",
      "\n",
      "`should_run_async` will not call `transform_cell` automatically in the future. Please pass the result to `transformed_cell` argument and any exception that happen during thetransform in `preprocessing_exc_tuple` in IPython 7.17 and above.\n",
      "\n"
     ]
    }
   ],
   "source": [
    "from sklearn.compose import ColumnTransformer, TransformedTargetRegressor\n",
    "from sklearn.preprocessing import StandardScaler, MinMaxScaler, PowerTransformer\n",
    "from sklearn.base import BaseEstimator, TransformerMixin\n",
    "from sklearn.pipeline import Pipeline\n",
    "from wind_power_forecasting.nodes import metric\n",
    "from sklearn.model_selection import cross_val_score\n",
    "from sklearn.metrics.scorer import make_scorer\n",
    "from sklearn.model_selection import GridSearchCV\n",
    "from sklearn.preprocessing import PolynomialFeatures\n",
    "from sklearn import linear_model as lm\n",
    "from pyearth import Earth\n",
    "from sklearn.model_selection import TimeSeriesSplit,  cross_validate\n",
    "from sklearn.ensemble import RandomForestRegressor\n",
    "from sklearn.feature_selection import SelectFromModel\n",
    "from sklearn.metrics import r2_score, mean_absolute_error, mean_squared_error\n",
    "import plotly.graph_objects as go\n",
    "from sklearn import linear_model, datasets\n",
    "import scipy as sp\n",
    "import mlflow\n",
    "import mlflow.sklearn\n",
    "from mlflow import log_metric, log_param, log_artifact\n",
    "from sklearn.feature_selection import SelectFromModel\n",
    "from sklearn.model_selection import learning_curve, validation_curve\n",
    "from sklearn.feature_selection import SelectKBest, mutual_info_regression\n",
    "from operational_analysis.toolkits import filters\n",
    "from operational_analysis.toolkits import power_curve\n",
    "\n",
    "\n",
    "import logging\n",
    "logging.basicConfig(level=logging.WARN)\n",
    "logger = logging.getLogger(__name__)\n",
    "\n",
    "from warnings import simplefilter\n",
    "# ignore all future warnings\n",
    "simplefilter(action='ignore', category=FutureWarning)\n",
    "simplefilter(action='ignore', category=DeprecationWarning)"
   ]
  },
  {
   "cell_type": "markdown",
   "metadata": {},
   "source": [
    "### Prepare data\n",
    "<a id=\"prepare\"></a>"
   ]
  },
  {
   "cell_type": "code",
   "execution_count": 3,
   "metadata": {},
   "outputs": [
    {
     "name": "stdout",
     "output_type": "stream",
     "text": [
      "2020-10-12 19:09:23,904 - kedro.io.data_catalog - INFO - Loading data from `X_train_raw` (CSVDataSet)...\n",
      "2020-10-12 19:09:24,405 - kedro.io.data_catalog - INFO - Loading data from `y_train_raw` (CSVDataSet)...\n"
     ]
    }
   ],
   "source": [
    "X_train_raw = context.catalog.load(\"X_train_raw\")\n",
    "X_train_raw[\"Time\"] = pd.to_datetime(X_train_raw[\"Time\"], format=\"%d/%m/%Y %H:%M\")\n",
    "y_train_raw = context.catalog.load(\"y_train_raw\")"
   ]
  },
  {
   "cell_type": "code",
   "execution_count": 4,
   "metadata": {},
   "outputs": [
    {
     "name": "stdout",
     "output_type": "stream",
     "text": [
      "2020-10-12 19:09:24,690 - kedro.io.data_catalog - INFO - Loading data from `X_test_raw` (CSVDataSet)...\n"
     ]
    }
   ],
   "source": [
    "X_test_raw = context.catalog.load(\"X_test_raw\")"
   ]
  },
  {
   "cell_type": "code",
   "execution_count": 5,
   "metadata": {},
   "outputs": [],
   "source": [
    "# Selecting rows by WF\n",
    "df = X_train_raw[X_train_raw['WF'] == 'WF6']\n",
    "\n",
    "# Join X and y just to split in X_train and y_train later on in one shot.\n",
    "df = pd.merge(df, y_train_raw, on='ID', how='inner')"
   ]
  },
  {
   "cell_type": "code",
   "execution_count": 6,
   "metadata": {},
   "outputs": [
    {
     "data": {
      "text/plain": [
       "(6239, 106)"
      ]
     },
     "execution_count": 6,
     "metadata": {},
     "output_type": "execute_result"
    }
   ],
   "source": [
    "df.shape"
   ]
  },
  {
   "cell_type": "code",
   "execution_count": 7,
   "metadata": {},
   "outputs": [
    {
     "data": {
      "text/plain": [
       "<AxesSubplot:>"
      ]
     },
     "execution_count": 7,
     "metadata": {},
     "output_type": "execute_result"
    },
    {
     "data": {
      "image/png": "[encoded data removed]",
      "text/plain": [
       "<Figure size 432x288 with 1 Axes>"
      ]
     },
     "metadata": {
      "needs_background": "light"
     },
     "output_type": "display_data"
    }
   ],
   "source": [
    "df['Production'].hist()"
   ]
  },
  {
   "cell_type": "code",
   "execution_count": 8,
   "metadata": {},
   "outputs": [],
   "source": [
    "## Split X in train and test sets\n",
    "\n",
    "def split_data_by_date(date, X, y):\n",
    "    \"\"\"\n",
    "    It splits X and y sets by a 'Time' value \n",
    "    into sets for training and testing. \n",
    "        - Return: a dictionary with the four sets\n",
    "                  (X_train, y_train, X_test, y_test)\n",
    "    \"\"\"\n",
    "    sets = {}\n",
    "    date_cut = dt.datetime.strptime(date, '%Y-%m-%d %H:%M:%S')\n",
    "    \n",
    "    X_test = X[X['Time'] > date_cut]\n",
    "    X_train = X[X['Time'] <= date_cut]\n",
    "    y_train = y[X_train.index]\n",
    "    y_test = y[X_test.index]\n",
    "    \n",
    "    sets['X_train'] = X_train\n",
    "    sets['X_test'] = X_test\n",
    "    sets['y_train'] = y_train\n",
    "    sets['y_test'] = y_test\n",
    "    \n",
    "    return sets\n",
    "\n",
    "train_test_dfs = split_data_by_date('2018-11-13 23:00:00', df, df['Production'])\n",
    "X_train = train_test_dfs.get('X_train')\n",
    "X_test = train_test_dfs.get('X_test')\n",
    "y_train = train_test_dfs.get('y_train')\n",
    "y_test = train_test_dfs.get('y_test')\n",
    "\n",
    "del X_train['Production']\n",
    "del X_test['Production']\n",
    "\n",
    "# For predictions only can be used data avialable on day D at 09h. --> columns 3 to -9 \n",
    "X_test = X_test[X_test.columns[0:-9]]"
   ]
  },
  {
   "cell_type": "code",
   "execution_count": 9,
   "metadata": {},
   "outputs": [
    {
     "name": "stdout",
     "output_type": "stream",
     "text": [
      "(4726, 105)\n",
      "(1513, 96)\n",
      "(4726,)\n",
      "(1513,)\n"
     ]
    }
   ],
   "source": [
    "print(X_train.shape)\n",
    "print(X_test.shape)\n",
    "print(y_train.shape)\n",
    "print(y_test.shape)"
   ]
  },
  {
   "cell_type": "code",
   "execution_count": 10,
   "metadata": {},
   "outputs": [
    {
     "data": {
      "text/html": [
       "<div>\n",
       "<style scoped>\n",
       "    .dataframe tbody tr th:only-of-type {\n",
       "        vertical-align: middle;\n",
       "    }\n",
       "\n",
       "    .dataframe tbody tr th {\n",
       "        vertical-align: top;\n",
       "    }\n",
       "\n",
       "    .dataframe thead th {\n",
       "        text-align: right;\n",
       "    }\n",
       "</style>\n",
       "<table border=\"1\" class=\"dataframe\">\n",
       "  <thead>\n",
       "    <tr style=\"text-align: right;\">\n",
       "      <th></th>\n",
       "      <th>ID</th>\n",
       "      <th>WF</th>\n",
       "      <th>Time</th>\n",
       "      <th>NWP1_00h_D-2_U</th>\n",
       "      <th>NWP1_00h_D-2_V</th>\n",
       "      <th>NWP1_00h_D-2_T</th>\n",
       "      <th>NWP1_06h_D-2_U</th>\n",
       "      <th>NWP1_06h_D-2_V</th>\n",
       "      <th>NWP1_06h_D-2_T</th>\n",
       "      <th>NWP1_12h_D-2_U</th>\n",
       "      <th>...</th>\n",
       "      <th>NWP3_18h_D_T</th>\n",
       "      <th>NWP4_00h_D-2_U</th>\n",
       "      <th>NWP4_00h_D-2_V</th>\n",
       "      <th>NWP4_00h_D-2_CLCT</th>\n",
       "      <th>NWP4_12h_D-2_U</th>\n",
       "      <th>NWP4_12h_D-2_V</th>\n",
       "      <th>NWP4_12h_D-2_CLCT</th>\n",
       "      <th>NWP4_00h_D-1_U</th>\n",
       "      <th>NWP4_00h_D-1_V</th>\n",
       "      <th>NWP4_00h_D-1_CLCT</th>\n",
       "    </tr>\n",
       "  </thead>\n",
       "  <tbody>\n",
       "    <tr>\n",
       "      <th>4726</th>\n",
       "      <td>35863</td>\n",
       "      <td>WF6</td>\n",
       "      <td>2018-11-14 00:00:00</td>\n",
       "      <td>-0.7618</td>\n",
       "      <td>-6.7131</td>\n",
       "      <td>282.19</td>\n",
       "      <td>-1.3750</td>\n",
       "      <td>-5.5332</td>\n",
       "      <td>282.23</td>\n",
       "      <td>-2.3263</td>\n",
       "      <td>...</td>\n",
       "      <td>NaN</td>\n",
       "      <td>0.644902</td>\n",
       "      <td>-2.268668</td>\n",
       "      <td>38.478315</td>\n",
       "      <td>0.318598</td>\n",
       "      <td>-1.190431</td>\n",
       "      <td>54.982982</td>\n",
       "      <td>-0.022318</td>\n",
       "      <td>-1.317330</td>\n",
       "      <td>28.896881</td>\n",
       "    </tr>\n",
       "    <tr>\n",
       "      <th>4727</th>\n",
       "      <td>35864</td>\n",
       "      <td>WF6</td>\n",
       "      <td>2018-11-14 01:00:00</td>\n",
       "      <td>-0.7809</td>\n",
       "      <td>-6.7752</td>\n",
       "      <td>281.89</td>\n",
       "      <td>-0.4825</td>\n",
       "      <td>-5.4323</td>\n",
       "      <td>282.38</td>\n",
       "      <td>-1.0039</td>\n",
       "      <td>...</td>\n",
       "      <td>NaN</td>\n",
       "      <td>NaN</td>\n",
       "      <td>NaN</td>\n",
       "      <td>NaN</td>\n",
       "      <td>0.416240</td>\n",
       "      <td>-1.073839</td>\n",
       "      <td>47.487521</td>\n",
       "      <td>0.312914</td>\n",
       "      <td>-1.179760</td>\n",
       "      <td>26.365332</td>\n",
       "    </tr>\n",
       "    <tr>\n",
       "      <th>4728</th>\n",
       "      <td>35865</td>\n",
       "      <td>WF6</td>\n",
       "      <td>2018-11-14 02:00:00</td>\n",
       "      <td>-0.8841</td>\n",
       "      <td>-5.9893</td>\n",
       "      <td>281.49</td>\n",
       "      <td>0.0929</td>\n",
       "      <td>-4.6489</td>\n",
       "      <td>282.46</td>\n",
       "      <td>-0.6643</td>\n",
       "      <td>...</td>\n",
       "      <td>NaN</td>\n",
       "      <td>NaN</td>\n",
       "      <td>NaN</td>\n",
       "      <td>NaN</td>\n",
       "      <td>0.123855</td>\n",
       "      <td>-1.214820</td>\n",
       "      <td>93.836692</td>\n",
       "      <td>0.468384</td>\n",
       "      <td>-0.973730</td>\n",
       "      <td>26.939089</td>\n",
       "    </tr>\n",
       "    <tr>\n",
       "      <th>4729</th>\n",
       "      <td>35866</td>\n",
       "      <td>WF6</td>\n",
       "      <td>2018-11-14 03:00:00</td>\n",
       "      <td>-0.8335</td>\n",
       "      <td>-4.8228</td>\n",
       "      <td>281.04</td>\n",
       "      <td>0.4258</td>\n",
       "      <td>-4.2501</td>\n",
       "      <td>282.42</td>\n",
       "      <td>-0.9744</td>\n",
       "      <td>...</td>\n",
       "      <td>NaN</td>\n",
       "      <td>NaN</td>\n",
       "      <td>NaN</td>\n",
       "      <td>NaN</td>\n",
       "      <td>0.245772</td>\n",
       "      <td>-0.606280</td>\n",
       "      <td>85.968900</td>\n",
       "      <td>0.297799</td>\n",
       "      <td>-1.001114</td>\n",
       "      <td>25.124735</td>\n",
       "    </tr>\n",
       "    <tr>\n",
       "      <th>4730</th>\n",
       "      <td>35867</td>\n",
       "      <td>WF6</td>\n",
       "      <td>2018-11-14 04:00:00</td>\n",
       "      <td>-0.6925</td>\n",
       "      <td>-4.2541</td>\n",
       "      <td>280.84</td>\n",
       "      <td>0.1428</td>\n",
       "      <td>-4.2727</td>\n",
       "      <td>282.38</td>\n",
       "      <td>-0.6200</td>\n",
       "      <td>...</td>\n",
       "      <td>NaN</td>\n",
       "      <td>NaN</td>\n",
       "      <td>NaN</td>\n",
       "      <td>NaN</td>\n",
       "      <td>0.008412</td>\n",
       "      <td>-0.903709</td>\n",
       "      <td>88.781224</td>\n",
       "      <td>-0.009902</td>\n",
       "      <td>-1.059793</td>\n",
       "      <td>31.677160</td>\n",
       "    </tr>\n",
       "  </tbody>\n",
       "</table>\n",
       "<p>5 rows × 96 columns</p>\n",
       "</div>"
      ],
      "text/plain": [
       "         ID   WF                Time  NWP1_00h_D-2_U  NWP1_00h_D-2_V  \\\n",
       "4726  35863  WF6 2018-11-14 00:00:00         -0.7618         -6.7131   \n",
       "4727  35864  WF6 2018-11-14 01:00:00         -0.7809         -6.7752   \n",
       "4728  35865  WF6 2018-11-14 02:00:00         -0.8841         -5.9893   \n",
       "4729  35866  WF6 2018-11-14 03:00:00         -0.8335         -4.8228   \n",
       "4730  35867  WF6 2018-11-14 04:00:00         -0.6925         -4.2541   \n",
       "\n",
       "      NWP1_00h_D-2_T  NWP1_06h_D-2_U  NWP1_06h_D-2_V  NWP1_06h_D-2_T  \\\n",
       "4726          282.19         -1.3750         -5.5332          282.23   \n",
       "4727          281.89         -0.4825         -5.4323          282.38   \n",
       "4728          281.49          0.0929         -4.6489          282.46   \n",
       "4729          281.04          0.4258         -4.2501          282.42   \n",
       "4730          280.84          0.1428         -4.2727          282.38   \n",
       "\n",
       "      NWP1_12h_D-2_U  ...  NWP3_18h_D_T  NWP4_00h_D-2_U  NWP4_00h_D-2_V  \\\n",
       "4726         -2.3263  ...           NaN        0.644902       -2.268668   \n",
       "4727         -1.0039  ...           NaN             NaN             NaN   \n",
       "4728         -0.6643  ...           NaN             NaN             NaN   \n",
       "4729         -0.9744  ...           NaN             NaN             NaN   \n",
       "4730         -0.6200  ...           NaN             NaN             NaN   \n",
       "\n",
       "      NWP4_00h_D-2_CLCT  NWP4_12h_D-2_U  NWP4_12h_D-2_V  NWP4_12h_D-2_CLCT  \\\n",
       "4726          38.478315        0.318598       -1.190431          54.982982   \n",
       "4727                NaN        0.416240       -1.073839          47.487521   \n",
       "4728                NaN        0.123855       -1.214820          93.836692   \n",
       "4729                NaN        0.245772       -0.606280          85.968900   \n",
       "4730                NaN        0.008412       -0.903709          88.781224   \n",
       "\n",
       "      NWP4_00h_D-1_U  NWP4_00h_D-1_V  NWP4_00h_D-1_CLCT  \n",
       "4726       -0.022318       -1.317330          28.896881  \n",
       "4727        0.312914       -1.179760          26.365332  \n",
       "4728        0.468384       -0.973730          26.939089  \n",
       "4729        0.297799       -1.001114          25.124735  \n",
       "4730       -0.009902       -1.059793          31.677160  \n",
       "\n",
       "[5 rows x 96 columns]"
      ]
     },
     "execution_count": 10,
     "metadata": {},
     "output_type": "execute_result"
    }
   ],
   "source": [
    "X_test.head()"
   ]
  },
  {
   "cell_type": "code",
   "execution_count": 11,
   "metadata": {},
   "outputs": [],
   "source": [
    "from wind_power_forecasting.nodes import data_transformation as dtr\n",
    "## Input missing values #####\n",
    "new_cols = ['NWP1_U','NWP1_V','NWP1_T','NWP2_U',\n",
    "            'NWP2_V','NWP3_U','NWP3_V','NWP3_T',\n",
    "            'NWP4_U','NWP4_V','NWP4_CLCT']\n",
    "        \n",
    "dtr.add_new_cols(new_cols, X_train)\n",
    "dtr.add_new_cols(new_cols, X_test)\n",
    "\n",
    "# Missing values inputation based on previous observations\n",
    "cols_train = X_train_raw.columns[3:]\n",
    "cols_test = X_train_raw.columns[3:-9]\n",
    "X_train = dtr.input_missing_values(X_train, cols_train)\n",
    "X_test = dtr.input_missing_values(X_test, cols_test)"
   ]
  },
  {
   "cell_type": "code",
   "execution_count": 12,
   "metadata": {},
   "outputs": [],
   "source": [
    "## Missing values inputation with interpolation (missings due to the provision frequency of each NWP)\n",
    "\n",
    "col_list = ['NWP2_U','NWP2_V','NWP3_U','NWP3_V','NWP3_T']\n",
    "X_train.index = X_train['Time']\n",
    "\n",
    "del X_train['Time']\n",
    "    \n",
    "for var in col_list:\n",
    "    X_train[var].interpolate(\n",
    "        method='time', \n",
    "        inplace=True,\n",
    "        limit=2,\n",
    "        limit_direction='both'\n",
    "    )\n",
    "X_train.reset_index(inplace=True)\n",
    "\n",
    "\n",
    "X_test.index = X_test['Time']\n",
    "del X_test['Time']\n",
    "    \n",
    "for var in col_list:\n",
    "    X_test[var].interpolate(\n",
    "        method='time', \n",
    "        inplace=True,\n",
    "        limit=2,\n",
    "        limit_direction='both'\n",
    "    )\n",
    "X_test.reset_index(inplace=True)"
   ]
  },
  {
   "cell_type": "code",
   "execution_count": 13,
   "metadata": {},
   "outputs": [],
   "source": [
    "# Selecting the best data for each weather feature\n",
    "X_train[\"U\"] = X_train.NWP2_U\n",
    "X_train[\"V\"] = X_train.NWP1_V\n",
    "X_train[\"T\"] = X_train.NWP3_T \n",
    "X_train[\"CLCT\"] = X_train.NWP4_CLCT\n",
    "\n",
    "X_train = X_train[['ID','Time','U','V','T','CLCT']]\n",
    "\n",
    "####\n",
    "X_test[\"U\"] = X_test.NWP2_U\n",
    "X_test[\"V\"] = X_test.NWP1_V\n",
    "X_test[\"T\"] = X_test.NWP3_T \n",
    "X_test[\"CLCT\"] = X_test.NWP4_CLCT\n",
    "\n",
    "X_test = X_test[['ID','Time','U','V','T','CLCT']]\n"
   ]
  },
  {
   "cell_type": "code",
   "execution_count": 14,
   "metadata": {},
   "outputs": [],
   "source": [
    "def plot_flagged_pc(ws, p, flag_bool, alpha):\n",
    "    plt.scatter(ws, p, s = 3, alpha = alpha)\n",
    "    plt.scatter(ws[flag_bool], p[flag_bool], s = 3, c = 'red')\n",
    "    plt.xlabel('Wind speed (m/s)')\n",
    "    plt.ylabel('Power (MWh)')\n",
    "    plt.show()"
   ]
  },
  {
   "cell_type": "code",
   "execution_count": 15,
   "metadata": {
    "scrolled": false
   },
   "outputs": [
    {
     "data": {
      "image/png": "[encoded data removed]",
      "text/plain": [
       "<Figure size 432x288 with 1 Axes>"
      ]
     },
     "metadata": {
      "needs_background": "light"
     },
     "output_type": "display_data"
    }
   ],
   "source": [
    "####### Cleaning outliers in X_train ########\n",
    "clean_outliers = True\n",
    "\n",
    "if clean_outliers:\n",
    "    # Power curve data\n",
    "    X_train['Production'] = y_train.to_list()\n",
    "    X_train['vel'] = X_train.apply(dtr._get_wind_speed, axis=1)\n",
    "    X_train_ = X_train[['vel','Production']]\n",
    "    \n",
    "    # top-curve stacked outliers\n",
    "    top_stacked = filters.window_range_flag(\n",
    "        X_train_.Production, 0.95*X_train_.Production.max(), X_train_.Production.max(), X_train_.vel, 12.5, 2000.)\n",
    "\n",
    "    # sparse outliers\n",
    "    max_bin = 0.99*X_train_.Production.max()\n",
    "    sparse_outliers = filters.bin_filter(\n",
    "        X_train_.Production, X_train_.vel, 0.05, 0.8*X_train_.vel.std(), 'median', 0.025, max_bin, 'scalar', 'all')\n",
    "\n",
    "    # bottom-curve stacked outliers\n",
    "    bottom_stacked = filters.window_range_flag(X_train_.vel, 7.5, 40, X_train_.Production, 0.03, 2000.)\n",
    "    \n",
    "    outliers = {}\n",
    "    outliers['bottom'] = bottom_stacked\n",
    "    outliers['sparse'] = sparse_outliers\n",
    "    outliers['top'] = top_stacked\n",
    "    \n",
    "    plot_flagged_pc(X_train_.vel, X_train_.Production,(top_stacked) | (sparse_outliers) | (bottom_stacked), 0.3)\n",
    "       \n",
    "    # Remove outliers\n",
    "    for value in outliers.values():\n",
    "        X_train_.vel = X_train_.vel[(~value)]\n",
    "        X_train_.Production = X_train.Production[(~value)]\n",
    "\n",
    "    # select no-outliers observations\n",
    "    X_train = X_train.loc[X_train[\"vel\"].isin(X_train_.vel)]\n",
    "    y_train = X_train[\"Production\"]\n",
    "\n",
    "    del X_train[\"Production\"], X_train[\"vel\"], X_train_"
   ]
  },
  {
   "cell_type": "code",
   "execution_count": 692,
   "metadata": {},
   "outputs": [],
   "source": [
    "# FiX_train abnormal values in CLCT\n",
    "X_train.loc[X_train['CLCT'] < 0, 'CLCT'] = 0.\n",
    "X_test.loc[X_test['CLCT'] < 0, 'CLCT'] = 0."
   ]
  },
  {
   "cell_type": "code",
   "execution_count": 16,
   "metadata": {},
   "outputs": [],
   "source": [
    "def eval_metrics(actual, pred):\n",
    "    rmse = np.sqrt(mean_squared_error(actual, pred))\n",
    "    mae = mean_absolute_error(actual, pred)\n",
    "    r2 = r2_score(actual, pred)\n",
    "    cape = metric.get_cape(actual, pred)\n",
    "    return rmse, mae, r2, cape"
   ]
  },
  {
   "cell_type": "code",
   "execution_count": 17,
   "metadata": {},
   "outputs": [],
   "source": [
    "X_train_2 = X_train.copy()\n",
    "X_test_2 = X_test.copy()\n",
    "y_train_2 = y_train.copy()\n",
    "y_test_2 = y_test.copy()"
   ]
  },
  {
   "cell_type": "code",
   "execution_count": 18,
   "metadata": {},
   "outputs": [
    {
     "data": {
      "text/plain": [
       "Index(['ID', 'Time', 'U', 'V', 'T', 'CLCT'], dtype='object')"
      ]
     },
     "execution_count": 18,
     "metadata": {},
     "output_type": "execute_result"
    }
   ],
   "source": [
    "X_test_2.columns"
   ]
  },
  {
   "cell_type": "code",
   "execution_count": 19,
   "metadata": {},
   "outputs": [
    {
     "data": {
      "text/plain": [
       "Index(['ID', 'Time', 'U', 'V', 'T', 'CLCT'], dtype='object')"
      ]
     },
     "execution_count": 19,
     "metadata": {},
     "output_type": "execute_result"
    }
   ],
   "source": [
    "X_train_2.columns"
   ]
  },
  {
   "cell_type": "code",
   "execution_count": null,
   "metadata": {},
   "outputs": [],
   "source": []
  },
  {
   "cell_type": "markdown",
   "metadata": {},
   "source": [
    "### Multiple Adaptative Regression Splines (MARS)\n",
    "<a id=\"mars\"></a>"
   ]
  },
  {
   "cell_type": "code",
   "execution_count": null,
   "metadata": {
    "scrolled": false
   },
   "outputs": [],
   "source": [
    "# for k_best in range(1,4):\n",
    "    # print('------- k_best_features = {} ----------'.format(k_best))\n",
    "    \n",
    "## Feature engineering pipeline #####\n",
    "feat_adder = dtr.NewFeaturesAdder(add_time_feat=True, add_cycl_feat=True, add_inv_T=False, add_interactions=True)\n",
    "\n",
    "drop_lst = []\n",
    "if feat_adder.get_params().get('add_cycl_feat'):\n",
    "    if feat_adder.get_params().get('add_inv_T'):\n",
    "        drop_lst = [\"ID\", \"Time\", \"U\", \"V\", \"wdir\", \"hour\", \"month\", \"T\"]\n",
    "    else:\n",
    "        drop_lst = [\"ID\", \"Time\", \"U\", \"V\", \"wdir\", \"hour\", \"month\"]\n",
    "else:\n",
    "    if feat_adder.get_params().get('add_inv_T'):\n",
    "        drop_lst = [\"ID\", \"Time\", \"U\", \"V\", \"T\"]\n",
    "    else:\n",
    "        drop_lst = [\"ID\", \"Time\", \"U\", \"V\"]\n",
    "\n",
    "pre_process = ColumnTransformer(remainder = 'passthrough',\n",
    "                                transformers = [(\n",
    "                                    'drop_columns', 'drop', drop_lst)\n",
    "                                ])\n",
    "\n",
    "# transforming target because of its skweed distribution.\n",
    "# tt = Pipeline(steps=[\n",
    "#    ('powertransformer', PowerTransformer(method='yeo-johnson', standardize=True)), \n",
    "# ])\n",
    "\n",
    "feat_eng_pipeline = Pipeline(steps=[\n",
    "    ('attr_adder', feat_adder), \n",
    "    ('pre_processing', pre_process),  \n",
    "])\n",
    "\n",
    "\n",
    "X_train_pped = feat_eng_pipeline.fit_transform(X_train_2)\n",
    "X_test_pped = feat_eng_pipeline.transform(X_test_2)\n",
    "\n",
    "\n",
    "#### \n",
    "# Feature selection\n",
    "feature_names = X_train_2.drop(drop_lst, axis=1).columns\n",
    "selec_k_best = SelectKBest(mutual_info_regression, k=1)        \n",
    "\n",
    "# make scorers\n",
    "cape_scorer = make_scorer(metric.get_cape, greater_is_better=False)\n",
    "\n",
    "## Modeling: MARS using py-earth ######\n",
    "# mars = TransformedTargetRegressor(\n",
    "#     Earth(feature_importance_type='gcv'),\n",
    "#     transformer=PowerTransformer(method=\"yeo-johnson\"),\n",
    "#     check_inverse=True\n",
    "# )\n",
    "mars = Earth(feature_importance_type='gcv')\n",
    "\n",
    "pipeline = Pipeline([('powertransformer', PowerTransformer(method='yeo-johnson', standardize=True)),\n",
    "                      (\"univariate_sel\", selec_k_best), \n",
    "                      (\"mars\", mars)])\n",
    "\n",
    "\n",
    "#param_grid = {'mars__regressor__max_degree': [3,4,5], \n",
    "#              'mars__regressor__allow_linear': [False, True], \n",
    "#              'mars__regressor__penalty': [0.,1.,2.,3.,4.,5.,6.],\n",
    "#              'univariate_sel__k': list(range(1,3)),\n",
    "#              }\n",
    "\n",
    "param_grid = {'mars__max_degree': [3,4,5], \n",
    "              'mars__allow_linear': [False, True], \n",
    "              'mars__penalty': [0.,1.,2.,3.,4.,5.,6.],# \n",
    "              'univariate_sel__k': list(range(1,6)),\n",
    "              }\n",
    "\n",
    "# Cross validation and hyper-parameter tunning with grid seach\n",
    "scoring = {'RMSE': 'neg_root_mean_squared_error', 'MAE': 'neg_mean_absolute_error', 'R2':'r2' , 'CAPE': cape_scorer}\n",
    "n_splits = 7\n",
    "tscv = TimeSeriesSplit(n_splits)\n",
    "grid_search = GridSearchCV(\n",
    "    pipeline, \n",
    "    param_grid, \n",
    "    cv=tscv,\n",
    "    scoring=scoring, \n",
    "    refit='CAPE',\n",
    "    n_jobs=-1\n",
    ")\n",
    "\n",
    "grid_search.fit(X_train_pped, y_train_2)\n",
    "\n",
    "best_mars = grid_search.best_estimator_\n",
    "\n",
    "experiment_name = 'WF1: MARS'\n",
    "mlflow.set_experiment(experiment_name)\n",
    "\n",
    "with mlflow.start_run():\n",
    "    \n",
    "    # Feature selection with the best k value obtanined in Grid Search\n",
    "    selec_k_best = SelectKBest(mutual_info_regression, k=grid_search.best_params_['univariate_sel__k'])\n",
    "    selec_k_best.fit(X_train_pped, y_train_2)\n",
    "    \n",
    "    mask =selec_k_best.get_support() #list of booleans\n",
    "    selected_feat = [] \n",
    "\n",
    "    for bool, feature in zip(mask, feature_names):\n",
    "        if bool:\n",
    "            selected_feat.append(feature)  \n",
    "\n",
    "\n",
    "    # predicting on test data\n",
    "    predictions = best_mars.predict(X_test_pped)\n",
    "\n",
    "    # build prediction matrix (ID,Production)\n",
    "    pred_matrix = np.stack((np.array(y_test_2.index.to_series()).astype(int), predictions), axis=-1)\n",
    "    df_pred = pd.DataFrame(data=pred_matrix.reshape(-1,2), columns=['ID','Production'])\n",
    "    \n",
    "    # fix negative values in target predictions\n",
    "    df_pred.loc[df_pred['Production'] < 0, 'Production'] = 0.0\n",
    "\n",
    "    # print score\n",
    "    results = grid_search.cv_results_\n",
    "    for scorer in sorted(scoring):\n",
    "        best_index = np.nonzero(results['rank_test_%s' % scorer] == 1)[0][0]\n",
    "        best_CV = results['mean_test_%s' % scorer][best_index]\n",
    "        best_CV_std = results['std_test_%s' % scorer][best_index]\n",
    "        \n",
    "        if (scorer=='RMSE') or (scorer=='MAE') or (scorer=='CAPE'):\n",
    "            print('Best CV {0}:{1:.2f}, std:{2:.2f}'.format(scorer,-best_CV,best_CV_std))\n",
    "        else:\n",
    "            print('Best CV {0}:{1:.2f}, std:{2:.2f}'.format(scorer,best_CV,best_CV_std))           \n",
    "     \n",
    "    print('Test CAPE: ', metric.get_cape(y_test_2, predictions))\n",
    "    print('Test R2: ', r2_score(y_test_2, predictions))\n",
    "    print('Test rmse: ', np.sqrt(mean_squared_error(y_test_2, predictions)))\n",
    "\n",
    "    ### MLFlow logging ####\n",
    "    (rmse, mae, r2, cape) = eval_metrics(y_test_2, predictions)\n",
    "    mlflow.set_tag(\"grid_searh_best_params\", grid_search.best_params_)\n",
    "\n",
    "    # pre-processing\n",
    "    mlflow.log_param(\"clean_outliers\", clean_outliers)\n",
    "    mlflow.log_param(\"selected_features\", selected_feat)\n",
    "    mlflow.log_param(\"k_best_features\", best_mars.get_params().get(\"univariate_sel__k\"))\n",
    "\n",
    "    # grid search parameters\n",
    "    mlflow.log_param(\"max_degree\", best_mars.get_params().get(\"mars__max_degree\"))\n",
    "    mlflow.log_param(\"penalty\", best_mars.get_params().get(\"mars__penalty\"))\n",
    "    mlflow.log_param(\"allow_linear\", best_mars.get_params().get(\"mars__allow_linear\"))\n",
    "    mlflow.log_param(\"CV_splits\", n_splits)\n",
    "\n",
    "    # metrics\n",
    "    mlflow.log_metric(\"rmse\", rmse)\n",
    "    mlflow.log_metric(\"r2\", r2)\n",
    "    mlflow.log_metric(\"mae\", mae)\n",
    "    mlflow.log_metric(\"cape\", cape)\n",
    "\n",
    "    # artifacts\n",
    "    mlflow.sklearn.log_model(mars, \"mars\")\n",
    "    # mlflow.log_artifact()"
   ]
  },
  {
   "cell_type": "code",
   "execution_count": null,
   "metadata": {},
   "outputs": [],
   "source": [
    "model = best_mars"
   ]
  },
  {
   "cell_type": "code",
   "execution_count": null,
   "metadata": {
    "scrolled": true
   },
   "outputs": [],
   "source": [
    "model = model.get_params().get(\"mars\")\n",
    "cv = TimeSeriesSplit(6)"
   ]
  },
  {
   "cell_type": "code",
   "execution_count": null,
   "metadata": {
    "scrolled": false
   },
   "outputs": [],
   "source": [
    "viz = ValidationCurve(\n",
    "    model,\n",
    "    param_name=\"max_terms\",\n",
    "    param_range=np.arange(1, 500, 10),\n",
    "    cv=cv,\n",
    "    scoring=\"r2\",\n",
    ")\n",
    "\n",
    "viz.fit(X_train_pped, y_train_2)\n",
    "viz.show()"
   ]
  },
  {
   "cell_type": "code",
   "execution_count": 674,
   "metadata": {},
   "outputs": [
    {
     "data": {
      "image/png": "[encoded data removed]",
      "text/plain": [
       "<Figure size 432x288 with 1 Axes>"
      ]
     },
     "metadata": {
      "needs_background": "light"
     },
     "output_type": "display_data"
    },
    {
     "data": {
      "text/plain": [
       "<AxesSubplot:title={'center':'Learning Curve for Earth'}, xlabel='Training Instances', ylabel='Score'>"
      ]
     },
     "execution_count": 674,
     "metadata": {},
     "output_type": "execute_result"
    }
   ],
   "source": [
    "# Learning curves\n",
    "visualizer = LearningCurve(\n",
    "    model, cv=cv, scoring=\"r2\", train_sizes=np.linspace(0.1, 1.0, 10)\n",
    ")\n",
    "visualizer.fit(X_train_pped, y_train_2)\n",
    "visualizer.show()"
   ]
  },
  {
   "cell_type": "code",
   "execution_count": 676,
   "metadata": {},
   "outputs": [
    {
     "data": {
      "text/plain": [
       "(4342, 14)"
      ]
     },
     "execution_count": 676,
     "metadata": {},
     "output_type": "execute_result"
    }
   ],
   "source": [
    "X_train_pped.shape"
   ]
  },
  {
   "cell_type": "code",
   "execution_count": null,
   "metadata": {},
   "outputs": [],
   "source": [
    "\n",
    "# Cross validation scores.\n",
    "vi = CVScores(\n",
    "    model,\n",
    "    cv=cv,\n",
    "    scoring=scorer,\n",
    ")\n",
    "vis.fit(X_train_pped, y_train_2)\n",
    "vis.show()"
   ]
  },
  {
   "cell_type": "markdown",
   "metadata": {},
   "source": [
    "### K - Nearest Neighbohrs (KNN)\n",
    "<a id=\"knn\"></a>"
   ]
  },
  {
   "cell_type": "code",
   "execution_count": null,
   "metadata": {},
   "outputs": [],
   "source": [
    "X_train_2 = X_train.copy()\n",
    "X_test_2 = X_test.copy()\n",
    "y_train_2 = y_train.copy()\n",
    "y_test_2 = y_test.copy()"
   ]
  },
  {
   "cell_type": "code",
   "execution_count": 699,
   "metadata": {
    "scrolled": false
   },
   "outputs": [
    {
     "name": "stdout",
     "output_type": "stream",
     "text": [
      "INFO: 'WF1: KNN' does not exist. Creating a new experiment\n",
      "Best CV CAPE:30.08, std:5.54\n",
      "Best CV MAE:0.33, std:0.03\n",
      "Best CV R2:0.81, std:0.07\n",
      "Best CV RMSE:0.47, std:0.04\n",
      "Test CAPE:  28.045178026216107\n",
      "Test R2:  0.8210758545033068\n",
      "Test rmse:  0.6144435870919641\n"
     ]
    },
    {
     "ename": "NameError",
     "evalue": "name 'grid_search_knn' is not defined",
     "output_type": "error",
     "traceback": [
      "\u001b[1;31m---------------------------------------------------------------------------\u001b[0m",
      "\u001b[1;31mNameError\u001b[0m                                 Traceback (most recent call last)",
      "\u001b[1;32m<ipython-input-699-40bfae657d54>\u001b[0m in \u001b[0;36m<module>\u001b[1;34m\u001b[0m\n\u001b[0;32m    133\u001b[0m     \u001b[1;33m(\u001b[0m\u001b[0mrmse\u001b[0m\u001b[1;33m,\u001b[0m \u001b[0mmae\u001b[0m\u001b[1;33m,\u001b[0m \u001b[0mr2\u001b[0m\u001b[1;33m,\u001b[0m \u001b[0mcape\u001b[0m\u001b[1;33m)\u001b[0m \u001b[1;33m=\u001b[0m \u001b[0meval_metrics\u001b[0m\u001b[1;33m(\u001b[0m\u001b[0my_test_2\u001b[0m\u001b[1;33m,\u001b[0m \u001b[0mpredictions\u001b[0m\u001b[1;33m)\u001b[0m\u001b[1;33m\u001b[0m\u001b[1;33m\u001b[0m\u001b[0m\n\u001b[0;32m    134\u001b[0m \u001b[1;33m\u001b[0m\u001b[0m\n\u001b[1;32m--> 135\u001b[1;33m     \u001b[0mmlflow\u001b[0m\u001b[1;33m.\u001b[0m\u001b[0mset_tag\u001b[0m\u001b[1;33m(\u001b[0m\u001b[1;34m\"grid_searh_best_params\"\u001b[0m\u001b[1;33m,\u001b[0m \u001b[0mgrid_search_knn\u001b[0m\u001b[1;33m.\u001b[0m\u001b[0mbest_params_\u001b[0m\u001b[1;33m)\u001b[0m\u001b[1;33m\u001b[0m\u001b[1;33m\u001b[0m\u001b[0m\n\u001b[0m\u001b[0;32m    136\u001b[0m \u001b[1;33m\u001b[0m\u001b[0m\n\u001b[0;32m    137\u001b[0m     \u001b[1;31m# pre-processing\u001b[0m\u001b[1;33m\u001b[0m\u001b[1;33m\u001b[0m\u001b[1;33m\u001b[0m\u001b[0m\n",
      "\u001b[1;31mNameError\u001b[0m: name 'grid_search_knn' is not defined"
     ]
    }
   ],
   "source": [
    "from sklearn.neighbors import KNeighborsRegressor\n",
    "\n",
    "## Feature engineering pipeline #####\n",
    "feat_adder = dtr.NewFeaturesAdder(add_time_feat=False, add_cycl_feat=False, add_inv_T=False, add_interactions=True)\n",
    "\n",
    "drop_lst = []\n",
    "if feat_adder.get_params().get('add_cycl_feat'):\n",
    "    if feat_adder.get_params().get('add_inv_T'):\n",
    "        drop_lst = [\"ID\", \"Time\", \"U\", \"V\", \"wdir\", \"hour\", \"month\", \"T\"]\n",
    "    else:\n",
    "        drop_lst = [\"ID\", \"Time\", \"U\", \"V\", \"wdir\", \"hour\", \"month\"]\n",
    "else:\n",
    "    if feat_adder.get_params().get('add_inv_T'):\n",
    "        drop_lst = [\"ID\", \"Time\", \"U\", \"V\", \"T\"]\n",
    "    else:\n",
    "        drop_lst = [\"ID\", \"Time\", \"U\", \"V\"]\n",
    "\n",
    "pre_process = ColumnTransformer(remainder = 'passthrough',\n",
    "                                transformers = [(\n",
    "                                    'drop_columns', 'drop', drop_lst)\n",
    "                                ])\n",
    "\n",
    "# transforming target because of its skweed distribution.\n",
    "tt = Pipeline(steps=[\n",
    "    ('powertransformer', PowerTransformer(method='yeo-johnson', standardize=True)), \n",
    "])\n",
    "\n",
    "feat_eng_pipeline = Pipeline(steps=[\n",
    "    ('attr_adder', feat_adder), \n",
    "    ('pre_processing', pre_process), \n",
    "])\n",
    "\n",
    "\n",
    "X_train_pped = feat_eng_pipeline.fit_transform(X_train_2)\n",
    "X_test_pped = feat_eng_pipeline.transform(X_test_2)\n",
    "\n",
    "#### \n",
    "# Feature selection\n",
    "feature_names = X_train_2.drop(drop_lst, axis=1).columns\n",
    "selec_k_best = SelectKBest(mutual_info_regression, k=1)        \n",
    "\n",
    "# make scorers\n",
    "cape_scorer = make_scorer(metric.get_cape, greater_is_better=False)\n",
    "\n",
    "knn_reg = KNeighborsRegressor()\n",
    "\n",
    "pipeline = Pipeline([('powertransformer', PowerTransformer(method='yeo-johnson', standardize=True)),\n",
    "                     (\"univariate_sel\", selec_k_best), (\"knn\", knn_reg)])\n",
    "\n",
    "# KNN model\n",
    "#param_grid = {\n",
    "#    'knn__regressor__n_neighbors': list(range(1,50,2)),\n",
    "#    'knn__regressor__algorithm':['auto', 'kd_tree'],\n",
    "#    'knn__regressor__weights': ['uniform','distance'],\n",
    "#    'knn__regressor__metric': ['cityblock','mahalanobis','euclidean'],\n",
    "#    'knn__regressor__p': [1,2],\n",
    "#    'univariate_sel__k': list(range(1,4))\n",
    "#}\n",
    "#\n",
    "param_grid = {\n",
    "    'knn__n_neighbors': list(range(1,50,2)),\n",
    "    'knn__algorithm':['ball_tree', 'kd_tree'],\n",
    "    'knn__weights': ['uniform','distance'],\n",
    "    'knn__metric': [\"cityblock\", \"euclidean\", \"manhattan\"],\n",
    "    'univariate_sel__k': [3],\n",
    "}\n",
    "\n",
    "n_splits=6\n",
    "tscv = TimeSeriesSplit(n_splits)\n",
    "scoring = {'RMSE': 'neg_root_mean_squared_error', 'MAE': 'neg_mean_absolute_error', 'R2':'r2' , 'CAPE': cape_scorer}\n",
    "grid_search = GridSearchCV(\n",
    "    pipeline, \n",
    "    param_grid, \n",
    "    cv= tscv,\n",
    "    n_jobs=-1,\n",
    "    scoring=scoring,\n",
    "    refit='CAPE'\n",
    ")\n",
    "\n",
    "grid_search.fit(X_train_pped, y_train_2)\n",
    "\n",
    "experiment_name = 'WF1: KNN'\n",
    "mlflow.set_experiment(experiment_name)\n",
    "\n",
    "with mlflow.start_run():\n",
    "    # Feature selection with the best k value obtanined in Grid Search\n",
    "    selec_k_best = SelectKBest(mutual_info_regression, k=grid_search.best_params_['univariate_sel__k'])\n",
    "    selec_k_best.fit(X_train_pped, y_train_2)\n",
    "    \n",
    "    mask =selec_k_best.get_support() #list of booleans\n",
    "    selected_feat = [] \n",
    "\n",
    "    for bool, feature in zip(mask, feature_names):\n",
    "        if bool:\n",
    "            selected_feat.append(feature)  \n",
    "    # Re-train the model with the best parameters found in CV \n",
    "    # knn_reg2 = TransformedTargetRegressor(\n",
    "    #    KNeighborsRegressor(algorithm=grid_search_knn.best_params_['knn__regressor__algorithm'],\n",
    "    #                         n_neighbors=grid_search_knn.best_params_['knn__regressor__n_neighbors'],\n",
    "    #                         p=grid_search_knn.best_params_['knn__regressor__p'], \n",
    "    #                         weights=grid_search_knn.best_params_['knn__regressor__weights'],\n",
    "    #                         metric=grid_search_knn.best_params_['knn__regressor__metric']),\n",
    "    #     transformer=PowerTransformer(method=\"yeo-johnson\", standardize=True), check_inverse=False) \n",
    "        \n",
    "    best_model = grid_search.best_estimator_\n",
    "    best_model.fit(X_train_pped, y_train_2)\n",
    "    #knn_reg2.fit(X_train_pped, y_train)\n",
    "\n",
    "    # Testing\n",
    "    predictions = best_model.predict(X_test_pped)\n",
    "\n",
    "    # Building prediction matrix (ID,Production)\n",
    "    pred_matrix = np.stack((np.array(y_test.index.to_series()).astype(int), predictions), axis=-1)\n",
    "    df_pred = pd.DataFrame(data=pred_matrix.reshape(-1,2), columns=['ID','Production'])\n",
    "\n",
    "    # print score\n",
    "    results = grid_search.cv_results_\n",
    "    for scorer in sorted(scoring):\n",
    "        best_index = np.nonzero(results['rank_test_%s' % scorer] == 1)[0][0]\n",
    "        best_CV = results['mean_test_%s' % scorer][best_index]\n",
    "        best_CV_std = results['std_test_%s' % scorer][best_index]\n",
    "        \n",
    "        if (scorer=='RMSE') or (scorer=='MAE') or (scorer=='CAPE'):\n",
    "            print('Best CV {0}:{1:.2f}, std:{2:.2f}'.format(scorer,-best_CV,best_CV_std))\n",
    "        else:\n",
    "            print('Best CV {0}:{1:.2f}, std:{2:.2f}'.format(scorer,best_CV,best_CV_std))           \n",
    "     \n",
    "    print('Test CAPE: ', metric.get_cape(y_test_2, predictions))\n",
    "    print('Test R2: ', r2_score(y_test_2, predictions))\n",
    "    print('Test rmse: ', np.sqrt(mean_squared_error(y_test_2, predictions)))\n",
    "\n",
    "    ### MLFlow logging ####\n",
    "    (rmse, mae, r2, cape) = eval_metrics(y_test_2, predictions)\n",
    "\n",
    "    mlflow.set_tag(\"grid_searh_best_params\", grid_search.best_params_)\n",
    "\n",
    "    # pre-processing\n",
    "    mlflow.log_param(\"clean_outliers\", clean_outliers)\n",
    "    mlflow.log_param(\"selected_features\", selected_feat)\n",
    "    mlflow.log_param(\"k_best_features\", param_grid.get(\"knn__univariate_sel__k\"))\n",
    "\n",
    "    # grid search parameters\n",
    "    mlflow.log_param(\"n_neighbors\", param_grid.get(\"knn__regressor__n_neighbors\"))\n",
    "    mlflow.log_param(\"algorithm\", param_grid.get(\"knn__regressor__algorithm\"))\n",
    "    mlflow.log_param(\"weights\", param_grid.get(\"knn__regressor__weights\"))\n",
    "    mlflow.log_param(\"metric\", param_grid.get(\"knn__regressor__metric\"))\n",
    "    mlflow.log_param(\"CV_splits\", n_splits)\n",
    "\n",
    "    # metrics\n",
    "    mlflow.log_metric(\"rmse\", rmse)\n",
    "    mlflow.log_metric(\"r2\", r2)\n",
    "    mlflow.log_metric(\"mae\", mae)\n",
    "    mlflow.log_metric(\"cape\", cape)\n",
    "\n",
    "    # artifacts\n",
    "    mlflow.sklearn.log_model(knn_reg2, \"knn\")\n",
    "    # mlflow.log_artifact()"
   ]
  },
  {
   "cell_type": "code",
   "execution_count": null,
   "metadata": {},
   "outputs": [],
   "source": [
    "real_pred = np.concatenate((predictions, np.array(y_test))).reshape(len(y_test),2)\n",
    "df_real_pred =  pd.DataFrame(data=real_pred,\n",
    "                             index=X_test.Time,\n",
    "                             columns=['pred-production','real-production'])\n",
    "df_real_pred.iplot(kind='scatter', filename='cufflinks/cf-simple-line')"
   ]
  },
  {
   "cell_type": "code",
   "execution_count": null,
   "metadata": {},
   "outputs": [],
   "source": [
    "max_n_neighbors = 50\n",
    "list(range(1, max_n_neighbors, 2))"
   ]
  },
  {
   "cell_type": "markdown",
   "metadata": {},
   "source": [
    "### Support Vector Machine (SVM)\n",
    "<a id=\"svm\"></a>"
   ]
  },
  {
   "cell_type": "code",
   "execution_count": null,
   "metadata": {},
   "outputs": [],
   "source": [
    "from sklearn.svm import SVR"
   ]
  },
  {
   "cell_type": "code",
   "execution_count": null,
   "metadata": {},
   "outputs": [],
   "source": [
    "X_train_2 = X_train.copy()\n",
    "X_test_2 = X_test.copy()\n",
    "y_train_2 = y_train.copy()\n",
    "y_test_2 = y_test.copy()"
   ]
  },
  {
   "cell_type": "code",
   "execution_count": null,
   "metadata": {
    "scrolled": false
   },
   "outputs": [],
   "source": [
    "## Pre-process pipeline #####\n",
    "for k_best_features in range(1,10):\n",
    "    print('------- k_best_features = {} ------'.format(k_best_features))\n",
    "    drop_lst = ['ID','Time','U','V']\n",
    "    pre_process = ColumnTransformer(remainder = 'passthrough',\n",
    "                                    transformers = [(\n",
    "                                        'drop_columns', 'drop', drop_lst)\n",
    "                                    ])\n",
    "\n",
    "    tt = Pipeline(steps=[\n",
    "        ('powertransformer', PowerTransformer(method='yeo-johnson', standardize=True)),\n",
    "        # ('normalization', MinMaxScaler(feature_range=(0, 1))) \n",
    "        # ('standard_scaler', StandardScaler())\n",
    "    ])\n",
    "\n",
    "    prepare_data_pipeline = Pipeline(steps=[\n",
    "        ('attr_adder', dtr.NewFeaturesAdder(add_time_feat=True, add_cycl_feat=False, add_inv_T=False)), \n",
    "        ('pre_processing', pre_process),\n",
    "        ('powertransformer', PowerTransformer(method='yeo-johnson', standardize=True)),\n",
    "        # ('normalization', MinMaxScaler(feature_range=(0, 1)),\n",
    "        # ('standard_scaler', StandardScaler())    \n",
    "    ])\n",
    "\n",
    "    X_train_pped = prepare_data_pipeline.fit_transform(X_train_2)\n",
    "    X_test_pped = prepare_data_pipeline.transform(X_test_2)\n",
    "\n",
    "    feature_sel = True\n",
    "    feature_names = X_train_2.drop(drop_lst, axis=1).columns\n",
    "\n",
    "    # Feature selection \n",
    "    if feature_sel: \n",
    "        ## using Mutual Information\n",
    "        selec_k_best = SelectKBest(mutual_info_regression, k=k_best_features)\n",
    "        selec_k_best.fit(X_train_pped, y_train_2)\n",
    "        X_train_pped = selec_k_best.transform(X_train_pped)\n",
    "        X_test_pped = selec_k_best.transform(X_test_pped)\n",
    "\n",
    "        mask =selec_k_best.get_support() #list of booleans\n",
    "        selected_feat = [] \n",
    "\n",
    "        for bool, feature in zip(mask, feature_names):\n",
    "            if bool:\n",
    "                selected_feat.append(feature)  \n",
    "\n",
    "    # make scorers\n",
    "    cape_scorer = make_scorer(metric.get_cape, greater_is_better=False)\n",
    "\n",
    "    param_grid = {\n",
    "        'kernel': ('linear', 'rbf','poly'), \n",
    "        'C':[0.01, 1, 0.1, 10, 100],\n",
    "        'gamma': [0.00001, 0.001, 1],\n",
    "        'epsilon':[0.1,0.3,0.5]\n",
    "    }\n",
    "\n",
    "    svm_reg = SVR()\n",
    "    n_splits=9\n",
    "    grid_search_svm = GridSearchCV(\n",
    "        svm_reg, \n",
    "        param_grid, \n",
    "        cv= TimeSeriesSplit(n_splits),\n",
    "        scoring=cape_scorer,\n",
    "        n_jobs=-1\n",
    "    )\n",
    "\n",
    "    grid_search_svm.fit(X_train_pped, y_train_2)\n",
    "\n",
    "    experiment_name = 'WF1: SVM'\n",
    "    mlflow.set_experiment(experiment_name)\n",
    "\n",
    "    with mlflow.start_run():\n",
    "        svm_reg2 = SVR(kernel = grid_search_svm.best_params_['kernel'],\n",
    "                       C = grid_search_svm.best_params_['C'],\n",
    "                       gamma = grid_search_svm.best_params_['gamma'],\n",
    "                       epsilon = 0.1)\n",
    "\n",
    "        ttreg = TransformedTargetRegressor(regressor=svm_reg2, transformer=tt, check_inverse=False)\n",
    "\n",
    "        ttreg.fit(X_train_pped, y_train_2)\n",
    "        # svm_reg2.fit(X_train_pped, y_train_2)\n",
    "\n",
    "        # learning curves\n",
    "        train_size = np.linspace(0.1, 1.0, 7)\n",
    "        train_sizes, train_scores, validation_scores = learning_curve(estimator = ttreg,\n",
    "                                                                      X = X_train_pped,\n",
    "                                                                      y = y_train_2, \n",
    "                                                                      train_sizes = train_size,\n",
    "                                                                      scoring = cape_scorer)\n",
    "\n",
    "        train_scores_mean = -train_scores.mean(axis = 1)\n",
    "        validation_scores_mean = -validation_scores.mean(axis = 1)\n",
    "\n",
    "        plt.style.use('seaborn')\n",
    "        plt.plot(train_sizes, train_scores_mean, label = 'Training error')\n",
    "        plt.plot(train_sizes, validation_scores_mean, label = 'Validation error')\n",
    "        plt.ylabel('CAPE', fontsize = 14)\n",
    "        plt.xlabel('Training set size', fontsize = 14)\n",
    "        plt.title('Learning curves for SVM', fontsize = 18, y = 1.03)\n",
    "        plt.legend()\n",
    "        plt.show()\n",
    "        plt.close()\n",
    "\n",
    "        # Validation curves\n",
    "        param_range = list(range(0,30,2))\n",
    "        train_scores, test_scores = validation_curve(SVR(kernel = grid_search_svm.best_params_['kernel'],\n",
    "                                                         gamma = grid_search_svm.best_params_['gamma'],\n",
    "                                                         epsilon = grid_search_svm.best_params_['epsilon']),\n",
    "                                                     X_train_pped, y_train_2, \"C\",param_range, cv=5)\n",
    "\n",
    "        train_mean = np.mean(train_scores, axis=1)\n",
    "        train_std = np.std(train_scores, axis=1)\n",
    "        test_mean = np.mean(test_scores, axis=1)\n",
    "        test_std = np.std(test_scores, axis=1)\n",
    "\n",
    "        plt.style.use('seaborn')\n",
    "        plt.plot(param_range, train_mean, label=\"training accuracy\")\n",
    "        plt.plot(param_range, test_mean, linestyle=\"--\", label=\"validation accuracy\")\n",
    "        plt.ylabel('Accuracy', fontsize = 14)\n",
    "        plt.xlabel('C', fontsize = 14)\n",
    "        plt.title('Validation curve for SVM', fontsize = 18, y = 1.03)\n",
    "        plt.legend()\n",
    "        plt.show()\n",
    "        plt.close()\n",
    "\n",
    "        # Testing\n",
    "        predictions = ttreg.predict(X_test_pped)\n",
    "        #predictions = svm_reg2.predict(X_test_pped)\n",
    "\n",
    "        # Building prediction matrix (ID,Production)\n",
    "        pred_matrix = np.stack((np.array(y_test_2.index.to_series()).astype(int), predictions), axis=-1)\n",
    "        df_pred = pd.DataFrame(data=pred_matrix.reshape(-1,2), columns=['ID','Production'])\n",
    "\n",
    "        print('Best CV score:', -grid_search_svm.best_score_)\n",
    "        print('Test CAPE: ', metric.get_cape(y_test_2, predictions))\n",
    "        print('Test rmse: ', np.sqrt(mean_squared_error(y_test_2, predictions)))\n",
    "        print('Test R2: ', r2_score(y_test_2, predictions))\n",
    "\n",
    "        ### MLFlow logging ####\n",
    "        (rmse, mae, r2, cape) = eval_metrics(y_test_2, predictions)\n",
    "\n",
    "        mlflow.set_tag(\"grid_searh_best_params\", grid_search_svm.best_params_)\n",
    "\n",
    "        # pre-processing\n",
    "        mlflow.log_param(\"clean_outliers\", clean_outliers)\n",
    "        mlflow.log_param(\"feature_selection\", feature_sel)\n",
    "        mlflow.log_param(\"selected_features\", selected_feat)\n",
    "        mlflow.log_param(\"k_best_features\", k_best_features)\n",
    "\n",
    "        # grid search parameters\n",
    "        mlflow.log_param(\"kernel\", param_grid.get(\"kernel\"))\n",
    "        mlflow.log_param(\"C\", param_grid.get(\"C\"))\n",
    "        mlflow.log_param(\"gamma\", param_grid.get(\"gamma\"))\n",
    "        mlflow.log_param(\"epsilon\", param_grid.get(\"epsilon\"))\n",
    "        mlflow.log_param(\"CV_splits\", n_splits)\n",
    "\n",
    "        # metrics\n",
    "        mlflow.log_metric(\"rmse\", rmse)\n",
    "        mlflow.log_metric(\"r2\", r2)\n",
    "        mlflow.log_metric(\"mae\", mae)\n",
    "        mlflow.log_metric(\"cape\", cape)\n",
    "\n",
    "        # artifacts\n",
    "        mlflow.sklearn.log_model(ttreg, \"svm\")\n",
    "        # mlflow.log_artifact()"
   ]
  },
  {
   "cell_type": "markdown",
   "metadata": {},
   "source": [
    "### Random Forests\n",
    "<a id=\"RF\"></a>"
   ]
  },
  {
   "cell_type": "code",
   "execution_count": null,
   "metadata": {},
   "outputs": [],
   "source": [
    "X_train_2 = X_train.copy()\n",
    "X_test_2 = X_test.copy()\n",
    "y_train_2 = y_train.copy()\n",
    "y_test_2 = y_test.copy()"
   ]
  },
  {
   "cell_type": "code",
   "execution_count": null,
   "metadata": {
    "scrolled": false
   },
   "outputs": [],
   "source": [
    "\n",
    "from sklearn.ensemble import RandomForestRegressor\n",
    "from sklearn.model_selection import RandomizedSearchCV\n",
    "\n",
    "for k_best_features in range(1,10):\n",
    "    print('------- k_best_features = {} ------'.format(k_best_features))\n",
    "    \n",
    "    drop_lst = ['ID','Time','U','V','month','hour','w_dir']\n",
    "    pre_process = ColumnTransformer(remainder = 'passthrough',\n",
    "                                    transformers = [(\n",
    "                                        'drop_columns', 'drop', drop_lst)\n",
    "                                    ])\n",
    "    \n",
    "    # tt = Pipeline(steps=[\n",
    "    #     ('powertransformer', PowerTransformer(method='yeo-johnson', standardize=True)),\n",
    "    #     ('normalization', MinMaxScaler(feature_range=(0, 1))),\n",
    "    #     ('standard_scaler', StandardScaler())\n",
    "    # ])\n",
    "    \n",
    "    prepare_data_pipeline = Pipeline(steps=[\n",
    "        ('attr_adder', dtr.NewFeaturesAdder(add_time_feat=True, add_cycl_feat=True, add_inv_T=False)), \n",
    "        ('pre_processing', pre_process)\n",
    "        # ('powertransformer', PowerTransformer(method='yeo-johnson', standardize=True)),\n",
    "        # ('normalization', MinMaxScaler(feature_range=(0, 1)),\n",
    "        # ('standard_scaler', StandardScaler())    \n",
    "    ])\n",
    "    \n",
    "    X_train_pped = prepare_data_pipeline.fit_transform(X_train_2)\n",
    "    X_test_pped = prepare_data_pipeline.transform(X_test_2)\n",
    "    \n",
    "    feature_sel = True\n",
    "    feature_names = X_train_2.drop(drop_lst, axis=1).columns\n",
    "    \n",
    "    # Feature selection \n",
    "    if feature_sel: \n",
    "        ## using Mutual Information\n",
    "        selec_k_best = SelectKBest(mutual_info_regression, k=k_best_features)\n",
    "        selec_k_best.fit(X_train_pped, y_train_2)\n",
    "        X_train_pped = selec_k_best.transform(X_train_pped)\n",
    "        X_test_pped = selec_k_best.transform(X_test_pped)\n",
    "    \n",
    "        mask =selec_k_best.get_support() #list of booleans\n",
    "        selected_feat = [] \n",
    "    \n",
    "        for bool, feature in zip(mask, feature_names):\n",
    "            if bool:\n",
    "                selected_feat.append(feature)  \n",
    "    \n",
    "    # make scorers\n",
    "    cape_scorer = make_scorer(metric.get_cape, greater_is_better=False)\n",
    "    \n",
    "    # hyperparameters\n",
    "    # n_estimators = [int(x) for x in np.linspace(start = 200, stop = 2000, num = 5)]\n",
    "    # max_features = ['auto', 'sqrt']\n",
    "    # m# ax_depth = [int(x) for x in np.linspace(10, 110, num = 5)]\n",
    "    # max_depth.append(None)\n",
    "    # min_samples_split = [5, 10, 15, 20]\n",
    "    # min_samples_leaf = [1, 2, 4]\n",
    "    # bootstrap = [True, False]\n",
    "    \n",
    "    # Create the random grid\n",
    "    # random_grid = {'n_estimators': n_estimators,\n",
    "    #                'max_features': max_features,\n",
    "    #                'max_depth': max_depth,\n",
    "    #                'min_samples_split': min_samples_split,\n",
    "    #                'min_samples_leaf': min_samples_leaf,\n",
    "    #                'bootstrap': bootstrap}\n",
    "    # \n",
    "    # Use the random grid to search for best hyperparameters ranges\n",
    "    # rf = RandomForestRegressor()\n",
    "    # rf_random = RandomizedSearchCV(estimator = rf, \n",
    "    #                                param_distributions = random_grid, \n",
    "    #                                n_iter = 100, cv = 3,\n",
    "    #                                random_state=42, \n",
    "    #                                n_jobs = -1)\n",
    "    # \n",
    "    # rf_random.fit(X_train_pped, y_train_2)\n",
    "    # print(rf_random.best_params_)\n",
    "    \n",
    "    param_grid = {\n",
    "        'n_estimators': [75, 150, 225],\n",
    "        'max_features': ['sqrt', 'log2', 'auto'],\n",
    "        'max_depth': [10, 50, 100],\n",
    "        'min_samples_split': [15, 30, 45],\n",
    "        'min_samples_leaf': [4, 6, 8],\n",
    "    }\n",
    "    \n",
    "    n_splits = 7 \n",
    "    forest_reg = RandomForestRegressor(bootstrap=True, random_state=42)\n",
    "    grid_search = GridSearchCV(\n",
    "        forest_reg, \n",
    "        param_grid, \n",
    "        cv=TimeSeriesSplit(n_splits),\n",
    "        scoring=cape_scorer,\n",
    "        n_jobs=-1\n",
    "    )\n",
    "    \n",
    "    grid_search.fit(X_train_pped, y_train_2)\n",
    "    \n",
    "    experiment_name = 'WF1: Ranfom Forest'\n",
    "    mlflow.set_experiment(experiment_name)\n",
    "    \n",
    "    with mlflow.start_run():\n",
    "        forest_reg2 = RandomForestRegressor(\n",
    "            n_estimators=grid_search.best_params_['n_estimators'],\n",
    "            max_features=grid_search.best_params_['max_features'],\n",
    "            max_depth=grid_search.best_params_['max_depth'],\n",
    "            min_samples_split=grid_search.best_params_['min_samples_split'],\n",
    "            min_samples_leaf=grid_search.best_params_['min_samples_leaf']\n",
    "            \n",
    "        )\n",
    "    \n",
    "        # ttreg = TransformedTargetRegressor(regressor=forest_reg2, transformer=tt, check_inverse=False)\n",
    "    \n",
    "        # ttreg.fit(X_train_pped, y_train_2)\n",
    "        forest_reg2.fit(X_train_pped, y_train_2)\n",
    "    \n",
    "        # learning curves\n",
    "        train_size = np.linspace(0.1, 1.0, 7)\n",
    "        train_sizes, train_scores, validation_scores = learning_curve(estimator = forest_reg2,\n",
    "                                                                      X = X_train_pped,\n",
    "                                                                      y = y_train_2, \n",
    "                                                                      train_sizes = train_size,\n",
    "                                                                      scoring = cape_scorer)\n",
    "    \n",
    "        train_scores_mean = -train_scores.mean(axis = 1)\n",
    "        validation_scores_mean = -validation_scores.mean(axis = 1)\n",
    "    \n",
    "        plt.style.use('seaborn')\n",
    "        plt.plot(train_sizes, train_scores_mean, label = 'Training error')\n",
    "        plt.plot(train_sizes, validation_scores_mean, label = 'Validation error')\n",
    "        plt.ylabel('CAPE', fontsize = 14)\n",
    "        plt.xlabel('Training set size', fontsize = 14)\n",
    "        plt.title('Learning curves for RF', fontsize = 18, y = 1.03)\n",
    "        plt.legend()\n",
    "        plt.show()\n",
    "        plt.close()\n",
    "    \n",
    "        # Validation curves\n",
    "        #param_range = list(range(1,400,10))\n",
    "        #train_scores, test_scores = validation_curve(RandomForestRegressor(\n",
    "        #    max_features=grid_search.best_params_['max_features'],\n",
    "        #    max_depth=grid_search.best_params_['max_depth'],\n",
    "        #    min_samples_split=grid_search.best_params_['min_samples_split'],\n",
    "        #    min_samples_leaf=grid_search.best_params_['min_samples_leaf']\n",
    "        #), X_train_pped, y_train, \"n_estimators\",param_range, cv=TimeSeriesSplit(n_splits))\n",
    "    #\n",
    "        #train_mean = np.mean(train_scores, axis=1)\n",
    "        #train_std = np.std(train_scores, axis=1)\n",
    "        #test_mean = np.mean(test_scores, axis=1)\n",
    "        #test_std = np.std(test_scores, axis=1)\n",
    "    #\n",
    "        #plt.style.use('seaborn')\n",
    "        #plt.plot(param_range, train_mean, label=\"training accuracy\")\n",
    "        #plt.plot(param_range, test_mean, linestyle=\"--\", label=\"validation accuracy\")\n",
    "        #plt.ylabel('Accuracy', fontsize = 14)\n",
    "        #plt.xlabel('# estimators', fontsize = 14)\n",
    "        #plt.title('Validation curve for RF', fontsize = 18, y = 1.03)\n",
    "        #plt.legend()\n",
    "        #plt.show()\n",
    "        #plt.close()\n",
    "    \n",
    "        # Testing\n",
    "        # predictions = ttreg.predict(X_test_pped)\n",
    "        predictions = forest_reg2.predict(X_test_pped)\n",
    "    \n",
    "        # Building prediction matrix (ID,Production)\n",
    "        pred_matrix = np.stack((np.array(y_test_2.index.to_series()).astype(int), predictions), axis=-1)\n",
    "        df_pred = pd.DataFrame(data=pred_matrix.reshape(-1,2), columns=['ID','Production'])\n",
    "    \n",
    "        print('Best CV score:', -grid_search.best_score_)\n",
    "        print('Test CAPE: ', metric.get_cape(y_test_2, predictions))\n",
    "        print('Test rmse: ', np.sqrt(mean_squared_error(y_test_2, predictions)))\n",
    "        print('Test R2: ', r2_score(y_test_2, predictions))\n",
    "    \n",
    "        ### MLFlow logging ####\n",
    "        (rmse, mae, r2, cape) = eval_metrics(y_test_2, predictions)\n",
    "    \n",
    "        mlflow.set_tag(\"grid_searh_best_params\", grid_search.best_params_)\n",
    "    \n",
    "        # pre-processing\n",
    "        mlflow.log_param(\"clean_outliers\", clean_outliers)\n",
    "        mlflow.log_param(\"feature_selection\", feature_sel)\n",
    "    \n",
    "        if feature_sel:\n",
    "            mlflow.log_param(\"k_best_features\", k_best_features)\n",
    "            mlflow.log_param(\"selected_features\", selected_feat)\n",
    "    \n",
    "        # grid search parameters\n",
    "        mlflow.log_param(\"n_estimators\", param_grid.get(\"n_estimators\"))\n",
    "        mlflow.log_param(\"max_features\", param_grid.get(\"max_features\"))\n",
    "        mlflow.log_param(\"max_depth\", param_grid.get(\"max_depth\"))\n",
    "        mlflow.log_param(\"min_samples_leaf\", param_grid.get(\"min_samples_leaf\"))\n",
    "        mlflow.log_param(\"min_samples_split\", param_grid.get(\"min_samples_split\"))\n",
    "    \n",
    "    \n",
    "        # metrics\n",
    "        mlflow.log_metric(\"rmse\", rmse)\n",
    "        mlflow.log_metric(\"r2\", r2)\n",
    "        mlflow.log_metric(\"mae\", mae)\n",
    "        mlflow.log_metric(\"cape\", cape)\n",
    "    \n",
    "        # artifacts\n",
    "        mlflow.sklearn.log_model(forest_reg2, \"RF\")\n",
    "        # mlflow.log_artifact()\n",
    "    "
   ]
  },
  {
   "cell_type": "code",
   "execution_count": null,
   "metadata": {},
   "outputs": [],
   "source": [
    "np.logspace(-6, 6, 20)"
   ]
  },
  {
   "cell_type": "markdown",
   "metadata": {},
   "source": [
    "### Artificial Neural Network (ANN)\n",
    "<a id=\"ann\"></a>"
   ]
  },
  {
   "cell_type": "code",
   "execution_count": null,
   "metadata": {},
   "outputs": [],
   "source": [
    "X_train_2 = X_train.copy()\n",
    "X_test_2 = X_test.copy()\n",
    "y_train_2 = y_train.copy()\n",
    "y_test_2 = y_test.copy()"
   ]
  },
  {
   "cell_type": "code",
   "execution_count": null,
   "metadata": {},
   "outputs": [],
   "source": [
    "def build_model(n_hidden=1, n_neurons = 10, learning_rate = 3e-3, input_shape=[5]):\n",
    "    import tensorflow as tf \n",
    "    model = tf.keras.models.Sequential()\n",
    "    model.add(tf.keras.layers.InputLayer(input_shape=input_shape))\n",
    "    \n",
    "    for layer in range(n_hidden):\n",
    "        model.add(tf.keras.layers.Dense(n_neurons, activation=\"relu\"))\n",
    "        \n",
    "    model.add(tf.keras.layers.Dense(1))\n",
    "    optimizer = tf.keras.optimizers.SGD(lr = learning_rate)\n",
    "    model.compile(loss = \"mse\", optimizer = optimizer)\n",
    "    \n",
    "    return model\n",
    "        "
   ]
  },
  {
   "cell_type": "code",
   "execution_count": null,
   "metadata": {
    "scrolled": false
   },
   "outputs": [],
   "source": [
    "\n",
    "\n",
    "## Feature engineering pipeline #####\n",
    "feat_adder = dtr.NewFeaturesAdder(add_time_feat=True, add_cycl_feat=True, add_inv_T=True, add_interactions=True)\n",
    "\n",
    "drop_lst = []\n",
    "if feat_adder.get_params().get('add_cycl_feat'):\n",
    "    if feat_adder.get_params().get('add_inv_T'):\n",
    "        drop_lst = [\"ID\", \"Time\", \"U\", \"V\", \"wdir\", \"hour\", \"month\", \"T\"]\n",
    "    else:\n",
    "        drop_lst = [\"ID\", \"Time\", \"U\", \"V\", \"wdir\", \"hour\", \"month\"]\n",
    "else:\n",
    "    if feat_adder.get_params().get('add_inv_T'):\n",
    "        drop_lst = [\"ID\", \"Time\", \"U\", \"V\", \"T\"]\n",
    "    else:\n",
    "        drop_lst = [\"ID\", \"Time\", \"U\", \"V\"]\n",
    "\n",
    "pre_process = ColumnTransformer(remainder = 'passthrough',\n",
    "                                transformers = [(\n",
    "                                    'drop_columns', 'drop', drop_lst)\n",
    "                                ])\n",
    "\n",
    "\n",
    "feat_eng_pipeline = Pipeline(steps=[\n",
    "    ('attr_adder', feat_adder), \n",
    "    ('pre_processing', pre_process),\n",
    "    ('powertransformer', PowerTransformer(method='yeo-johnson', standardize=True)),   \n",
    "])\n",
    "\n",
    "\n",
    "X_train_pped = feat_eng_pipeline.fit_transform(X_train_2)\n",
    "X_test_pped = feat_eng_pipeline.transform(X_test_2)\n",
    "\n",
    "#### \n",
    "# Feature selection\n",
    "feature_names = X_train_2.drop(drop_lst, axis=1).columns\n",
    "selec_k_best = SelectKBest(mutual_info_regression, k=1)        \n",
    "\n",
    "# make scorers\n",
    "cape_scorer = make_scorer(metric.get_cape, greater_is_better=False)\n",
    "\n",
    "keras_reg = keras.wrappers.scikit_learn.KerasRegressor(\n",
    "    build_fn=build_model, epochs=10, batch_size=3)\n",
    "\n",
    "\n",
    "#knn_reg = KNeighborsRegressor()\n",
    "pipeline = Pipeline([(\"univariate_sel\", selec_k_best), (\"ann\", keras_reg)])\n",
    "\n",
    "# KNN model\n",
    "param_grid = {\n",
    "    'ann__n_hidden': [1],\n",
    "    'ann__n_neurons':[20, 30],\n",
    "    'ann__learning_rate':[3e-3],\n",
    "    'ann__input_shape':[8],\n",
    "    'univariate_sel__k': [8] }\n",
    "\n",
    "n_splits=7\n",
    "tscv = TimeSeriesSplit(n_splits)\n",
    "scoring = {'RMSE': 'neg_root_mean_squared_error', 'MAE': 'neg_mean_absolute_error', 'R2':'r2' , 'CAPE': cape_scorer}\n",
    "\n",
    "grid_search = GridSearchCV(\n",
    "    pipeline, \n",
    "    param_grid, \n",
    "    scoring = scoring,\n",
    "    refit='CAPE',\n",
    "    cv=tscv,\n",
    "    n_jobs=-1,\n",
    ")\n",
    "\n",
    "gcv = grid_search.fit(X_train_pped, y_train_2.to_numpy())\n",
    "\n",
    "experiment_name = 'WF1: ANN'\n",
    "mlflow.set_experiment(experiment_name)\n",
    "\n",
    "with mlflow.start_run():\n",
    "    # Feature selection with the best k value obtanined in Grid Search\n",
    "    selec_k_best = SelectKBest(mutual_info_regression, k=grid_search.best_params_['univariate_sel__k'])\n",
    "    selec_k_best.fit(X_train_pped, y_train_2)\n",
    "    X_train_pped = selec_k_best.transform(X_train_pped)\n",
    "    X_test_pped = selec_k_best.transform(X_test_pped)\n",
    "    \n",
    "    mask =selec_k_best.get_support() #list of booleans\n",
    "    selected_feat = [] \n",
    "\n",
    "    for bool, feature in zip(mask, feature_names):\n",
    "        if bool:\n",
    "            selected_feat.append(feature)                                                             \n",
    "\n",
    "    # re-training with the best model parameters\n",
    "    best_model = gcv.best_estimator_.named_steps.get('ann').model\n",
    "    history = best_model.fit(X_train_pped, y_train_2.to_numpy(), epochs=100)\n",
    "    \n",
    "    # plotting learning curves\n",
    "    pd.DataFrame(history.history).plot(figsize=(8, 5))\n",
    "    plt.grid(True)\n",
    "    plt.gca().set_ylim(0.4, 0.6)\n",
    "    plt.show\n",
    "\n",
    "    # evaluate on test set\n",
    "    # mse_test = best_model.evaluate(X_test_pped, y_test_2.to_numpy().reshape(-1,1))\n",
    "\n",
    "    # predict\n",
    "    predictions = best_model.predict(X_test_pped)\n",
    "\n",
    "    # Building prediction matrix (ID,Production)\n",
    "    pred_matrix = np.stack((np.array(y_test_2.index.to_series()).reshape(-1,1), predictions), axis=-1)\n",
    "    df_pred = pd.DataFrame(data=pred_matrix.reshape(-1,2), columns=['ID','Production'])\n",
    "\n",
    "    print('Test CAPE: ', metric.get_cape(y_test_2.to_numpy().reshape(-1), predictions.reshape(-1)))\n",
    "    print('Test rmse: ', np.sqrt(mean_squared_error(y_test_2, predictions)))\n",
    "    print('Test R2: ', r2_score(y_test_2, predictions))\n",
    "\n",
    "    ### MLFlow logging ####\n",
    "    (rmse, mae, r2, cape) = eval_metrics(y_test_2.to_numpy().reshape(-1), predictions.reshape(-1))\n",
    "\n",
    "    mlflow.set_tag(\"grid_searh_best_params\", grid_search.best_params_)\n",
    "\n",
    "    # pre-processing\n",
    "    mlflow.log_param(\"clean_outliers\", clean_outliers)\n",
    "    mlflow.log_param(\"selected_features\", selected_feat)\n",
    "    # mlflow.log_param(\"k_best_features\", k_bests)\n",
    "\n",
    "    # grid search parameters\n",
    "    mlflow.log_param(\"n_hidden\", param_grid.get(\"ann_n_hidden\"))\n",
    "    mlflow.log_param(\"n_neuron\", param_grid.get(\"ann_n_neuron\"))\n",
    "    mlflow.log_param(\"learning_rate\", param_grid.get(\"ann_learning_rate\"))\n",
    "\n",
    "    # metrics\n",
    "    mlflow.log_metric(\"rmse\", rmse)\n",
    "    mlflow.log_metric(\"r2\", r2)\n",
    "    mlflow.log_metric(\"mae\", mae)\n",
    "    mlflow.log_metric(\"cape\", cape)\n",
    "\n",
    "    # artifacts\n",
    "    # mlflow.sklearn.log_model(best_model, \"ANN\")\n",
    "\n",
    "\n"
   ]
  },
  {
   "cell_type": "markdown",
   "metadata": {},
   "source": [
    "## Regression plots"
   ]
  },
  {
   "cell_type": "markdown",
   "metadata": {},
   "source": [
    "### Wind Farm 3: KNN"
   ]
  },
  {
   "cell_type": "code",
   "execution_count": 55,
   "metadata": {},
   "outputs": [
    {
     "name": "stdout",
     "output_type": "stream",
     "text": [
      "2020-10-12 23:39:19,544 - kedro.io.data_catalog - INFO - Loading data from `X_test_expanded_WF2` (PickleDataSet)...\n",
      "2020-10-12 23:39:19,650 - kedro.io.data_catalog - INFO - Loading data from `y_test_WF2` (CSVDataSet)...\n",
      "2020-10-12 23:39:19,750 - kedro.io.data_catalog - INFO - Loading data from `pred_knn_WF2` (PickleDataSet)...\n"
     ]
    }
   ],
   "source": [
    "X_test = context.catalog.load(\"X_test_expanded_WF2\")\n",
    "y_test = context.catalog.load(\"y_test_WF2\")\n",
    "predictions = context.catalog.load(\"pred_knn_WF2\")\n",
    "pred = pd.DataFrame(predictions,columns=['predicted'])"
   ]
  },
  {
   "cell_type": "code",
   "execution_count": 56,
   "metadata": {},
   "outputs": [
    {
     "data": {
      "text/plain": [
       "Index(['ID', 'Time', 'U', 'V', 'T', 'CLCT', 'wspeed', 'wdir', 'hour', 'month',\n",
       "       'wspeed_wdir', 'wspeed_T', 'wspeed_wdir_T'],\n",
       "      dtype='object')"
      ]
     },
     "execution_count": 56,
     "metadata": {},
     "output_type": "execute_result"
    }
   ],
   "source": [
    "X_test.columns"
   ]
  },
  {
   "cell_type": "code",
   "execution_count": 57,
   "metadata": {},
   "outputs": [],
   "source": [
    "import plotly.express as px\n",
    "\n",
    "df = pd.DataFrame(columns=['wspeed','real_prod','pred_prod'])\n",
    "df['wspeed'] = X_test['wspeed']\n",
    "df['real_prod'] = y_test[0]\n",
    "df['pred_prod'] = pred['predicted']"
   ]
  },
  {
   "cell_type": "code",
   "execution_count": 58,
   "metadata": {},
   "outputs": [
    {
     "data": {
      "text/html": [
       "<div>\n",
       "<style scoped>\n",
       "    .dataframe tbody tr th:only-of-type {\n",
       "        vertical-align: middle;\n",
       "    }\n",
       "\n",
       "    .dataframe tbody tr th {\n",
       "        vertical-align: top;\n",
       "    }\n",
       "\n",
       "    .dataframe thead th {\n",
       "        text-align: right;\n",
       "    }\n",
       "</style>\n",
       "<table border=\"1\" class=\"dataframe\">\n",
       "  <thead>\n",
       "    <tr style=\"text-align: right;\">\n",
       "      <th></th>\n",
       "      <th>wspeed</th>\n",
       "      <th>real_prod</th>\n",
       "      <th>pred_prod</th>\n",
       "    </tr>\n",
       "  </thead>\n",
       "  <tbody>\n",
       "    <tr>\n",
       "      <th>0</th>\n",
       "      <td>1.594520</td>\n",
       "      <td>0.0</td>\n",
       "      <td>0.010616</td>\n",
       "    </tr>\n",
       "    <tr>\n",
       "      <th>1</th>\n",
       "      <td>1.258504</td>\n",
       "      <td>0.0</td>\n",
       "      <td>0.025146</td>\n",
       "    </tr>\n",
       "    <tr>\n",
       "      <th>2</th>\n",
       "      <td>1.291313</td>\n",
       "      <td>0.0</td>\n",
       "      <td>0.004591</td>\n",
       "    </tr>\n",
       "    <tr>\n",
       "      <th>3</th>\n",
       "      <td>1.635785</td>\n",
       "      <td>0.0</td>\n",
       "      <td>0.035935</td>\n",
       "    </tr>\n",
       "    <tr>\n",
       "      <th>4</th>\n",
       "      <td>1.271470</td>\n",
       "      <td>0.0</td>\n",
       "      <td>0.010381</td>\n",
       "    </tr>\n",
       "  </tbody>\n",
       "</table>\n",
       "</div>"
      ],
      "text/plain": [
       "     wspeed  real_prod  pred_prod\n",
       "0  1.594520        0.0   0.010616\n",
       "1  1.258504        0.0   0.025146\n",
       "2  1.291313        0.0   0.004591\n",
       "3  1.635785        0.0   0.035935\n",
       "4  1.271470        0.0   0.010381"
      ]
     },
     "execution_count": 58,
     "metadata": {},
     "output_type": "execute_result"
    }
   ],
   "source": [
    "df.head()"
   ]
  },
  {
   "cell_type": "code",
   "execution_count": 59,
   "metadata": {},
   "outputs": [
    {
     "data": {
      "application/vnd.plotly.v1+json": {
       "config": {
        "plotlyServerURL": "https://plot.ly"
       },
       "data": [
        {
         "hovertemplate": "variable=real_prod<br>wspeed=%{x}<br>value=%{y}<extra></extra>",
         "legendgroup": "real_prod",
         "marker": {
          "color": "#636efa",
          "symbol": "circle"
         },
         "mode": "markers",
         "name": "real_prod",
         "orientation": "v",
         "showlegend": true,
         "type": "scatter",
         "x": [
          1.5945196298572182,
          1.2585038180315544,
          1.29131322691282,
          1.635784985870698,
          1.2714698659425632,
          1.217321206584359,
          0.8422001246734651,
          1.0041384615679254,
          1.3914944951382309,
          1.5047596917780592,
          2.0955071033045916,
          2.5167248280255037,
          2.331638737025957,
          1.7765827450473564,
          1.2818812932561268,
          0.6304919111297146,
          0.7273273884572201,
          1.5061601840441807,
          3.085527886764273,
          3.7091799430601906,
          3.37021477357156,
          3.005823045357128,
          2.494661269591525,
          2.152449590582785,
          4.376692519471753
         ],
         "xaxis": "x",
         "y": [
          0,
          0,
          0,
          0,
          0,
          0,
          0,
          0,
          0,
          0,
          0,
          0,
          0.02,
          0,
          0,
          0,
          0.05,
          0.12,
          0.27,
          0.49,
          0.65,
          1.79,
          1.25,
          1.07,
          1.01
         ],
         "yaxis": "y"
        },
        {
         "hovertemplate": "variable=pred_prod<br>wspeed=%{x}<br>value=%{y}<extra></extra>",
         "legendgroup": "pred_prod",
         "marker": {
          "color": "#EF553B",
          "symbol": "circle"
         },
         "mode": "markers",
         "name": "pred_prod",
         "orientation": "v",
         "showlegend": true,
         "type": "scatter",
         "x": [
          1.5945196298572182,
          1.2585038180315544,
          1.29131322691282,
          1.635784985870698,
          1.2714698659425632,
          1.217321206584359,
          0.8422001246734651,
          1.0041384615679254,
          1.3914944951382309,
          1.5047596917780592,
          2.0955071033045916,
          2.5167248280255037,
          2.331638737025957,
          1.7765827450473564,
          1.2818812932561268,
          0.6304919111297146,
          0.7273273884572201,
          1.5061601840441807,
          3.085527886764273,
          3.7091799430601906,
          3.37021477357156,
          3.005823045357128,
          2.494661269591525,
          2.152449590582785,
          4.376692519471753
         ],
         "xaxis": "x",
         "y": [
          0.010615773158890875,
          0.02514619161966153,
          0.004590945413248091,
          0.03593536195982706,
          0.010381256825554217,
          0.002421004630501826,
          0,
          0,
          0.013056937505664513,
          0.014604691183497654,
          0.014734225776432039,
          0.07989718402228456,
          0.04477260295680232,
          0.03031080598345666,
          0.0065204225508046255,
          0,
          0,
          0.025718888613885774,
          0.12682057162784502,
          0.15732673945815462,
          0.17058046234430885,
          0.1307445996082653,
          0.06762137846410697,
          0.012435532102617325,
          0.26704375929223845
         ],
         "yaxis": "y"
        }
       ],
       "layout": {
        "legend": {
         "title": {
          "text": "variable"
         },
         "tracegroupgap": 0
        },
        "margin": {
         "t": 60
        },
        "template": {
         "data": {
          "bar": [
           {
            "error_x": {
             "color": "#2a3f5f"
            },
            "error_y": {
             "color": "#2a3f5f"
            },
            "marker": {
             "line": {
              "color": "#E5ECF6",
              "width": 0.5
             }
            },
            "type": "bar"
           }
          ],
          "barpolar": [
           {
            "marker": {
             "line": {
              "color": "#E5ECF6",
              "width": 0.5
             }
            },
            "type": "barpolar"
           }
          ],
          "carpet": [
           {
            "aaxis": {
             "endlinecolor": "#2a3f5f",
             "gridcolor": "white",
             "linecolor": "white",
             "minorgridcolor": "white",
             "startlinecolor": "#2a3f5f"
            },
            "baxis": {
             "endlinecolor": "#2a3f5f",
             "gridcolor": "white",
             "linecolor": "white",
             "minorgridcolor": "white",
             "startlinecolor": "#2a3f5f"
            },
            "type": "carpet"
           }
          ],
          "choropleth": [
           {
            "colorbar": {
             "outlinewidth": 0,
             "ticks": ""
            },
            "type": "choropleth"
           }
          ],
          "contour": [
           {
            "colorbar": {
             "outlinewidth": 0,
             "ticks": ""
            },
            "colorscale": [
             [
              0,
              "#0d0887"
             ],
             [
              0.1111111111111111,
              "#46039f"
             ],
             [
              0.2222222222222222,
              "#7201a8"
             ],
             [
              0.3333333333333333,
              "#9c179e"
             ],
             [
              0.4444444444444444,
              "#bd3786"
             ],
             [
              0.5555555555555556,
              "#d8576b"
             ],
             [
              0.6666666666666666,
              "#ed7953"
             ],
             [
              0.7777777777777778,
              "#fb9f3a"
             ],
             [
              0.8888888888888888,
              "#fdca26"
             ],
             [
              1,
              "#f0f921"
             ]
            ],
            "type": "contour"
           }
          ],
          "contourcarpet": [
           {
            "colorbar": {
             "outlinewidth": 0,
             "ticks": ""
            },
            "type": "contourcarpet"
           }
          ],
          "heatmap": [
           {
            "colorbar": {
             "outlinewidth": 0,
             "ticks": ""
            },
            "colorscale": [
             [
              0,
              "#0d0887"
             ],
             [
              0.1111111111111111,
              "#46039f"
             ],
             [
              0.2222222222222222,
              "#7201a8"
             ],
             [
              0.3333333333333333,
              "#9c179e"
             ],
             [
              0.4444444444444444,
              "#bd3786"
             ],
             [
              0.5555555555555556,
              "#d8576b"
             ],
             [
              0.6666666666666666,
              "#ed7953"
             ],
             [
              0.7777777777777778,
              "#fb9f3a"
             ],
             [
              0.8888888888888888,
              "#fdca26"
             ],
             [
              1,
              "#f0f921"
             ]
            ],
            "type": "heatmap"
           }
          ],
          "heatmapgl": [
           {
            "colorbar": {
             "outlinewidth": 0,
             "ticks": ""
            },
            "colorscale": [
             [
              0,
              "#0d0887"
             ],
             [
              0.1111111111111111,
              "#46039f"
             ],
             [
              0.2222222222222222,
              "#7201a8"
             ],
             [
              0.3333333333333333,
              "#9c179e"
             ],
             [
              0.4444444444444444,
              "#bd3786"
             ],
             [
              0.5555555555555556,
              "#d8576b"
             ],
             [
              0.6666666666666666,
              "#ed7953"
             ],
             [
              0.7777777777777778,
              "#fb9f3a"
             ],
             [
              0.8888888888888888,
              "#fdca26"
             ],
             [
              1,
              "#f0f921"
             ]
            ],
            "type": "heatmapgl"
           }
          ],
          "histogram": [
           {
            "marker": {
             "colorbar": {
              "outlinewidth": 0,
              "ticks": ""
             }
            },
            "type": "histogram"
           }
          ],
          "histogram2d": [
           {
            "colorbar": {
             "outlinewidth": 0,
             "ticks": ""
            },
            "colorscale": [
             [
              0,
              "#0d0887"
             ],
             [
              0.1111111111111111,
              "#46039f"
             ],
             [
              0.2222222222222222,
              "#7201a8"
             ],
             [
              0.3333333333333333,
              "#9c179e"
             ],
             [
              0.4444444444444444,
              "#bd3786"
             ],
             [
              0.5555555555555556,
              "#d8576b"
             ],
             [
              0.6666666666666666,
              "#ed7953"
             ],
             [
              0.7777777777777778,
              "#fb9f3a"
             ],
             [
              0.8888888888888888,
              "#fdca26"
             ],
             [
              1,
              "#f0f921"
             ]
            ],
            "type": "histogram2d"
           }
          ],
          "histogram2dcontour": [
           {
            "colorbar": {
             "outlinewidth": 0,
             "ticks": ""
            },
            "colorscale": [
             [
              0,
              "#0d0887"
             ],
             [
              0.1111111111111111,
              "#46039f"
             ],
             [
              0.2222222222222222,
              "#7201a8"
             ],
             [
              0.3333333333333333,
              "#9c179e"
             ],
             [
              0.4444444444444444,
              "#bd3786"
             ],
             [
              0.5555555555555556,
              "#d8576b"
             ],
             [
              0.6666666666666666,
              "#ed7953"
             ],
             [
              0.7777777777777778,
              "#fb9f3a"
             ],
             [
              0.8888888888888888,
              "#fdca26"
             ],
             [
              1,
              "#f0f921"
             ]
            ],
            "type": "histogram2dcontour"
           }
          ],
          "mesh3d": [
           {
            "colorbar": {
             "outlinewidth": 0,
             "ticks": ""
            },
            "type": "mesh3d"
           }
          ],
          "parcoords": [
           {
            "line": {
             "colorbar": {
              "outlinewidth": 0,
              "ticks": ""
             }
            },
            "type": "parcoords"
           }
          ],
          "pie": [
           {
            "automargin": true,
            "type": "pie"
           }
          ],
          "scatter": [
           {
            "marker": {
             "colorbar": {
              "outlinewidth": 0,
              "ticks": ""
             }
            },
            "type": "scatter"
           }
          ],
          "scatter3d": [
           {
            "line": {
             "colorbar": {
              "outlinewidth": 0,
              "ticks": ""
             }
            },
            "marker": {
             "colorbar": {
              "outlinewidth": 0,
              "ticks": ""
             }
            },
            "type": "scatter3d"
           }
          ],
          "scattercarpet": [
           {
            "marker": {
             "colorbar": {
              "outlinewidth": 0,
              "ticks": ""
             }
            },
            "type": "scattercarpet"
           }
          ],
          "scattergeo": [
           {
            "marker": {
             "colorbar": {
              "outlinewidth": 0,
              "ticks": ""
             }
            },
            "type": "scattergeo"
           }
          ],
          "scattergl": [
           {
            "marker": {
             "colorbar": {
              "outlinewidth": 0,
              "ticks": ""
             }
            },
            "type": "scattergl"
           }
          ],
          "scattermapbox": [
           {
            "marker": {
             "colorbar": {
              "outlinewidth": 0,
              "ticks": ""
             }
            },
            "type": "scattermapbox"
           }
          ],
          "scatterpolar": [
           {
            "marker": {
             "colorbar": {
              "outlinewidth": 0,
              "ticks": ""
             }
            },
            "type": "scatterpolar"
           }
          ],
          "scatterpolargl": [
           {
            "marker": {
             "colorbar": {
              "outlinewidth": 0,
              "ticks": ""
             }
            },
            "type": "scatterpolargl"
           }
          ],
          "scatterternary": [
           {
            "marker": {
             "colorbar": {
              "outlinewidth": 0,
              "ticks": ""
             }
            },
            "type": "scatterternary"
           }
          ],
          "surface": [
           {
            "colorbar": {
             "outlinewidth": 0,
             "ticks": ""
            },
            "colorscale": [
             [
              0,
              "#0d0887"
             ],
             [
              0.1111111111111111,
              "#46039f"
             ],
             [
              0.2222222222222222,
              "#7201a8"
             ],
             [
              0.3333333333333333,
              "#9c179e"
             ],
             [
              0.4444444444444444,
              "#bd3786"
             ],
             [
              0.5555555555555556,
              "#d8576b"
             ],
             [
              0.6666666666666666,
              "#ed7953"
             ],
             [
              0.7777777777777778,
              "#fb9f3a"
             ],
             [
              0.8888888888888888,
              "#fdca26"
             ],
             [
              1,
              "#f0f921"
             ]
            ],
            "type": "surface"
           }
          ],
          "table": [
           {
            "cells": {
             "fill": {
              "color": "#EBF0F8"
             },
             "line": {
              "color": "white"
             }
            },
            "header": {
             "fill": {
              "color": "#C8D4E3"
             },
             "line": {
              "color": "white"
             }
            },
            "type": "table"
           }
          ]
         },
         "layout": {
          "annotationdefaults": {
           "arrowcolor": "#2a3f5f",
           "arrowhead": 0,
           "arrowwidth": 1
          },
          "coloraxis": {
           "colorbar": {
            "outlinewidth": 0,
            "ticks": ""
           }
          },
          "colorscale": {
           "diverging": [
            [
             0,
             "#8e0152"
            ],
            [
             0.1,
             "#c51b7d"
            ],
            [
             0.2,
             "#de77ae"
            ],
            [
             0.3,
             "#f1b6da"
            ],
            [
             0.4,
             "#fde0ef"
            ],
            [
             0.5,
             "#f7f7f7"
            ],
            [
             0.6,
             "#e6f5d0"
            ],
            [
             0.7,
             "#b8e186"
            ],
            [
             0.8,
             "#7fbc41"
            ],
            [
             0.9,
             "#4d9221"
            ],
            [
             1,
             "#276419"
            ]
           ],
           "sequential": [
            [
             0,
             "#0d0887"
            ],
            [
             0.1111111111111111,
             "#46039f"
            ],
            [
             0.2222222222222222,
             "#7201a8"
            ],
            [
             0.3333333333333333,
             "#9c179e"
            ],
            [
             0.4444444444444444,
             "#bd3786"
            ],
            [
             0.5555555555555556,
             "#d8576b"
            ],
            [
             0.6666666666666666,
             "#ed7953"
            ],
            [
             0.7777777777777778,
             "#fb9f3a"
            ],
            [
             0.8888888888888888,
             "#fdca26"
            ],
            [
             1,
             "#f0f921"
            ]
           ],
           "sequentialminus": [
            [
             0,
             "#0d0887"
            ],
            [
             0.1111111111111111,
             "#46039f"
            ],
            [
             0.2222222222222222,
             "#7201a8"
            ],
            [
             0.3333333333333333,
             "#9c179e"
            ],
            [
             0.4444444444444444,
             "#bd3786"
            ],
            [
             0.5555555555555556,
             "#d8576b"
            ],
            [
             0.6666666666666666,
             "#ed7953"
            ],
            [
             0.7777777777777778,
             "#fb9f3a"
            ],
            [
             0.8888888888888888,
             "#fdca26"
            ],
            [
             1,
             "#f0f921"
            ]
           ]
          },
          "colorway": [
           "#636efa",
           "#EF553B",
           "#00cc96",
           "#ab63fa",
           "#FFA15A",
           "#19d3f3",
           "#FF6692",
           "#B6E880",
           "#FF97FF",
           "#FECB52"
          ],
          "font": {
           "color": "#2a3f5f"
          },
          "geo": {
           "bgcolor": "white",
           "lakecolor": "white",
           "landcolor": "#E5ECF6",
           "showlakes": true,
           "showland": true,
           "subunitcolor": "white"
          },
          "hoverlabel": {
           "align": "left"
          },
          "hovermode": "closest",
          "mapbox": {
           "style": "light"
          },
          "paper_bgcolor": "white",
          "plot_bgcolor": "#E5ECF6",
          "polar": {
           "angularaxis": {
            "gridcolor": "white",
            "linecolor": "white",
            "ticks": ""
           },
           "bgcolor": "#E5ECF6",
           "radialaxis": {
            "gridcolor": "white",
            "linecolor": "white",
            "ticks": ""
           }
          },
          "scene": {
           "xaxis": {
            "backgroundcolor": "#E5ECF6",
            "gridcolor": "white",
            "gridwidth": 2,
            "linecolor": "white",
            "showbackground": true,
            "ticks": "",
            "zerolinecolor": "white"
           },
           "yaxis": {
            "backgroundcolor": "#E5ECF6",
            "gridcolor": "white",
            "gridwidth": 2,
            "linecolor": "white",
            "showbackground": true,
            "ticks": "",
            "zerolinecolor": "white"
           },
           "zaxis": {
            "backgroundcolor": "#E5ECF6",
            "gridcolor": "white",
            "gridwidth": 2,
            "linecolor": "white",
            "showbackground": true,
            "ticks": "",
            "zerolinecolor": "white"
           }
          },
          "shapedefaults": {
           "line": {
            "color": "#2a3f5f"
           }
          },
          "ternary": {
           "aaxis": {
            "gridcolor": "white",
            "linecolor": "white",
            "ticks": ""
           },
           "baxis": {
            "gridcolor": "white",
            "linecolor": "white",
            "ticks": ""
           },
           "bgcolor": "#E5ECF6",
           "caxis": {
            "gridcolor": "white",
            "linecolor": "white",
            "ticks": ""
           }
          },
          "title": {
           "x": 0.05
          },
          "xaxis": {
           "automargin": true,
           "gridcolor": "white",
           "linecolor": "white",
           "ticks": "",
           "title": {
            "standoff": 15
           },
           "zerolinecolor": "white",
           "zerolinewidth": 2
          },
          "yaxis": {
           "automargin": true,
           "gridcolor": "white",
           "linecolor": "white",
           "ticks": "",
           "title": {
            "standoff": 15
           },
           "zerolinecolor": "white",
           "zerolinewidth": 2
          }
         }
        },
        "xaxis": {
         "anchor": "y",
         "domain": [
          0,
          1
         ],
         "title": {
          "text": "wspeed"
         }
        },
        "yaxis": {
         "anchor": "x",
         "domain": [
          0,
          1
         ],
         "title": {
          "text": "value"
         }
        }
       }
      },
      "text/html": [
       "<div>                            <div id=\"dc00864e-6adf-4dfc-832c-72dfe2e2ced0\" class=\"plotly-graph-div\" style=\"height:525px; width:100%;\"></div>            <script type=\"text/javascript\">                require([\"plotly\"], function(Plotly) {                    window.PLOTLYENV=window.PLOTLYENV || {};                                    if (document.getElementById(\"dc00864e-6adf-4dfc-832c-72dfe2e2ced0\")) {                    Plotly.newPlot(                        \"dc00864e-6adf-4dfc-832c-72dfe2e2ced0\",                        [{\"hovertemplate\": \"variable=real_prod<br>wspeed=%{x}<br>value=%{y}<extra></extra>\", \"legendgroup\": \"real_prod\", \"marker\": {\"color\": \"#636efa\", \"symbol\": \"circle\"}, \"mode\": \"markers\", \"name\": \"real_prod\", \"orientation\": \"v\", \"showlegend\": true, \"type\": \"scatter\", \"x\": [1.5945196298572182, 1.2585038180315544, 1.29131322691282, 1.635784985870698, 1.2714698659425632, 1.217321206584359, 0.8422001246734651, 1.0041384615679254, 1.3914944951382309, 1.5047596917780592, 2.0955071033045916, 2.5167248280255037, 2.331638737025957, 1.7765827450473564, 1.2818812932561268, 0.6304919111297146, 0.7273273884572201, 1.5061601840441807, 3.085527886764273, 3.7091799430601906, 3.37021477357156, 3.005823045357128, 2.494661269591525, 2.152449590582785, 4.376692519471753], \"xaxis\": \"x\", \"y\": [0.0, 0.0, 0.0, 0.0, 0.0, 0.0, 0.0, 0.0, 0.0, 0.0, 0.0, 0.0, 0.02, 0.0, 0.0, 0.0, 0.05, 0.12, 0.27, 0.49, 0.65, 1.79, 1.25, 1.07, 1.01], \"yaxis\": \"y\"}, {\"hovertemplate\": \"variable=pred_prod<br>wspeed=%{x}<br>value=%{y}<extra></extra>\", \"legendgroup\": \"pred_prod\", \"marker\": {\"color\": \"#EF553B\", \"symbol\": \"circle\"}, \"mode\": \"markers\", \"name\": \"pred_prod\", \"orientation\": \"v\", \"showlegend\": true, \"type\": \"scatter\", \"x\": [1.5945196298572182, 1.2585038180315544, 1.29131322691282, 1.635784985870698, 1.2714698659425632, 1.217321206584359, 0.8422001246734651, 1.0041384615679254, 1.3914944951382309, 1.5047596917780592, 2.0955071033045916, 2.5167248280255037, 2.331638737025957, 1.7765827450473564, 1.2818812932561268, 0.6304919111297146, 0.7273273884572201, 1.5061601840441807, 3.085527886764273, 3.7091799430601906, 3.37021477357156, 3.005823045357128, 2.494661269591525, 2.152449590582785, 4.376692519471753], \"xaxis\": \"x\", \"y\": [0.010615773158890875, 0.02514619161966153, 0.004590945413248091, 0.03593536195982706, 0.010381256825554217, 0.002421004630501826, 0.0, 0.0, 0.013056937505664513, 0.014604691183497654, 0.014734225776432039, 0.07989718402228456, 0.04477260295680232, 0.03031080598345666, 0.0065204225508046255, 0.0, 0.0, 0.025718888613885774, 0.12682057162784502, 0.15732673945815462, 0.17058046234430885, 0.1307445996082653, 0.06762137846410697, 0.012435532102617325, 0.26704375929223845], \"yaxis\": \"y\"}],                        {\"legend\": {\"title\": {\"text\": \"variable\"}, \"tracegroupgap\": 0}, \"margin\": {\"t\": 60}, \"template\": {\"data\": {\"bar\": [{\"error_x\": {\"color\": \"#2a3f5f\"}, \"error_y\": {\"color\": \"#2a3f5f\"}, \"marker\": {\"line\": {\"color\": \"#E5ECF6\", \"width\": 0.5}}, \"type\": \"bar\"}], \"barpolar\": [{\"marker\": {\"line\": {\"color\": \"#E5ECF6\", \"width\": 0.5}}, \"type\": \"barpolar\"}], \"carpet\": [{\"aaxis\": {\"endlinecolor\": \"#2a3f5f\", \"gridcolor\": \"white\", \"linecolor\": \"white\", \"minorgridcolor\": \"white\", \"startlinecolor\": \"#2a3f5f\"}, \"baxis\": {\"endlinecolor\": \"#2a3f5f\", \"gridcolor\": \"white\", \"linecolor\": \"white\", \"minorgridcolor\": \"white\", \"startlinecolor\": \"#2a3f5f\"}, \"type\": \"carpet\"}], \"choropleth\": [{\"colorbar\": {\"outlinewidth\": 0, \"ticks\": \"\"}, \"type\": \"choropleth\"}], \"contour\": [{\"colorbar\": {\"outlinewidth\": 0, \"ticks\": \"\"}, \"colorscale\": [[0.0, \"#0d0887\"], [0.1111111111111111, \"#46039f\"], [0.2222222222222222, \"#7201a8\"], [0.3333333333333333, \"#9c179e\"], [0.4444444444444444, \"#bd3786\"], [0.5555555555555556, \"#d8576b\"], [0.6666666666666666, \"#ed7953\"], [0.7777777777777778, \"#fb9f3a\"], [0.8888888888888888, \"#fdca26\"], [1.0, \"#f0f921\"]], \"type\": \"contour\"}], \"contourcarpet\": [{\"colorbar\": {\"outlinewidth\": 0, \"ticks\": \"\"}, \"type\": \"contourcarpet\"}], \"heatmap\": [{\"colorbar\": {\"outlinewidth\": 0, \"ticks\": \"\"}, \"colorscale\": [[0.0, \"#0d0887\"], [0.1111111111111111, \"#46039f\"], [0.2222222222222222, \"#7201a8\"], [0.3333333333333333, \"#9c179e\"], [0.4444444444444444, \"#bd3786\"], [0.5555555555555556, \"#d8576b\"], [0.6666666666666666, \"#ed7953\"], [0.7777777777777778, \"#fb9f3a\"], [0.8888888888888888, \"#fdca26\"], [1.0, \"#f0f921\"]], \"type\": \"heatmap\"}], \"heatmapgl\": [{\"colorbar\": {\"outlinewidth\": 0, \"ticks\": \"\"}, \"colorscale\": [[0.0, \"#0d0887\"], [0.1111111111111111, \"#46039f\"], [0.2222222222222222, \"#7201a8\"], [0.3333333333333333, \"#9c179e\"], [0.4444444444444444, \"#bd3786\"], [0.5555555555555556, \"#d8576b\"], [0.6666666666666666, \"#ed7953\"], [0.7777777777777778, \"#fb9f3a\"], [0.8888888888888888, \"#fdca26\"], [1.0, \"#f0f921\"]], \"type\": \"heatmapgl\"}], \"histogram\": [{\"marker\": {\"colorbar\": {\"outlinewidth\": 0, \"ticks\": \"\"}}, \"type\": \"histogram\"}], \"histogram2d\": [{\"colorbar\": {\"outlinewidth\": 0, \"ticks\": \"\"}, \"colorscale\": [[0.0, \"#0d0887\"], [0.1111111111111111, \"#46039f\"], [0.2222222222222222, \"#7201a8\"], [0.3333333333333333, \"#9c179e\"], [0.4444444444444444, \"#bd3786\"], [0.5555555555555556, \"#d8576b\"], [0.6666666666666666, \"#ed7953\"], [0.7777777777777778, \"#fb9f3a\"], [0.8888888888888888, \"#fdca26\"], [1.0, \"#f0f921\"]], \"type\": \"histogram2d\"}], \"histogram2dcontour\": [{\"colorbar\": {\"outlinewidth\": 0, \"ticks\": \"\"}, \"colorscale\": [[0.0, \"#0d0887\"], [0.1111111111111111, \"#46039f\"], [0.2222222222222222, \"#7201a8\"], [0.3333333333333333, \"#9c179e\"], [0.4444444444444444, \"#bd3786\"], [0.5555555555555556, \"#d8576b\"], [0.6666666666666666, \"#ed7953\"], [0.7777777777777778, \"#fb9f3a\"], [0.8888888888888888, \"#fdca26\"], [1.0, \"#f0f921\"]], \"type\": \"histogram2dcontour\"}], \"mesh3d\": [{\"colorbar\": {\"outlinewidth\": 0, \"ticks\": \"\"}, \"type\": \"mesh3d\"}], \"parcoords\": [{\"line\": {\"colorbar\": {\"outlinewidth\": 0, \"ticks\": \"\"}}, \"type\": \"parcoords\"}], \"pie\": [{\"automargin\": true, \"type\": \"pie\"}], \"scatter\": [{\"marker\": {\"colorbar\": {\"outlinewidth\": 0, \"ticks\": \"\"}}, \"type\": \"scatter\"}], \"scatter3d\": [{\"line\": {\"colorbar\": {\"outlinewidth\": 0, \"ticks\": \"\"}}, \"marker\": {\"colorbar\": {\"outlinewidth\": 0, \"ticks\": \"\"}}, \"type\": \"scatter3d\"}], \"scattercarpet\": [{\"marker\": {\"colorbar\": {\"outlinewidth\": 0, \"ticks\": \"\"}}, \"type\": \"scattercarpet\"}], \"scattergeo\": [{\"marker\": {\"colorbar\": {\"outlinewidth\": 0, \"ticks\": \"\"}}, \"type\": \"scattergeo\"}], \"scattergl\": [{\"marker\": {\"colorbar\": {\"outlinewidth\": 0, \"ticks\": \"\"}}, \"type\": \"scattergl\"}], \"scattermapbox\": [{\"marker\": {\"colorbar\": {\"outlinewidth\": 0, \"ticks\": \"\"}}, \"type\": \"scattermapbox\"}], \"scatterpolar\": [{\"marker\": {\"colorbar\": {\"outlinewidth\": 0, \"ticks\": \"\"}}, \"type\": \"scatterpolar\"}], \"scatterpolargl\": [{\"marker\": {\"colorbar\": {\"outlinewidth\": 0, \"ticks\": \"\"}}, \"type\": \"scatterpolargl\"}], \"scatterternary\": [{\"marker\": {\"colorbar\": {\"outlinewidth\": 0, \"ticks\": \"\"}}, \"type\": \"scatterternary\"}], \"surface\": [{\"colorbar\": {\"outlinewidth\": 0, \"ticks\": \"\"}, \"colorscale\": [[0.0, \"#0d0887\"], [0.1111111111111111, \"#46039f\"], [0.2222222222222222, \"#7201a8\"], [0.3333333333333333, \"#9c179e\"], [0.4444444444444444, \"#bd3786\"], [0.5555555555555556, \"#d8576b\"], [0.6666666666666666, \"#ed7953\"], [0.7777777777777778, \"#fb9f3a\"], [0.8888888888888888, \"#fdca26\"], [1.0, \"#f0f921\"]], \"type\": \"surface\"}], \"table\": [{\"cells\": {\"fill\": {\"color\": \"#EBF0F8\"}, \"line\": {\"color\": \"white\"}}, \"header\": {\"fill\": {\"color\": \"#C8D4E3\"}, \"line\": {\"color\": \"white\"}}, \"type\": \"table\"}]}, \"layout\": {\"annotationdefaults\": {\"arrowcolor\": \"#2a3f5f\", \"arrowhead\": 0, \"arrowwidth\": 1}, \"coloraxis\": {\"colorbar\": {\"outlinewidth\": 0, \"ticks\": \"\"}}, \"colorscale\": {\"diverging\": [[0, \"#8e0152\"], [0.1, \"#c51b7d\"], [0.2, \"#de77ae\"], [0.3, \"#f1b6da\"], [0.4, \"#fde0ef\"], [0.5, \"#f7f7f7\"], [0.6, \"#e6f5d0\"], [0.7, \"#b8e186\"], [0.8, \"#7fbc41\"], [0.9, \"#4d9221\"], [1, \"#276419\"]], \"sequential\": [[0.0, \"#0d0887\"], [0.1111111111111111, \"#46039f\"], [0.2222222222222222, \"#7201a8\"], [0.3333333333333333, \"#9c179e\"], [0.4444444444444444, \"#bd3786\"], [0.5555555555555556, \"#d8576b\"], [0.6666666666666666, \"#ed7953\"], [0.7777777777777778, \"#fb9f3a\"], [0.8888888888888888, \"#fdca26\"], [1.0, \"#f0f921\"]], \"sequentialminus\": [[0.0, \"#0d0887\"], [0.1111111111111111, \"#46039f\"], [0.2222222222222222, \"#7201a8\"], [0.3333333333333333, \"#9c179e\"], [0.4444444444444444, \"#bd3786\"], [0.5555555555555556, \"#d8576b\"], [0.6666666666666666, \"#ed7953\"], [0.7777777777777778, \"#fb9f3a\"], [0.8888888888888888, \"#fdca26\"], [1.0, \"#f0f921\"]]}, \"colorway\": [\"#636efa\", \"#EF553B\", \"#00cc96\", \"#ab63fa\", \"#FFA15A\", \"#19d3f3\", \"#FF6692\", \"#B6E880\", \"#FF97FF\", \"#FECB52\"], \"font\": {\"color\": \"#2a3f5f\"}, \"geo\": {\"bgcolor\": \"white\", \"lakecolor\": \"white\", \"landcolor\": \"#E5ECF6\", \"showlakes\": true, \"showland\": true, \"subunitcolor\": \"white\"}, \"hoverlabel\": {\"align\": \"left\"}, \"hovermode\": \"closest\", \"mapbox\": {\"style\": \"light\"}, \"paper_bgcolor\": \"white\", \"plot_bgcolor\": \"#E5ECF6\", \"polar\": {\"angularaxis\": {\"gridcolor\": \"white\", \"linecolor\": \"white\", \"ticks\": \"\"}, \"bgcolor\": \"#E5ECF6\", \"radialaxis\": {\"gridcolor\": \"white\", \"linecolor\": \"white\", \"ticks\": \"\"}}, \"scene\": {\"xaxis\": {\"backgroundcolor\": \"#E5ECF6\", \"gridcolor\": \"white\", \"gridwidth\": 2, \"linecolor\": \"white\", \"showbackground\": true, \"ticks\": \"\", \"zerolinecolor\": \"white\"}, \"yaxis\": {\"backgroundcolor\": \"#E5ECF6\", \"gridcolor\": \"white\", \"gridwidth\": 2, \"linecolor\": \"white\", \"showbackground\": true, \"ticks\": \"\", \"zerolinecolor\": \"white\"}, \"zaxis\": {\"backgroundcolor\": \"#E5ECF6\", \"gridcolor\": \"white\", \"gridwidth\": 2, \"linecolor\": \"white\", \"showbackground\": true, \"ticks\": \"\", \"zerolinecolor\": \"white\"}}, \"shapedefaults\": {\"line\": {\"color\": \"#2a3f5f\"}}, \"ternary\": {\"aaxis\": {\"gridcolor\": \"white\", \"linecolor\": \"white\", \"ticks\": \"\"}, \"baxis\": {\"gridcolor\": \"white\", \"linecolor\": \"white\", \"ticks\": \"\"}, \"bgcolor\": \"#E5ECF6\", \"caxis\": {\"gridcolor\": \"white\", \"linecolor\": \"white\", \"ticks\": \"\"}}, \"title\": {\"x\": 0.05}, \"xaxis\": {\"automargin\": true, \"gridcolor\": \"white\", \"linecolor\": \"white\", \"ticks\": \"\", \"title\": {\"standoff\": 15}, \"zerolinecolor\": \"white\", \"zerolinewidth\": 2}, \"yaxis\": {\"automargin\": true, \"gridcolor\": \"white\", \"linecolor\": \"white\", \"ticks\": \"\", \"title\": {\"standoff\": 15}, \"zerolinecolor\": \"white\", \"zerolinewidth\": 2}}}, \"xaxis\": {\"anchor\": \"y\", \"domain\": [0.0, 1.0], \"title\": {\"text\": \"wspeed\"}}, \"yaxis\": {\"anchor\": \"x\", \"domain\": [0.0, 1.0], \"title\": {\"text\": \"value\"}}},                        {\"responsive\": true}                    ).then(function(){\n",
       "                            \n",
       "var gd = document.getElementById('dc00864e-6adf-4dfc-832c-72dfe2e2ced0');\n",
       "var x = new MutationObserver(function (mutations, observer) {{\n",
       "        var display = window.getComputedStyle(gd).display;\n",
       "        if (!display || display === 'none') {{\n",
       "            console.log([gd, 'removed!']);\n",
       "            Plotly.purge(gd);\n",
       "            observer.disconnect();\n",
       "        }}\n",
       "}});\n",
       "\n",
       "// Listen for the removal of the full notebook cells\n",
       "var notebookContainer = gd.closest('#notebook-container');\n",
       "if (notebookContainer) {{\n",
       "    x.observe(notebookContainer, {childList: true});\n",
       "}}\n",
       "\n",
       "// Listen for the clearing of the current output cell\n",
       "var outputEl = gd.closest('.output');\n",
       "if (outputEl) {{\n",
       "    x.observe(outputEl, {childList: true});\n",
       "}}\n",
       "\n",
       "                        })                };                });            </script>        </div>"
      ]
     },
     "metadata": {},
     "output_type": "display_data"
    }
   ],
   "source": [
    "fig = px.scatter(df, x=\"wspeed\", y=[\"real_prod\",\"pred_prod\"])\n",
    "fig.show()"
   ]
  },
  {
   "cell_type": "markdown",
   "metadata": {},
   "source": [
    "### Wind Farm 3: SVM"
   ]
  },
  {
   "cell_type": "markdown",
   "metadata": {},
   "source": [
    "### Wind Farm 6: RF"
   ]
  },
  {
   "cell_type": "markdown",
   "metadata": {},
   "source": [
    "### Wind Farm 1: MARS"
   ]
  },
  {
   "cell_type": "code",
   "execution_count": null,
   "metadata": {},
   "outputs": [],
   "source": []
  }
 ],
 "metadata": {
  "kernelspec": {
   "display_name": "WindPowerForecasting",
   "language": "python",
   "name": "python3"
  },
  "language_info": {
   "codemirror_mode": {
    "name": "ipython",
    "version": 3
   },
   "file_extension": ".py",
   "mimetype": "text/x-python",
   "name": "python",
   "nbconvert_exporter": "python",
   "pygments_lexer": "ipython3",
   "version": "3.7.8"
  }
 },
 "nbformat": 4,
 "nbformat_minor": 4
}
